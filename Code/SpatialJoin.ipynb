{
 "cells": [
  {
   "cell_type": "code",
   "execution_count": 1,
   "id": "a106f94e",
   "metadata": {},
   "outputs": [],
   "source": [
    "import pandas as pd\n",
    "import requests\n",
    "import json\n",
    "import matplotlib.pyplot as plt\n",
    "import numpy as np\n",
    "import os\n",
    "import scipy.stats as st\n",
    "from scipy.stats import linregress\n",
    "import math\n",
    "\n",
    "# import ArcGIS modules from ESRI (requires license)\n",
    "\n",
    "import arcgis\n",
    "from arcgis import GIS\n",
    "from arcgis.features import GeoAccessor, GeoSeriesAccessor"
   ]
  },
  {
   "cell_type": "markdown",
   "id": "da83f49d",
   "metadata": {},
   "source": [
    "## Get Atlanta Neighborhood Planning Unit (NPU) GIS Layer"
   ]
  },
  {
   "cell_type": "code",
   "execution_count": 2,
   "id": "7be3e33c",
   "metadata": {
    "scrolled": true
   },
   "outputs": [
    {
     "data": {
      "text/html": [
       "<div class=\"item_container\" style=\"height: auto; overflow: hidden; border: 1px solid #cfcfcf; border-radius: 2px; background: #f6fafa; line-height: 1.21429em; padding: 10px;\">\n",
       "                    <div class=\"item_left\" style=\"width: 210px; float: left;\">\n",
       "                       <a href='https://www.arcgis.com/home/item.html?id=8979666ab4064d62867204282111151d' target='_blank'>\n",
       "                        <img src='https://www.arcgis.com/sharing/rest//content/items/8979666ab4064d62867204282111151d/info/thumbnail/thumbnail.png' class=\"itemThumbnail\">\n",
       "                       </a>\n",
       "                    </div>\n",
       "\n",
       "                    <div class=\"item_right\"     style=\"float: none; width: auto; overflow: hidden;\">\n",
       "                        <a href='https://www.arcgis.com/home/item.html?id=8979666ab4064d62867204282111151d' target='_blank'><b>Official NPU</b>\n",
       "                        </a>\n",
       "                        <br/>City of Atlanta neighborhood planning units.<img src='https://www.arcgis.com/home/js/jsapi/esri/css/images/item_type_icons/featureshosted16.png' style=\"vertical-align:middle;\">Feature Layer Collection by pthomas7285\n",
       "                        <br/>Last Modified: November 19, 2021\n",
       "                        <br/>0 comments, 5,784 views\n",
       "                    </div>\n",
       "                </div>\n",
       "                "
      ],
      "text/plain": [
       "<Item title:\"Official NPU\" type:Feature Layer Collection owner:pthomas7285>"
      ]
     },
     "execution_count": 2,
     "metadata": {},
     "output_type": "execute_result"
    }
   ],
   "source": [
    "# get the NPU data from the Atlanta arcgis web service using the GIS object 'get' function\n",
    "# As opposed to a an api get request, this retreives the data as the data type(feature layer) needed as input for later spatial functions\n",
    "\n",
    "item = GIS().content.get('8979666ab4064d62867204282111151d')\n",
    "flayer = item.layers[0]\n",
    "item"
   ]
  },
  {
   "cell_type": "code",
   "execution_count": 3,
   "id": "4056bc06",
   "metadata": {
    "scrolled": true
   },
   "outputs": [
    {
     "data": {
      "text/html": [
       "<div>\n",
       "<style scoped>\n",
       "    .dataframe tbody tr th:only-of-type {\n",
       "        vertical-align: middle;\n",
       "    }\n",
       "\n",
       "    .dataframe tbody tr th {\n",
       "        vertical-align: top;\n",
       "    }\n",
       "\n",
       "    .dataframe thead th {\n",
       "        text-align: right;\n",
       "    }\n",
       "</style>\n",
       "<table border=\"1\" class=\"dataframe\">\n",
       "  <thead>\n",
       "    <tr style=\"text-align: right;\">\n",
       "      <th></th>\n",
       "      <th>OBJECTID</th>\n",
       "      <th>NAME</th>\n",
       "      <th>GEOTYPE</th>\n",
       "      <th>FULLFIPS</th>\n",
       "      <th>ACRES</th>\n",
       "      <th>SQMILES</th>\n",
       "      <th>OLDNAME</th>\n",
       "      <th>NPU</th>\n",
       "      <th>CREATED_USER</th>\n",
       "      <th>CREATED_DATE</th>\n",
       "      <th>LAST_EDITED_USER</th>\n",
       "      <th>LAST_EDITED_DATE</th>\n",
       "      <th>GLOBALID</th>\n",
       "      <th>Shape__Area</th>\n",
       "      <th>Shape__Length</th>\n",
       "      <th>SHAPE</th>\n",
       "    </tr>\n",
       "  </thead>\n",
       "  <tbody>\n",
       "    <tr>\n",
       "      <th>0</th>\n",
       "      <td>251</td>\n",
       "      <td>M</td>\n",
       "      <td>NPU</td>\n",
       "      <td>None</td>\n",
       "      <td>2421.90</td>\n",
       "      <td>3.78</td>\n",
       "      <td>None</td>\n",
       "      <td>None</td>\n",
       "      <td>pthomas7285</td>\n",
       "      <td>2021-10-15 20:41:49.766000032</td>\n",
       "      <td>pthomas7285</td>\n",
       "      <td>2021-10-15 20:41:49.766000032</td>\n",
       "      <td>74f21c58-742f-4e79-99e0-2f2749579eeb</td>\n",
       "      <td>1.421945e+07</td>\n",
       "      <td>16218.047071</td>\n",
       "      <td>{\"rings\": [[[-9392012.5074186, 3998477.0773647...</td>\n",
       "    </tr>\n",
       "    <tr>\n",
       "      <th>1</th>\n",
       "      <td>252</td>\n",
       "      <td>Y</td>\n",
       "      <td>NPU</td>\n",
       "      <td>None</td>\n",
       "      <td>2106.63</td>\n",
       "      <td>3.29</td>\n",
       "      <td>None</td>\n",
       "      <td>None</td>\n",
       "      <td>pthomas7285</td>\n",
       "      <td>2021-10-15 20:41:49.766000032</td>\n",
       "      <td>pthomas7285</td>\n",
       "      <td>2021-10-15 20:41:49.766000032</td>\n",
       "      <td>64802558-2dc7-4efd-a0b9-66d50b73c8b1</td>\n",
       "      <td>1.235426e+07</td>\n",
       "      <td>16010.793448</td>\n",
       "      <td>{\"rings\": [[[-9391854.62362555, 3991892.286540...</td>\n",
       "    </tr>\n",
       "    <tr>\n",
       "      <th>2</th>\n",
       "      <td>253</td>\n",
       "      <td>L</td>\n",
       "      <td>NPU</td>\n",
       "      <td>None</td>\n",
       "      <td>846.17</td>\n",
       "      <td>1.32</td>\n",
       "      <td>None</td>\n",
       "      <td>None</td>\n",
       "      <td>pthomas7285</td>\n",
       "      <td>2021-10-15 20:41:49.766000032</td>\n",
       "      <td>pthomas7285</td>\n",
       "      <td>2021-10-15 20:41:49.766000032</td>\n",
       "      <td>7cb60e1b-fa45-4035-b45b-f693e7526874</td>\n",
       "      <td>4.968765e+06</td>\n",
       "      <td>10790.907463</td>\n",
       "      <td>{\"rings\": [[[-9397131.68607033, 3999644.049650...</td>\n",
       "    </tr>\n",
       "    <tr>\n",
       "      <th>3</th>\n",
       "      <td>254</td>\n",
       "      <td>V</td>\n",
       "      <td>NPU</td>\n",
       "      <td>None</td>\n",
       "      <td>2027.09</td>\n",
       "      <td>3.17</td>\n",
       "      <td>None</td>\n",
       "      <td>None</td>\n",
       "      <td>pthomas7285</td>\n",
       "      <td>2021-10-15 20:41:49.766000032</td>\n",
       "      <td>pthomas7285</td>\n",
       "      <td>2021-10-15 20:41:49.766000032</td>\n",
       "      <td>c9e52550-fa86-4f1e-b34b-dac5f795be30</td>\n",
       "      <td>1.189405e+07</td>\n",
       "      <td>14447.131749</td>\n",
       "      <td>{\"rings\": [[[-9393191.78650693, 3994697.156670...</td>\n",
       "    </tr>\n",
       "    <tr>\n",
       "      <th>4</th>\n",
       "      <td>255</td>\n",
       "      <td>B</td>\n",
       "      <td>NPU</td>\n",
       "      <td>None</td>\n",
       "      <td>6516.11</td>\n",
       "      <td>10.18</td>\n",
       "      <td>None</td>\n",
       "      <td>None</td>\n",
       "      <td>pthomas7285</td>\n",
       "      <td>2021-10-15 20:41:49.766000032</td>\n",
       "      <td>pthomas7285</td>\n",
       "      <td>2021-10-15 20:41:49.766000032</td>\n",
       "      <td>1487f50c-e325-47f2-9a1e-a9f0e313bc1d</td>\n",
       "      <td>3.833490e+07</td>\n",
       "      <td>29059.929715</td>\n",
       "      <td>{\"rings\": [[[-9389586.03159145, 4012972.102098...</td>\n",
       "    </tr>\n",
       "  </tbody>\n",
       "</table>\n",
       "</div>"
      ],
      "text/plain": [
       "   OBJECTID  ...                                              SHAPE\n",
       "0       251  ...  {\"rings\": [[[-9392012.5074186, 3998477.0773647...\n",
       "1       252  ...  {\"rings\": [[[-9391854.62362555, 3991892.286540...\n",
       "2       253  ...  {\"rings\": [[[-9397131.68607033, 3999644.049650...\n",
       "3       254  ...  {\"rings\": [[[-9393191.78650693, 3994697.156670...\n",
       "4       255  ...  {\"rings\": [[[-9389586.03159145, 4012972.102098...\n",
       "\n",
       "[5 rows x 16 columns]"
      ]
     },
     "execution_count": 3,
     "metadata": {},
     "output_type": "execute_result"
    }
   ],
   "source": [
    "# create a Spatially Enabled DataFrame object\n",
    "\n",
    "npu = pd.DataFrame.spatial.from_layer(flayer)\n",
    "npu.head()\n",
    "\n",
    "#note the added 'SHAPE' column"
   ]
  },
  {
   "cell_type": "markdown",
   "id": "8ff6b312",
   "metadata": {},
   "source": [
    "## Get Grocery Store Data from Yelp API"
   ]
  },
  {
   "cell_type": "code",
   "execution_count": 4,
   "id": "d69a5f56",
   "metadata": {},
   "outputs": [],
   "source": [
    "# Setup the url for the API call, and include key from config file\n",
    "\n",
    "url = \"https://api.yelp.com/v3/businesses/search?&location=Atlanta,GA&categories=\"\n",
    "api_key = yelp_api_key\n",
    "headers = {\"Authorization\": \"Bearer \" + api_key}"
   ]
  },
  {
   "cell_type": "code",
   "execution_count": 5,
   "id": "b1e56d31",
   "metadata": {
    "scrolled": true
   },
   "outputs": [
    {
     "name": "stdout",
     "output_type": "stream",
     "text": [
      "[{'businesses': [{'id': 'KbyrRWuEeK6uEbtpAUgIdg', 'alias': 'littles-food-store-and-grill-atlanta', 'name': \"Little's Food Store and Grill\", 'image_url': 'https://s3-media4.fl.yelpcdn.com/bphoto/WLyI4YgVz1nc1xOnr-yIbA/o.jpg', 'is_closed': False, 'url': 'https://www.yelp.com/biz/littles-food-store-and-grill-atlanta?adjust_creative=snrJLEHqJkQMzzV_Rc2HBw&utm_campaign=yelp_api_v3&utm_medium=api_v3_business_search&utm_source=snrJLEHqJkQMzzV_Rc2HBw', 'review_count': 189, 'categories': [{'alias': 'grocery', 'title': 'Grocery'}, {'alias': 'beer_and_wine', 'title': 'Beer, Wine & Spirits'}, {'alias': 'burgers', 'title': 'Burgers'}], 'rating': 4.5, 'coordinates': {'latitude': 33.74923, 'longitude': -84.36784}, 'transactions': ['delivery'], 'price': '$', 'location': {'address1': '198 Carroll St', 'address2': '', 'address3': '', 'city': 'Atlanta', 'zip_code': '30312', 'country': 'US', 'state': 'GA', 'display_address': ['198 Carroll St', 'Atlanta, GA 30312']}, 'phone': '+14049637012', 'display_phone': '(404) 963-7012', 'distance': 7135.859656260761}, {'id': '08sxSN6fowRSsdf7soFCuQ', 'alias': 'trader-joes-atlanta', 'name': \"Trader Joe's\", 'image_url': 'https://s3-media4.fl.yelpcdn.com/bphoto/S25xCA7NMZdZvpnm7A4u_w/o.jpg', 'is_closed': False, 'url': 'https://www.yelp.com/biz/trader-joes-atlanta?adjust_creative=snrJLEHqJkQMzzV_Rc2HBw&utm_campaign=yelp_api_v3&utm_medium=api_v3_business_search&utm_source=snrJLEHqJkQMzzV_Rc2HBw', 'review_count': 306, 'categories': [{'alias': 'grocery', 'title': 'Grocery'}], 'rating': 4.0, 'coordinates': {'latitude': 33.7787545, 'longitude': -84.3670198}, 'transactions': [], 'price': '$$', 'location': {'address1': '931 Monroe Dr', 'address2': '', 'address3': '', 'city': 'Atlanta', 'zip_code': '30308', 'country': 'US', 'state': 'GA', 'display_address': ['931 Monroe Dr', 'Atlanta, GA 30308']}, 'phone': '+14048159210', 'display_phone': '(404) 815-9210', 'distance': 3879.9527001781}, {'id': 'A0lj5Ivkjt0jROHDxDbVQA', 'alias': 'trader-joes-atlanta-2', 'name': \"Trader Joe's\", 'image_url': 'https://s3-media2.fl.yelpcdn.com/bphoto/m-rZ7kEJtgURNMg1fLwYHA/o.jpg', 'is_closed': False, 'url': 'https://www.yelp.com/biz/trader-joes-atlanta-2?adjust_creative=snrJLEHqJkQMzzV_Rc2HBw&utm_campaign=yelp_api_v3&utm_medium=api_v3_business_search&utm_source=snrJLEHqJkQMzzV_Rc2HBw', 'review_count': 171, 'categories': [{'alias': 'grocery', 'title': 'Grocery'}], 'rating': 4.5, 'coordinates': {'latitude': 33.8409526, 'longitude': -84.3749849}, 'transactions': [], 'price': '$$', 'location': {'address1': '3183 Peachtree Rd', 'address2': '', 'address3': None, 'city': 'Atlanta', 'zip_code': '30305', 'country': 'US', 'state': 'GA', 'display_address': ['3183 Peachtree Rd', 'Atlanta, GA 30305']}, 'phone': '+14048420907', 'display_phone': '(404) 842-0907', 'distance': 3087.036814230124}, {'id': 'PeIAxpKixg2vKC-JxQ1wUQ', 'alias': 'sevananda-natural-foods-market-atlanta-2', 'name': 'Sevananda Natural Foods Market', 'image_url': 'https://s3-media1.fl.yelpcdn.com/bphoto/tWLvp87b1edVHM3RRh8w-g/o.jpg', 'is_closed': False, 'url': 'https://www.yelp.com/biz/sevananda-natural-foods-market-atlanta-2?adjust_creative=snrJLEHqJkQMzzV_Rc2HBw&utm_campaign=yelp_api_v3&utm_medium=api_v3_business_search&utm_source=snrJLEHqJkQMzzV_Rc2HBw', 'review_count': 240, 'categories': [{'alias': 'grocery', 'title': 'Grocery'}, {'alias': 'organic_stores', 'title': 'Organic Stores'}], 'rating': 4.0, 'coordinates': {'latitude': 33.76712333710428, 'longitude': -84.3486422672868}, 'transactions': [], 'price': '$$', 'location': {'address1': '467 Moreland Ave NE', 'address2': '', 'address3': '', 'city': 'Atlanta', 'zip_code': '30307', 'country': 'US', 'state': 'GA', 'display_address': ['467 Moreland Ave NE', 'Atlanta, GA 30307']}, 'phone': '+14046812831', 'display_phone': '(404) 681-2831', 'distance': 5621.0201789420025}, {'id': 'W45_Bbn_w-2pqgFV9kQe7Q', 'alias': 'candler-park-market-atlanta', 'name': 'Candler Park Market', 'image_url': 'https://s3-media2.fl.yelpcdn.com/bphoto/zOIKBXm4eGdXM6qOIZ49RA/o.jpg', 'is_closed': False, 'url': 'https://www.yelp.com/biz/candler-park-market-atlanta?adjust_creative=snrJLEHqJkQMzzV_Rc2HBw&utm_campaign=yelp_api_v3&utm_medium=api_v3_business_search&utm_source=snrJLEHqJkQMzzV_Rc2HBw', 'review_count': 130, 'categories': [{'alias': 'grocery', 'title': 'Grocery'}, {'alias': 'beer_and_wine', 'title': 'Beer, Wine & Spirits'}, {'alias': 'delis', 'title': 'Delis'}], 'rating': 4.5, 'coordinates': {'latitude': 33.76511, 'longitude': -84.33349}, 'transactions': ['delivery'], 'price': '$$', 'location': {'address1': '1642 McLendon Ave NE', 'address2': '', 'address3': '', 'city': 'Atlanta', 'zip_code': '30307', 'country': 'US', 'state': 'GA', 'display_address': ['1642 McLendon Ave NE', 'Atlanta, GA 30307']}, 'phone': '+14043739787', 'display_phone': '(404) 373-9787', 'distance': 6504.416262885228}, {'id': 'hLpJP1rngQUeWokxTL1BDw', 'alias': 'whole-foods-market-atlanta-9', 'name': 'Whole Foods Market', 'image_url': 'https://s3-media3.fl.yelpcdn.com/bphoto/AAx9TJLnlKBRXyKPI5asSA/o.jpg', 'is_closed': False, 'url': 'https://www.yelp.com/biz/whole-foods-market-atlanta-9?adjust_creative=snrJLEHqJkQMzzV_Rc2HBw&utm_campaign=yelp_api_v3&utm_medium=api_v3_business_search&utm_source=snrJLEHqJkQMzzV_Rc2HBw', 'review_count': 182, 'categories': [{'alias': 'grocery', 'title': 'Grocery'}, {'alias': 'healthmarkets', 'title': 'Health Markets'}, {'alias': 'organic_stores', 'title': 'Organic Stores'}], 'rating': 4.0, 'coordinates': {'latitude': 33.840841, 'longitude': -84.381148}, 'transactions': [], 'price': '$$$', 'location': {'address1': '77 W Paces Ferry Rd NW', 'address2': '', 'address3': '', 'city': 'Atlanta', 'zip_code': '30305', 'country': 'US', 'state': 'GA', 'display_address': ['77 W Paces Ferry Rd NW', 'Atlanta, GA 30305']}, 'phone': '+14043244100', 'display_phone': '(404) 324-4100', 'distance': 3149.657759498649}, {'id': '0NRcugIFwniVkYJw8Yt3PQ', 'alias': 'whole-foods-market-atlanta-atlanta-3', 'name': 'Whole Foods Market - Atlanta', 'image_url': 'https://s3-media3.fl.yelpcdn.com/bphoto/ih1rOCra-khQpg9unygI9A/o.jpg', 'is_closed': False, 'url': 'https://www.yelp.com/biz/whole-foods-market-atlanta-atlanta-3?adjust_creative=snrJLEHqJkQMzzV_Rc2HBw&utm_campaign=yelp_api_v3&utm_medium=api_v3_business_search&utm_source=snrJLEHqJkQMzzV_Rc2HBw', 'review_count': 298, 'categories': [{'alias': 'grocery', 'title': 'Grocery'}, {'alias': 'healthmarkets', 'title': 'Health Markets'}, {'alias': 'organic_stores', 'title': 'Organic Stores'}], 'rating': 3.5, 'coordinates': {'latitude': 33.774805, 'longitude': -84.365756}, 'transactions': [], 'price': '$$', 'location': {'address1': '650 Ponce De Leon Ave NE', 'address2': '', 'address3': '', 'city': 'Atlanta', 'zip_code': '30308', 'country': 'US', 'state': 'GA', 'display_address': ['650 Ponce De Leon Ave NE', 'Atlanta, GA 30308']}, 'phone': '+14048531681', 'display_phone': '(404) 853-1681', 'distance': 4332.270997421388}, {'id': 'L7E9vWuFu1FV48YtRBesZw', 'alias': 'whole-foods-market-atlanta-12', 'name': 'Whole Foods Market', 'image_url': 'https://s3-media3.fl.yelpcdn.com/bphoto/A8Sy6DuTTaHK9-YPkjc6Sg/o.jpg', 'is_closed': False, 'url': 'https://www.yelp.com/biz/whole-foods-market-atlanta-12?adjust_creative=snrJLEHqJkQMzzV_Rc2HBw&utm_campaign=yelp_api_v3&utm_medium=api_v3_business_search&utm_source=snrJLEHqJkQMzzV_Rc2HBw', 'review_count': 87, 'categories': [{'alias': 'grocery', 'title': 'Grocery'}, {'alias': 'organic_stores', 'title': 'Organic Stores'}, {'alias': 'healthmarkets', 'title': 'Health Markets'}], 'rating': 4.0, 'coordinates': {'latitude': 33.786399, 'longitude': -84.389}, 'transactions': [], 'location': {'address1': '22 14th St NW', 'address2': '', 'address3': None, 'city': 'Atlanta', 'zip_code': '30309', 'country': 'US', 'state': 'GA', 'display_address': ['22 14th St NW', 'Atlanta, GA 30309']}, 'phone': '+14705524201', 'display_phone': '(470) 552-4201', 'distance': 3302.6865808262764}, {'id': 'nhzYlUwpy0a-H6-_4GIXWg', 'alias': 'bennetts-market-and-deli-atlanta', 'name': \"Bennett's Market & Deli\", 'image_url': 'https://s3-media3.fl.yelpcdn.com/bphoto/Q2ky4Is5tkyTItTBFQN3Lw/o.jpg', 'is_closed': False, 'url': 'https://www.yelp.com/biz/bennetts-market-and-deli-atlanta?adjust_creative=snrJLEHqJkQMzzV_Rc2HBw&utm_campaign=yelp_api_v3&utm_medium=api_v3_business_search&utm_source=snrJLEHqJkQMzzV_Rc2HBw', 'review_count': 93, 'categories': [{'alias': 'grocery', 'title': 'Grocery'}, {'alias': 'delis', 'title': 'Delis'}, {'alias': 'sandwiches', 'title': 'Sandwiches'}], 'rating': 4.0, 'coordinates': {'latitude': 33.7389639, 'longitude': -84.3681524}, 'transactions': ['delivery', 'pickup'], 'price': '$', 'location': {'address1': '568 Blvd SE', 'address2': None, 'address3': '', 'city': 'Atlanta', 'zip_code': '30312', 'country': 'US', 'state': 'GA', 'display_address': ['568 Blvd SE', 'Atlanta, GA 30312']}, 'phone': '+14048498467', 'display_phone': '(404) 849-8467', 'distance': 8271.61670094699}, {'id': 'LfMMRiSRrawjIJJMfvqwRQ', 'alias': 'grant-park-market-atlanta', 'name': 'Grant Park Market', 'image_url': 'https://s3-media1.fl.yelpcdn.com/bphoto/iaDdOEfxrV1C7pVx3pxKpQ/o.jpg', 'is_closed': False, 'url': 'https://www.yelp.com/biz/grant-park-market-atlanta?adjust_creative=snrJLEHqJkQMzzV_Rc2HBw&utm_campaign=yelp_api_v3&utm_medium=api_v3_business_search&utm_source=snrJLEHqJkQMzzV_Rc2HBw', 'review_count': 84, 'categories': [{'alias': 'grocery', 'title': 'Grocery'}], 'rating': 4.0, 'coordinates': {'latitude': 33.7465954864959, 'longitude': -84.3708385456637}, 'transactions': ['pickup'], 'price': '$$', 'location': {'address1': '519 Memorial Dr', 'address2': '', 'address3': None, 'city': 'Atlanta', 'zip_code': '30312', 'country': 'US', 'state': 'GA', 'display_address': ['519 Memorial Dr', 'Atlanta, GA 30312']}, 'phone': '+14043308014', 'display_phone': '(404) 330-8014', 'distance': 7412.015113844383}, {'id': 'aYyD90HYtQNtJo3q-XEpng', 'alias': 'publix-atlanta-19', 'name': 'Publix', 'image_url': 'https://s3-media2.fl.yelpcdn.com/bphoto/baFgNqDF3dpOuE1harPCNA/o.jpg', 'is_closed': False, 'url': 'https://www.yelp.com/biz/publix-atlanta-19?adjust_creative=snrJLEHqJkQMzzV_Rc2HBw&utm_campaign=yelp_api_v3&utm_medium=api_v3_business_search&utm_source=snrJLEHqJkQMzzV_Rc2HBw', 'review_count': 128, 'categories': [{'alias': 'grocery', 'title': 'Grocery'}], 'rating': 3.5, 'coordinates': {'latitude': 33.780460595815, 'longitude': -84.388785428574}, 'transactions': ['delivery'], 'price': '$$', 'location': {'address1': '950 W Peachtree St NW', 'address2': '', 'address3': 'The Plaza Midtown', 'city': 'Atlanta', 'zip_code': '30309', 'country': 'US', 'state': 'GA', 'display_address': ['950 W Peachtree St NW', 'The Plaza Midtown', 'Atlanta, GA 30309']}, 'phone': '+14042533544', 'display_phone': '(404) 253-3544', 'distance': 3901.995317149881}, {'id': '5qKE2-Y_8ztJZfAMmIybGg', 'alias': 'savi-provisions-inman-park-atlanta', 'name': 'Savi Provisions: Inman Park', 'image_url': 'https://s3-media4.fl.yelpcdn.com/bphoto/aFY0HM8UirCYZpeH_sQvpQ/o.jpg', 'is_closed': False, 'url': 'https://www.yelp.com/biz/savi-provisions-inman-park-atlanta?adjust_creative=snrJLEHqJkQMzzV_Rc2HBw&utm_campaign=yelp_api_v3&utm_medium=api_v3_business_search&utm_source=snrJLEHqJkQMzzV_Rc2HBw', 'review_count': 96, 'categories': [{'alias': 'grocery', 'title': 'Grocery'}, {'alias': 'beer_and_wine', 'title': 'Beer, Wine & Spirits'}], 'rating': 3.5, 'coordinates': {'latitude': 33.762271, 'longitude': -84.357687}, 'transactions': ['delivery', 'pickup'], 'price': '$$', 'location': {'address1': '287 Elizabeth St NE', 'address2': '', 'address3': '', 'city': 'Atlanta', 'zip_code': '30307', 'country': 'US', 'state': 'GA', 'display_address': ['287 Elizabeth St NE', 'Atlanta, GA 30307']}, 'phone': '+14045233131', 'display_phone': '(404) 523-3131', 'distance': 5852.900604014482}, {'id': 'o5FxtoMbMulCdvxR2KaXyQ', 'alias': 'the-fresh-market-atlanta-4', 'name': 'The Fresh Market', 'image_url': 'https://s3-media1.fl.yelpcdn.com/bphoto/9tCuJMOmDT_-DhN0Kkxzhg/o.jpg', 'is_closed': False, 'url': 'https://www.yelp.com/biz/the-fresh-market-atlanta-4?adjust_creative=snrJLEHqJkQMzzV_Rc2HBw&utm_campaign=yelp_api_v3&utm_medium=api_v3_business_search&utm_source=snrJLEHqJkQMzzV_Rc2HBw', 'review_count': 87, 'categories': [{'alias': 'grocery', 'title': 'Grocery'}], 'rating': 3.5, 'coordinates': {'latitude': 33.8121883130727, 'longitude': -84.3913881423279}, 'transactions': [], 'price': '$$', 'location': {'address1': '2099 Peachtree Rd NW', 'address2': None, 'address3': '', 'city': 'Atlanta', 'zip_code': '30309', 'country': 'US', 'state': 'GA', 'display_address': ['2099 Peachtree Rd NW', 'Atlanta, GA 30309']}, 'phone': '+14043503211', 'display_phone': '(404) 350-3211', 'distance': 1644.8852698840374}, {'id': 'xSSIJxYT7O6a7WW8jslIfg', 'alias': 'savi-provisions-roswell-road-atlanta', 'name': 'Savi Provisions: Roswell Road', 'image_url': 'https://s3-media3.fl.yelpcdn.com/bphoto/jtz8Us-y9_2P_5wDlINQAA/o.jpg', 'is_closed': False, 'url': 'https://www.yelp.com/biz/savi-provisions-roswell-road-atlanta?adjust_creative=snrJLEHqJkQMzzV_Rc2HBw&utm_campaign=yelp_api_v3&utm_medium=api_v3_business_search&utm_source=snrJLEHqJkQMzzV_Rc2HBw', 'review_count': 38, 'categories': [{'alias': 'grocery', 'title': 'Grocery'}, {'alias': 'beer_and_wine', 'title': 'Beer, Wine & Spirits'}], 'rating': 4.0, 'coordinates': {'latitude': 33.86185, 'longitude': -84.38109}, 'transactions': [], 'price': '$$', 'location': {'address1': '3906 Roswell Rd', 'address2': 'Ste C', 'address3': None, 'city': 'Atlanta', 'zip_code': '30342', 'country': 'US', 'state': 'GA', 'display_address': ['3906 Roswell Rd', 'Ste C', 'Atlanta, GA 30342']}, 'phone': '+14045232300', 'display_phone': '(404) 523-2300', 'distance': 5434.616935496212}, {'id': 'nkealkXO_mN9_OfovXwZBw', 'alias': 'publix-atlanta-35', 'name': 'Publix', 'image_url': 'https://s3-media3.fl.yelpcdn.com/bphoto/Vse7OMaGrZZXAdimizj_mA/o.jpg', 'is_closed': False, 'url': 'https://www.yelp.com/biz/publix-atlanta-35?adjust_creative=snrJLEHqJkQMzzV_Rc2HBw&utm_campaign=yelp_api_v3&utm_medium=api_v3_business_search&utm_source=snrJLEHqJkQMzzV_Rc2HBw', 'review_count': 79, 'categories': [{'alias': 'grocery', 'title': 'Grocery'}, {'alias': 'drugstores', 'title': 'Drugstores'}], 'rating': 3.5, 'coordinates': {'latitude': 33.8629321595124, 'longitude': -84.4783971281723}, 'transactions': [], 'price': '$$', 'location': {'address1': '2451 Cumberland Pkwy SE', 'address2': '', 'address3': '', 'city': 'Atlanta', 'zip_code': '30339', 'country': 'US', 'state': 'GA', 'display_address': ['2451 Cumberland Pkwy SE', 'Atlanta, GA 30339']}, 'phone': '+17704377000', 'display_phone': '(770) 437-7000', 'distance': 11144.543601761801}, {'id': 'MaIMxWff_Qn8b2PalLdkYw', 'alias': 'kroger-atlanta-63', 'name': 'Kroger', 'image_url': 'https://s3-media1.fl.yelpcdn.com/bphoto/hlb6XYfJ2Wba-EJLN3ZyDw/o.jpg', 'is_closed': False, 'url': 'https://www.yelp.com/biz/kroger-atlanta-63?adjust_creative=snrJLEHqJkQMzzV_Rc2HBw&utm_campaign=yelp_api_v3&utm_medium=api_v3_business_search&utm_source=snrJLEHqJkQMzzV_Rc2HBw', 'review_count': 93, 'categories': [{'alias': 'grocery', 'title': 'Grocery'}], 'rating': 3.5, 'coordinates': {'latitude': 33.8225260223259, 'longitude': -84.3660154259268}, 'transactions': [], 'price': '$$', 'location': {'address1': '2452 Morosgo Way', 'address2': '', 'address3': None, 'city': 'Atlanta', 'zip_code': '30324', 'country': 'US', 'state': 'GA', 'display_address': ['2452 Morosgo Way', 'Atlanta, GA 30324']}, 'phone': '+14049460438', 'display_phone': '(404) 946-0438', 'distance': 1251.7065036350327}, {'id': 'ug291s7trTxmBb6O6FBb-w', 'alias': 'al-amin-restaurant-atlanta', 'name': 'Al-Amin Restaurant', 'image_url': 'https://s3-media2.fl.yelpcdn.com/bphoto/swqUG5LUZ5j9OMCHZ0XsHg/o.jpg', 'is_closed': False, 'url': 'https://www.yelp.com/biz/al-amin-restaurant-atlanta?adjust_creative=snrJLEHqJkQMzzV_Rc2HBw&utm_campaign=yelp_api_v3&utm_medium=api_v3_business_search&utm_source=snrJLEHqJkQMzzV_Rc2HBw', 'review_count': 75, 'categories': [{'alias': 'bangladeshi', 'title': 'Bangladeshi'}, {'alias': 'grocery', 'title': 'Grocery'}], 'rating': 3.5, 'coordinates': {'latitude': 33.901426, 'longitude': -84.276426}, 'transactions': ['delivery', 'pickup'], 'price': '$', 'location': {'address1': '5466 Buford Hwy NE', 'address2': '', 'address3': '', 'city': 'Atlanta', 'zip_code': '30340', 'country': 'US', 'state': 'GA', 'display_address': ['5466 Buford Hwy NE', 'Atlanta, GA 30340']}, 'phone': '+14703754078', 'display_phone': '(470) 375-4078', 'distance': 13295.536238291947}, {'id': 'IOidr6TTOVmGprpnTjnAnA', 'alias': 'brito-supermarket-atlanta', 'name': 'Brito Supermarket', 'image_url': 'https://s3-media3.fl.yelpcdn.com/bphoto/DOD5TvkwsLJqW1siNGmRFg/o.jpg', 'is_closed': False, 'url': 'https://www.yelp.com/biz/brito-supermarket-atlanta?adjust_creative=snrJLEHqJkQMzzV_Rc2HBw&utm_campaign=yelp_api_v3&utm_medium=api_v3_business_search&utm_source=snrJLEHqJkQMzzV_Rc2HBw', 'review_count': 23, 'categories': [{'alias': 'grocery', 'title': 'Grocery'}], 'rating': 4.5, 'coordinates': {'latitude': 33.8367958068848, 'longitude': -84.3371734619141}, 'transactions': [], 'price': '$', 'location': {'address1': '3020 Buford Hwy NE', 'address2': '', 'address3': '', 'city': 'Atlanta', 'zip_code': '30329', 'country': 'US', 'state': 'GA', 'display_address': ['3020 Buford Hwy NE', 'Atlanta, GA 30329']}, 'phone': '+14046335005', 'display_phone': '(404) 633-5005', 'distance': 4265.840980331969}, {'id': 'Ho9xCRoaQnhz5wyu849hYQ', 'alias': 'publix-atlanta-45', 'name': 'Publix', 'image_url': 'https://s3-media3.fl.yelpcdn.com/bphoto/0TmVMQmCN1toJpVNJRXLuw/o.jpg', 'is_closed': False, 'url': 'https://www.yelp.com/biz/publix-atlanta-45?adjust_creative=snrJLEHqJkQMzzV_Rc2HBw&utm_campaign=yelp_api_v3&utm_medium=api_v3_business_search&utm_source=snrJLEHqJkQMzzV_Rc2HBw', 'review_count': 52, 'categories': [{'alias': 'grocery', 'title': 'Grocery'}], 'rating': 4.0, 'coordinates': {'latitude': 33.81354283063447, 'longitude': -84.31129548894414}, 'transactions': ['delivery'], 'price': '$$', 'location': {'address1': '2969 N Druid Hills Rd NE', 'address2': '', 'address3': '', 'city': 'Atlanta', 'zip_code': '30329', 'country': 'US', 'state': 'GA', 'display_address': ['2969 N Druid Hills Rd NE', 'Atlanta, GA 30329']}, 'phone': '+14046386022', 'display_phone': '(404) 638-6022', 'distance': 5758.692911420744}, {'id': '6W0STWusWqUlIkfaYWlVQQ', 'alias': 'sprouts-farmers-market-atlanta-3', 'name': 'Sprouts Farmers Market', 'image_url': 'https://s3-media1.fl.yelpcdn.com/bphoto/f8yhFViT6W86XXUpYDNTrw/o.jpg', 'is_closed': False, 'url': 'https://www.yelp.com/biz/sprouts-farmers-market-atlanta-3?adjust_creative=snrJLEHqJkQMzzV_Rc2HBw&utm_campaign=yelp_api_v3&utm_medium=api_v3_business_search&utm_source=snrJLEHqJkQMzzV_Rc2HBw', 'review_count': 67, 'categories': [{'alias': 'grocery', 'title': 'Grocery'}, {'alias': 'healthmarkets', 'title': 'Health Markets'}, {'alias': 'organic_stores', 'title': 'Organic Stores'}], 'rating': 3.5, 'coordinates': {'latitude': 33.80681, 'longitude': -84.36631}, 'transactions': [], 'price': '$$', 'location': {'address1': '1845 Piedmont Ave NE', 'address2': 'Ste 500', 'address3': None, 'city': 'Atlanta', 'zip_code': '30324', 'country': 'US', 'state': 'GA', 'display_address': ['1845 Piedmont Ave NE', 'Ste 500', 'Atlanta, GA 30324']}, 'phone': '+14047510605', 'display_phone': '(404) 751-0605', 'distance': 981.7847658906604}, {'id': 'FFM3HZMDZIpHbcmHUri_SA', 'alias': 'whole-foods-market-atlanta-atlanta-4', 'name': 'Whole Foods Market - Atlanta', 'image_url': 'https://s3-media2.fl.yelpcdn.com/bphoto/2tZT7Xl9OskzO3MvpPos1Q/o.jpg', 'is_closed': False, 'url': 'https://www.yelp.com/biz/whole-foods-market-atlanta-atlanta-4?adjust_creative=snrJLEHqJkQMzzV_Rc2HBw&utm_campaign=yelp_api_v3&utm_medium=api_v3_business_search&utm_source=snrJLEHqJkQMzzV_Rc2HBw', 'review_count': 82, 'categories': [{'alias': 'grocery', 'title': 'Grocery'}, {'alias': 'healthmarkets', 'title': 'Health Markets'}, {'alias': 'organic_stores', 'title': 'Organic Stores'}], 'rating': 3.5, 'coordinates': {'latitude': 33.88506, 'longitude': -84.314124}, 'transactions': [], 'price': '$$$', 'location': {'address1': '5001 Peachtree Blvd', 'address2': 'Bldg 300', 'address3': None, 'city': 'Atlanta', 'zip_code': '30341', 'country': 'US', 'state': 'GA', 'display_address': ['5001 Peachtree Blvd', 'Bldg 300', 'Atlanta, GA 30341']}, 'phone': '+14705520750', 'display_phone': '(470) 552-0750', 'distance': 9696.324182385542}, {'id': 'b1WO5tHNgJC_RZVd-YTdVg', 'alias': 'kroger-atlanta-57', 'name': 'Kroger', 'image_url': 'https://s3-media1.fl.yelpcdn.com/bphoto/LbsGJOMTtEK1bSCTKW4kbg/o.jpg', 'is_closed': False, 'url': 'https://www.yelp.com/biz/kroger-atlanta-57?adjust_creative=snrJLEHqJkQMzzV_Rc2HBw&utm_campaign=yelp_api_v3&utm_medium=api_v3_business_search&utm_source=snrJLEHqJkQMzzV_Rc2HBw', 'review_count': 119, 'categories': [{'alias': 'grocery', 'title': 'Grocery'}], 'rating': 3.0, 'coordinates': {'latitude': 33.740563, 'longitude': -84.361913}, 'transactions': [], 'price': '$$', 'location': {'address1': '800 Glenwood Avenue', 'address2': '', 'address3': None, 'city': 'Atlanta', 'zip_code': '30316', 'country': 'US', 'state': 'GA', 'display_address': ['800 Glenwood Avenue', 'Atlanta, GA 30316']}, 'phone': '+14704475030', 'display_phone': '(470) 447-5030', 'distance': 8150.540834627957}, {'id': 'iEc8t1VEHI1-U6vp6yt2Sw', 'alias': 'publix-atlanta-25', 'name': 'Publix', 'image_url': 'https://s3-media1.fl.yelpcdn.com/bphoto/CINbZ6p2cd9pN_8eSfHwsg/o.jpg', 'is_closed': False, 'url': 'https://www.yelp.com/biz/publix-atlanta-25?adjust_creative=snrJLEHqJkQMzzV_Rc2HBw&utm_campaign=yelp_api_v3&utm_medium=api_v3_business_search&utm_source=snrJLEHqJkQMzzV_Rc2HBw', 'review_count': 60, 'categories': [{'alias': 'grocery', 'title': 'Grocery'}], 'rating': 3.5, 'coordinates': {'latitude': 33.7730710260892, 'longitude': -84.3542830089023}, 'transactions': ['delivery'], 'price': '$$', 'location': {'address1': '1001 Ponce De Leon Ave NE', 'address2': '', 'address3': '', 'city': 'Atlanta', 'zip_code': '30306', 'country': 'US', 'state': 'GA', 'display_address': ['1001 Ponce De Leon Ave NE', 'Atlanta, GA 30306']}, 'phone': '+14048929229', 'display_phone': '(404) 892-9229', 'distance': 4808.210883373119}, {'id': '3lPMYiIC7zqRGfYhnJdxrg', 'alias': 'savi-provisions-brookhaven-atlanta-2', 'name': 'Savi Provisions: Brookhaven', 'image_url': 'https://s3-media3.fl.yelpcdn.com/bphoto/z7ESA29lV5aTTRNnf_Q0-g/o.jpg', 'is_closed': False, 'url': 'https://www.yelp.com/biz/savi-provisions-brookhaven-atlanta-2?adjust_creative=snrJLEHqJkQMzzV_Rc2HBw&utm_campaign=yelp_api_v3&utm_medium=api_v3_business_search&utm_source=snrJLEHqJkQMzzV_Rc2HBw', 'review_count': 43, 'categories': [{'alias': 'grocery', 'title': 'Grocery'}, {'alias': 'beer_and_wine', 'title': 'Beer, Wine & Spirits'}], 'rating': 4.0, 'coordinates': {'latitude': 33.86098, 'longitude': -84.3323}, 'transactions': ['delivery', 'pickup'], 'price': '$$', 'location': {'address1': '1388 Dresden Dr', 'address2': '', 'address3': '', 'city': 'Atlanta', 'zip_code': '30319', 'country': 'US', 'state': 'GA', 'display_address': ['1388 Dresden Dr', 'Atlanta, GA 30319']}, 'phone': '+14048691818', 'display_phone': '(404) 869-1818', 'distance': 6545.491516013785}, {'id': 'XmRvGRlYXKKEM2JAWp1mQw', 'alias': 'publix-atlanta-38', 'name': 'Publix', 'image_url': 'https://s3-media3.fl.yelpcdn.com/bphoto/inz21baZeRMpOUpgODrtyw/o.jpg', 'is_closed': False, 'url': 'https://www.yelp.com/biz/publix-atlanta-38?adjust_creative=snrJLEHqJkQMzzV_Rc2HBw&utm_campaign=yelp_api_v3&utm_medium=api_v3_business_search&utm_source=snrJLEHqJkQMzzV_Rc2HBw', 'review_count': 38, 'categories': [{'alias': 'grocery', 'title': 'Grocery'}], 'rating': 4.0, 'coordinates': {'latitude': 33.821004, 'longitude': -84.386615}, 'transactions': ['delivery'], 'price': '$$', 'location': {'address1': '2365 Peachtree Rd NE', 'address2': '', 'address3': '', 'city': 'Atlanta', 'zip_code': '30305', 'country': 'US', 'state': 'GA', 'display_address': ['2365 Peachtree Rd NE', 'Atlanta, GA 30305']}, 'phone': '+14048696556', 'display_phone': '(404) 869-6556', 'distance': 1479.9422902536512}, {'id': 'GhyLI4iDfkKUa99tofre0Q', 'alias': 'publix-atlanta-36', 'name': 'Publix', 'image_url': 'https://s3-media1.fl.yelpcdn.com/bphoto/9fuhZfzoazId_wmgka5tnQ/o.jpg', 'is_closed': False, 'url': 'https://www.yelp.com/biz/publix-atlanta-36?adjust_creative=snrJLEHqJkQMzzV_Rc2HBw&utm_campaign=yelp_api_v3&utm_medium=api_v3_business_search&utm_source=snrJLEHqJkQMzzV_Rc2HBw', 'review_count': 45, 'categories': [{'alias': 'grocery', 'title': 'Grocery'}, {'alias': 'drugstores', 'title': 'Drugstores'}], 'rating': 3.5, 'coordinates': {'latitude': 33.835166822699, 'longitude': -84.3838090338875}, 'transactions': ['delivery'], 'price': '$$', 'location': {'address1': '2900 Peachtree Rd NE', 'address2': '', 'address3': 'The Peach Shopping Center', 'city': 'Atlanta', 'zip_code': '30305', 'country': 'US', 'state': 'GA', 'display_address': ['2900 Peachtree Rd NE', 'The Peach Shopping Center', 'Atlanta, GA 30305']}, 'phone': '+14048480330', 'display_phone': '(404) 848-0330', 'distance': 2616.0789929922857}, {'id': 'yS-I_9pdWfR1z07i9VKlhg', 'alias': 'publix-atlanta-2', 'name': 'Publix', 'image_url': 'https://s3-media2.fl.yelpcdn.com/bphoto/jGDXWEHcGbWNJ1NhGFN_ZQ/o.jpg', 'is_closed': False, 'url': 'https://www.yelp.com/biz/publix-atlanta-2?adjust_creative=snrJLEHqJkQMzzV_Rc2HBw&utm_campaign=yelp_api_v3&utm_medium=api_v3_business_search&utm_source=snrJLEHqJkQMzzV_Rc2HBw', 'review_count': 60, 'categories': [{'alias': 'grocery', 'title': 'Grocery'}], 'rating': 3.5, 'coordinates': {'latitude': 33.79253, 'longitude': -84.3976249}, 'transactions': ['delivery'], 'price': '$$', 'location': {'address1': '1380 Atlantic Dr NW', 'address2': '', 'address3': '', 'city': 'Atlanta', 'zip_code': '30363', 'country': 'US', 'state': 'GA', 'display_address': ['1380 Atlantic Dr NW', 'Atlanta, GA 30363']}, 'phone': '+14048735055', 'display_phone': '(404) 873-5055', 'distance': 3194.999147288522}, {'id': 'hyfGAQintBFY064gjLbRDg', 'alias': 'carniceria-ramirez-atlanta', 'name': 'Carniceria Ramirez', 'image_url': 'https://s3-media1.fl.yelpcdn.com/bphoto/D0hemZPkRDcnFOitKrMtmw/o.jpg', 'is_closed': False, 'url': 'https://www.yelp.com/biz/carniceria-ramirez-atlanta?adjust_creative=snrJLEHqJkQMzzV_Rc2HBw&utm_campaign=yelp_api_v3&utm_medium=api_v3_business_search&utm_source=snrJLEHqJkQMzzV_Rc2HBw', 'review_count': 22, 'categories': [{'alias': 'mexican', 'title': 'Mexican'}, {'alias': 'grocery', 'title': 'Grocery'}], 'rating': 4.5, 'coordinates': {'latitude': 33.820556640625, 'longitude': -84.4500045776367}, 'transactions': ['delivery'], 'price': '$', 'location': {'address1': '2600 Bolton Rd NW', 'address2': '', 'address3': '', 'city': 'Atlanta', 'zip_code': '30318', 'country': 'US', 'state': 'GA', 'display_address': ['2600 Bolton Rd NW', 'Atlanta, GA 30318']}, 'phone': '+14043556132', 'display_phone': '(404) 355-6132', 'distance': 7105.735363045536}, {'id': 'nkBL-uZYUZkPZgwAj0vfsw', 'alias': 'oak-grove-market-decatur', 'name': 'Oak Grove Market', 'image_url': 'https://s3-media4.fl.yelpcdn.com/bphoto/Sp2TrkdCUoUrNReRLS2yNg/o.jpg', 'is_closed': False, 'url': 'https://www.yelp.com/biz/oak-grove-market-decatur?adjust_creative=snrJLEHqJkQMzzV_Rc2HBw&utm_campaign=yelp_api_v3&utm_medium=api_v3_business_search&utm_source=snrJLEHqJkQMzzV_Rc2HBw', 'review_count': 71, 'categories': [{'alias': 'delis', 'title': 'Delis'}, {'alias': 'butcher', 'title': 'Butcher'}, {'alias': 'grocery', 'title': 'Grocery'}], 'rating': 4.5, 'coordinates': {'latitude': 33.8238496282777, 'longitude': -84.2934995729172}, 'transactions': ['delivery'], 'price': '$', 'location': {'address1': '2757 Lavista Rd', 'address2': '', 'address3': '', 'city': 'Decatur', 'zip_code': '30033', 'country': 'US', 'state': 'GA', 'display_address': ['2757 Lavista Rd', 'Decatur, GA 30033']}, 'phone': '+14043159831', 'display_phone': '(404) 315-9831', 'distance': 7496.128265099315}, {'id': '3fIaiTPAdl-ggPNrgpVMoA', 'alias': 'kroger-atlanta-70', 'name': 'Kroger', 'image_url': 'https://s3-media1.fl.yelpcdn.com/bphoto/5cRg6QcBAll81qemyZ4-Jg/o.jpg', 'is_closed': False, 'url': 'https://www.yelp.com/biz/kroger-atlanta-70?adjust_creative=snrJLEHqJkQMzzV_Rc2HBw&utm_campaign=yelp_api_v3&utm_medium=api_v3_business_search&utm_source=snrJLEHqJkQMzzV_Rc2HBw', 'review_count': 104, 'categories': [{'alias': 'grocery', 'title': 'Grocery'}], 'rating': 3.0, 'coordinates': {'latitude': 33.77169, 'longitude': -84.363386}, 'transactions': [], 'price': '$$', 'location': {'address1': '725 Ponce De Leon Ave NE', 'address2': '', 'address3': None, 'city': 'Atlanta', 'zip_code': '30306', 'country': 'US', 'state': 'GA', 'display_address': ['725 Ponce De Leon Ave NE', 'Atlanta, GA 30306']}, 'phone': '+14703514222', 'display_phone': '(470) 351-4222', 'distance': 4713.138171856974}, {'id': 'nUneFTEYGTUNSVefdFXsfQ', 'alias': 'savi-provisions-midtown-atlanta', 'name': 'Savi Provisions: Midtown', 'image_url': 'https://s3-media3.fl.yelpcdn.com/bphoto/LsyTKwVY399AkUNVc8VrzA/o.jpg', 'is_closed': False, 'url': 'https://www.yelp.com/biz/savi-provisions-midtown-atlanta?adjust_creative=snrJLEHqJkQMzzV_Rc2HBw&utm_campaign=yelp_api_v3&utm_medium=api_v3_business_search&utm_source=snrJLEHqJkQMzzV_Rc2HBw', 'review_count': 55, 'categories': [{'alias': 'grocery', 'title': 'Grocery'}, {'alias': 'beer_and_wine', 'title': 'Beer, Wine & Spirits'}], 'rating': 3.5, 'coordinates': {'latitude': 33.7810517, 'longitude': -84.3843077}, 'transactions': ['delivery', 'pickup'], 'price': '$$', 'location': {'address1': '988 Peachtree St NE', 'address2': '', 'address3': '', 'city': 'Atlanta', 'zip_code': '30309', 'country': 'US', 'state': 'GA', 'display_address': ['988 Peachtree St NE', 'Atlanta, GA 30309']}, 'phone': '+16789742120', 'display_phone': '(678) 974-2120', 'distance': 3709.877104698524}, {'id': 'YZ09x8DSqeYhPiZrfwiALw', 'alias': 'kroger-atlanta-51', 'name': 'Kroger', 'image_url': 'https://s3-media4.fl.yelpcdn.com/bphoto/0mawdgg3TVT2oCvw0bul1g/o.jpg', 'is_closed': False, 'url': 'https://www.yelp.com/biz/kroger-atlanta-51?adjust_creative=snrJLEHqJkQMzzV_Rc2HBw&utm_campaign=yelp_api_v3&utm_medium=api_v3_business_search&utm_source=snrJLEHqJkQMzzV_Rc2HBw', 'review_count': 119, 'categories': [{'alias': 'grocery', 'title': 'Grocery'}, {'alias': 'drugstores', 'title': 'Drugstores'}], 'rating': 3.0, 'coordinates': {'latitude': 33.7563221781888, 'longitude': -84.3480281607857}, 'transactions': [], 'price': '$$', 'location': {'address1': '1225 Caroline St NE', 'address2': '', 'address3': '', 'city': 'Atlanta', 'zip_code': '30307', 'country': 'US', 'state': 'GA', 'display_address': ['1225 Caroline St NE', 'Atlanta, GA 30307']}, 'phone': '+14048804105', 'display_phone': '(404) 880-4105', 'distance': 6753.871699576321}, {'id': 'Cg5y1WunbazYDjt0s1qy5A', 'alias': 'l-and-m-service-market-atlanta', 'name': 'L & M Service Market', 'image_url': 'https://s3-media4.fl.yelpcdn.com/bphoto/t6MqIgyqWhUvZHwL0TCQkw/o.jpg', 'is_closed': False, 'url': 'https://www.yelp.com/biz/l-and-m-service-market-atlanta?adjust_creative=snrJLEHqJkQMzzV_Rc2HBw&utm_campaign=yelp_api_v3&utm_medium=api_v3_business_search&utm_source=snrJLEHqJkQMzzV_Rc2HBw', 'review_count': 10, 'categories': [{'alias': 'grocery', 'title': 'Grocery'}], 'rating': 5.0, 'coordinates': {'latitude': 33.7760315, 'longitude': -84.377388}, 'transactions': [], 'price': '$$', 'location': {'address1': '785 Argonne Ave NE', 'address2': '', 'address3': '', 'city': 'Atlanta', 'zip_code': '30308', 'country': 'US', 'state': 'GA', 'display_address': ['785 Argonne Ave NE', 'Atlanta, GA 30308']}, 'phone': '+14048760576', 'display_phone': '(404) 876-0576', 'distance': 4153.610175010259}, {'id': 'qnxt08TTnmxGYiWyopQ3rA', 'alias': 'whole-foods-market-atlanta-15', 'name': 'Whole Foods Market', 'image_url': 'https://s3-media2.fl.yelpcdn.com/bphoto/74eWhhSNRdcUiwcQitYkZA/o.jpg', 'is_closed': False, 'url': 'https://www.yelp.com/biz/whole-foods-market-atlanta-15?adjust_creative=snrJLEHqJkQMzzV_Rc2HBw&utm_campaign=yelp_api_v3&utm_medium=api_v3_business_search&utm_source=snrJLEHqJkQMzzV_Rc2HBw', 'review_count': 29, 'categories': [{'alias': 'grocery', 'title': 'Grocery'}, {'alias': 'healthmarkets', 'title': 'Health Markets'}, {'alias': 'organic_stores', 'title': 'Organic Stores'}], 'rating': 4.0, 'coordinates': {'latitude': 33.850181, 'longitude': -84.429551}, 'transactions': [], 'location': {'address1': '3535 Northside Pkwy', 'address2': None, 'address3': None, 'city': 'Atlanta', 'zip_code': '30327', 'country': 'US', 'state': 'GA', 'display_address': ['3535 Northside Pkwy', 'Atlanta, GA 30327']}, 'phone': '+14705523040', 'display_phone': '(470) 552-3040', 'distance': 6601.536434583691}, {'id': 'osz-yyNoXy57f5I2Pf7ZNw', 'alias': 'kroger-atlanta-7', 'name': 'Kroger', 'image_url': 'https://s3-media2.fl.yelpcdn.com/bphoto/W0qZXi62xhYfngrZ6o8Nng/o.jpg', 'is_closed': False, 'url': 'https://www.yelp.com/biz/kroger-atlanta-7?adjust_creative=snrJLEHqJkQMzzV_Rc2HBw&utm_campaign=yelp_api_v3&utm_medium=api_v3_business_search&utm_source=snrJLEHqJkQMzzV_Rc2HBw', 'review_count': 79, 'categories': [{'alias': 'drugstores', 'title': 'Drugstores'}, {'alias': 'grocery', 'title': 'Grocery'}], 'rating': 3.0, 'coordinates': {'latitude': 33.8005638122559, 'longitude': -84.3727264404297}, 'transactions': [], 'price': '$$', 'location': {'address1': '1700 Monroe Drive NE', 'address2': '', 'address3': '', 'city': 'Atlanta', 'zip_code': '30324', 'country': 'US', 'state': 'GA', 'display_address': ['1700 Monroe Drive NE', 'Atlanta, GA 30324']}, 'phone': '+14048720782', 'display_phone': '(404) 872-0782', 'distance': 1413.2378595993716}, {'id': 'zz9reWVOhZXVgZcA6aNyDg', 'alias': 'publix-brookhaven', 'name': 'Publix', 'image_url': 'https://s3-media3.fl.yelpcdn.com/bphoto/hJPokqdjFqnltkIWIrHUMw/o.jpg', 'is_closed': False, 'url': 'https://www.yelp.com/biz/publix-brookhaven?adjust_creative=snrJLEHqJkQMzzV_Rc2HBw&utm_campaign=yelp_api_v3&utm_medium=api_v3_business_search&utm_source=snrJLEHqJkQMzzV_Rc2HBw', 'review_count': 81, 'categories': [{'alias': 'grocery', 'title': 'Grocery'}, {'alias': 'bakeries', 'title': 'Bakeries'}, {'alias': 'pharmacy', 'title': 'Pharmacy'}], 'rating': 4.0, 'coordinates': {'latitude': 33.870255, 'longitude': -84.334788}, 'transactions': ['delivery'], 'price': '$$', 'location': {'address1': '104 Town Blvd', 'address2': 'Ste A100', 'address3': '', 'city': 'Brookhaven', 'zip_code': '30319', 'country': 'US', 'state': 'GA', 'display_address': ['104 Town Blvd', 'Ste A100', 'Brookhaven, GA 30319']}, 'phone': '+14042337475', 'display_phone': '(404) 233-7475', 'distance': 7286.77683565607}, {'id': '3ktXfF4e-NynVB2t68XL8g', 'alias': 'lidl-atlanta-7', 'name': 'Lidl', 'image_url': 'https://s3-media3.fl.yelpcdn.com/bphoto/hc13BEnTVH9XjxsSIB4ILA/o.jpg', 'is_closed': False, 'url': 'https://www.yelp.com/biz/lidl-atlanta-7?adjust_creative=snrJLEHqJkQMzzV_Rc2HBw&utm_campaign=yelp_api_v3&utm_medium=api_v3_business_search&utm_source=snrJLEHqJkQMzzV_Rc2HBw', 'review_count': 24, 'categories': [{'alias': 'grocery', 'title': 'Grocery'}, {'alias': 'bakeries', 'title': 'Bakeries'}, {'alias': 'petstore', 'title': 'Pet Stores'}], 'rating': 4.0, 'coordinates': {'latitude': 33.82800682216151, 'longitude': -84.3331597987419}, 'transactions': [], 'location': {'address1': '2480 Briarcliff Rd NE', 'address2': 'Ste 19C', 'address3': None, 'city': 'Atlanta', 'zip_code': '30329', 'country': 'US', 'state': 'GA', 'display_address': ['2480 Briarcliff Rd NE', 'Ste 19C', 'Atlanta, GA 30329']}, 'phone': '+18447475435', 'display_phone': '(844) 747-5435', 'distance': 4084.2099302590814}, {'id': 'Zck402AjweHeb9ViMA0QyQ', 'alias': 'publix-atlanta', 'name': 'Publix', 'image_url': 'https://s3-media3.fl.yelpcdn.com/bphoto/96nHEEZZw9mhncYeHOS0mQ/o.jpg', 'is_closed': False, 'url': 'https://www.yelp.com/biz/publix-atlanta?adjust_creative=snrJLEHqJkQMzzV_Rc2HBw&utm_campaign=yelp_api_v3&utm_medium=api_v3_business_search&utm_source=snrJLEHqJkQMzzV_Rc2HBw', 'review_count': 44, 'categories': [{'alias': 'grocery', 'title': 'Grocery'}], 'rating': 3.5, 'coordinates': {'latitude': 33.799073, 'longitude': -84.371806}, 'transactions': ['delivery'], 'price': '$$', 'location': {'address1': '1544 Piedmont Rd', 'address2': '', 'address3': '', 'city': 'Atlanta', 'zip_code': '30324', 'country': 'US', 'state': 'GA', 'display_address': ['1544 Piedmont Rd', 'Atlanta, GA 30324']}, 'phone': '+14048981850', 'display_phone': '(404) 898-1850', 'distance': 1581.2811121984087}, {'id': 'kSVHEl56D-k15nOnoR3KKA', 'alias': 'the-fresh-market-atlanta-6', 'name': 'The Fresh Market', 'image_url': 'https://s3-media4.fl.yelpcdn.com/bphoto/soTsnsn9g5GFias2TYpVeg/o.jpg', 'is_closed': False, 'url': 'https://www.yelp.com/biz/the-fresh-market-atlanta-6?adjust_creative=snrJLEHqJkQMzzV_Rc2HBw&utm_campaign=yelp_api_v3&utm_medium=api_v3_business_search&utm_source=snrJLEHqJkQMzzV_Rc2HBw', 'review_count': 44, 'categories': [{'alias': 'grocery', 'title': 'Grocery'}], 'rating': 3.5, 'coordinates': {'latitude': 33.874522640924, 'longitude': -84.380122478222}, 'transactions': [], 'price': '$$', 'location': {'address1': '4405 Roswell Rd', 'address2': '', 'address3': '', 'city': 'Atlanta', 'zip_code': '30342', 'country': 'US', 'state': 'GA', 'display_address': ['4405 Roswell Rd', 'Atlanta, GA 30342']}, 'phone': '+14042500852', 'display_phone': '(404) 250-0852', 'distance': 6843.64498255717}, {'id': 'ia20AWEC1wSqYNH7zp8Fhg', 'alias': 'kelly-s-market-decatur', 'name': 'Kelly’s Market', 'image_url': 'https://s3-media3.fl.yelpcdn.com/bphoto/Zk6vR7Te5rQEVKAocCag4w/o.jpg', 'is_closed': False, 'url': 'https://www.yelp.com/biz/kelly-s-market-decatur?adjust_creative=snrJLEHqJkQMzzV_Rc2HBw&utm_campaign=yelp_api_v3&utm_medium=api_v3_business_search&utm_source=snrJLEHqJkQMzzV_Rc2HBw', 'review_count': 32, 'categories': [{'alias': 'grocery', 'title': 'Grocery'}, {'alias': 'sandwiches', 'title': 'Sandwiches'}, {'alias': 'beer_and_wine', 'title': 'Beer, Wine & Spirits'}], 'rating': 5.0, 'coordinates': {'latitude': 33.7719045678349, 'longitude': -84.292196887111}, 'transactions': ['delivery', 'pickup'], 'location': {'address1': '308 E Howard Ave', 'address2': '', 'address3': None, 'city': 'Decatur', 'zip_code': '30030', 'country': 'US', 'state': 'GA', 'display_address': ['308 E Howard Ave', 'Decatur, GA 30030']}, 'phone': '+14049962925', 'display_phone': '(404) 996-2925', 'distance': 8816.004321853272}, {'id': '94wE8kePeN94qj550R16eQ', 'alias': 'the-kroger-company-atlanta-4', 'name': 'The Kroger Company', 'image_url': 'https://s3-media3.fl.yelpcdn.com/bphoto/4cI1a8XtwHKtkBGR00_siw/o.jpg', 'is_closed': False, 'url': 'https://www.yelp.com/biz/the-kroger-company-atlanta-4?adjust_creative=snrJLEHqJkQMzzV_Rc2HBw&utm_campaign=yelp_api_v3&utm_medium=api_v3_business_search&utm_source=snrJLEHqJkQMzzV_Rc2HBw', 'review_count': 59, 'categories': [{'alias': 'grocery', 'title': 'Grocery'}], 'rating': 3.0, 'coordinates': {'latitude': 33.856544, 'longitude': -84.344985}, 'transactions': [], 'price': '$$', 'location': {'address1': '3871 Peachtree Rd NE', 'address2': '', 'address3': '', 'city': 'Atlanta', 'zip_code': '30319', 'country': 'US', 'state': 'GA', 'display_address': ['3871 Peachtree Rd NE', 'Atlanta, GA 30319']}, 'phone': '+14042400808', 'display_phone': '(404) 240-0808', 'distance': 5496.648735777558}, {'id': '0Buo2rLovCdtUPH2C1RYlQ', 'alias': 'the-spicy-peach-atlanta', 'name': 'the spicy peach', 'image_url': 'https://s3-media4.fl.yelpcdn.com/bphoto/KGohktRPv_5vcECrAxOoyw/o.jpg', 'is_closed': False, 'url': 'https://www.yelp.com/biz/the-spicy-peach-atlanta?adjust_creative=snrJLEHqJkQMzzV_Rc2HBw&utm_campaign=yelp_api_v3&utm_medium=api_v3_business_search&utm_source=snrJLEHqJkQMzzV_Rc2HBw', 'review_count': 16, 'categories': [{'alias': 'grocery', 'title': 'Grocery'}], 'rating': 4.5, 'coordinates': {'latitude': 33.8167536, 'longitude': -84.3112714}, 'transactions': ['delivery', 'pickup'], 'price': '$', 'location': {'address1': '2887 N Druid Hills Rd', 'address2': '', 'address3': 'Tocco Hills Shopping Ctr', 'city': 'Atlanta', 'zip_code': '30329', 'country': 'US', 'state': 'GA', 'display_address': ['2887 N Druid Hills Rd', 'Tocco Hills Shopping Ctr', 'Atlanta, GA 30329']}, 'phone': '+14043347200', 'display_phone': '(404) 334-7200', 'distance': 5774.129995012866}, {'id': 'Ptic_P51E4x2kghGpNaDDQ', 'alias': 'publix-atlanta-3', 'name': 'Publix', 'image_url': 'https://s3-media2.fl.yelpcdn.com/bphoto/-HRxKSNEXpc03zuWWp1mGA/o.jpg', 'is_closed': False, 'url': 'https://www.yelp.com/biz/publix-atlanta-3?adjust_creative=snrJLEHqJkQMzzV_Rc2HBw&utm_campaign=yelp_api_v3&utm_medium=api_v3_business_search&utm_source=snrJLEHqJkQMzzV_Rc2HBw', 'review_count': 47, 'categories': [{'alias': 'grocery', 'title': 'Grocery'}], 'rating': 3.5, 'coordinates': {'latitude': 33.81024, 'longitude': -84.414552}, 'transactions': [], 'price': '$$', 'location': {'address1': '2020 Howell Mill Rd NW', 'address2': 'Ste A', 'address3': '', 'city': 'Atlanta', 'zip_code': '30318', 'country': 'US', 'state': 'GA', 'display_address': ['2020 Howell Mill Rd NW', 'Ste A', 'Atlanta, GA 30318']}, 'phone': '+14046097840', 'display_phone': '(404) 609-7840', 'distance': 3795.4512408796577}, {'id': 'KTDT1L9cMyuJo_1gxi5Zpg', 'alias': 'kroger-atlanta-17', 'name': 'Kroger', 'image_url': 'https://s3-media4.fl.yelpcdn.com/bphoto/lcfwBafG-TaFOxQz59GalA/o.jpg', 'is_closed': False, 'url': 'https://www.yelp.com/biz/kroger-atlanta-17?adjust_creative=snrJLEHqJkQMzzV_Rc2HBw&utm_campaign=yelp_api_v3&utm_medium=api_v3_business_search&utm_source=snrJLEHqJkQMzzV_Rc2HBw', 'review_count': 68, 'categories': [{'alias': 'grocery', 'title': 'Grocery'}], 'rating': 3.0, 'coordinates': {'latitude': 33.8157272640367, 'longitude': -84.3139729857825}, 'transactions': [], 'price': '$', 'location': {'address1': '2205 Lavista Rd NE', 'address2': '', 'address3': '', 'city': 'Atlanta', 'zip_code': '30329', 'country': 'US', 'state': 'GA', 'display_address': ['2205 Lavista Rd NE', 'Atlanta, GA 30329']}, 'phone': '+14046338694', 'display_phone': '(404) 633-8694', 'distance': 5518.226705447963}, {'id': '5lGXHaTdCWT42_b8ETd8uQ', 'alias': 'aldi-atlanta-2', 'name': 'ALDI', 'image_url': 'https://s3-media3.fl.yelpcdn.com/bphoto/DR1CdKHezbUsa_ST7eA1Sw/o.jpg', 'is_closed': False, 'url': 'https://www.yelp.com/biz/aldi-atlanta-2?adjust_creative=snrJLEHqJkQMzzV_Rc2HBw&utm_campaign=yelp_api_v3&utm_medium=api_v3_business_search&utm_source=snrJLEHqJkQMzzV_Rc2HBw', 'review_count': 31, 'categories': [{'alias': 'grocery', 'title': 'Grocery'}, {'alias': 'markets', 'title': 'Fruits & Veggies'}, {'alias': 'organic_stores', 'title': 'Organic Stores'}], 'rating': 3.5, 'coordinates': {'latitude': 33.85805209126845, 'longitude': -84.3103963136673}, 'transactions': [], 'price': '$', 'location': {'address1': '3963 Buford Hwy', 'address2': '', 'address3': '', 'city': 'Atlanta', 'zip_code': '30345', 'country': 'US', 'state': 'GA', 'display_address': ['3963 Buford Hwy', 'Atlanta, GA 30345']}, 'phone': '+18559552534', 'display_phone': '(855) 955-2534', 'distance': 7678.92565741078}, {'id': '-bGYHtDX_F4AdO3e8uwEPw', 'alias': 'publix-atlanta-4', 'name': 'Publix', 'image_url': 'https://s3-media2.fl.yelpcdn.com/bphoto/QN2Qzn-ssvGfANfLn6KImg/o.jpg', 'is_closed': False, 'url': 'https://www.yelp.com/biz/publix-atlanta-4?adjust_creative=snrJLEHqJkQMzzV_Rc2HBw&utm_campaign=yelp_api_v3&utm_medium=api_v3_business_search&utm_source=snrJLEHqJkQMzzV_Rc2HBw', 'review_count': 56, 'categories': [{'alias': 'grocery', 'title': 'Grocery'}], 'rating': 3.0, 'coordinates': {'latitude': 33.818543, 'longitude': -84.349064}, 'transactions': ['delivery'], 'price': '$$', 'location': {'address1': '2325 Cheshire Bridge Rd NE', 'address2': '', 'address3': '', 'city': 'Atlanta', 'zip_code': '30324', 'country': 'US', 'state': 'GA', 'display_address': ['2325 Cheshire Bridge Rd NE', 'Atlanta, GA 30324']}, 'phone': '+14046381900', 'display_phone': '(404) 638-1900', 'distance': 2345.3178659076543}, {'id': '3CTzZgKJ4XDI48jDMc15aA', 'alias': 'publix-atlanta-42', 'name': 'Publix', 'image_url': 'https://s3-media1.fl.yelpcdn.com/bphoto/5n4Itym1VRm4hFsJHObr9g/o.jpg', 'is_closed': False, 'url': 'https://www.yelp.com/biz/publix-atlanta-42?adjust_creative=snrJLEHqJkQMzzV_Rc2HBw&utm_campaign=yelp_api_v3&utm_medium=api_v3_business_search&utm_source=snrJLEHqJkQMzzV_Rc2HBw', 'review_count': 24, 'categories': [{'alias': 'grocery', 'title': 'Grocery'}], 'rating': 4.0, 'coordinates': {'latitude': 33.81949793776101, 'longitude': -84.45070994334124}, 'transactions': [], 'price': '$$', 'location': {'address1': '2275 Marietta Blvd NW', 'address2': '', 'address3': None, 'city': 'Atlanta', 'zip_code': '30318', 'country': 'US', 'state': 'GA', 'display_address': ['2275 Marietta Blvd NW', 'Atlanta, GA 30318']}, 'phone': '+14043514794', 'display_phone': '(404) 351-4794', 'distance': 7155.426364906767}, {'id': 'V85frfco-Op6RnF5wWXoSg', 'alias': 'publix-atlanta-23', 'name': 'Publix', 'image_url': 'https://s3-media2.fl.yelpcdn.com/bphoto/V2k5i5PxfNJQInIjPJpJpQ/o.jpg', 'is_closed': False, 'url': 'https://www.yelp.com/biz/publix-atlanta-23?adjust_creative=snrJLEHqJkQMzzV_Rc2HBw&utm_campaign=yelp_api_v3&utm_medium=api_v3_business_search&utm_source=snrJLEHqJkQMzzV_Rc2HBw', 'review_count': 28, 'categories': [{'alias': 'grocery', 'title': 'Grocery'}], 'rating': 3.5, 'coordinates': {'latitude': 33.8492989, 'longitude': -84.4287418}, 'transactions': [], 'price': '$$', 'location': {'address1': '1250 West Paces Ferry Rd NW', 'address2': '', 'address3': '', 'city': 'Atlanta', 'zip_code': '30329', 'country': 'US', 'state': 'GA', 'display_address': ['1250 West Paces Ferry Rd NW', 'Atlanta, GA 30329']}, 'phone': '+14048481610', 'display_phone': '(404) 848-1610', 'distance': 6343.341238722359}, {'id': 'vJQmfheQxh38EVMR0kOxxA', 'alias': 'publix-atlanta-17', 'name': 'Publix', 'image_url': 'https://s3-media4.fl.yelpcdn.com/bphoto/PbR3klK-XgR1x21rPqHLOg/o.jpg', 'is_closed': False, 'url': 'https://www.yelp.com/biz/publix-atlanta-17?adjust_creative=snrJLEHqJkQMzzV_Rc2HBw&utm_campaign=yelp_api_v3&utm_medium=api_v3_business_search&utm_source=snrJLEHqJkQMzzV_Rc2HBw', 'review_count': 18, 'categories': [{'alias': 'grocery', 'title': 'Grocery'}], 'rating': 4.0, 'coordinates': {'latitude': 33.8710709, 'longitude': -84.3796616}, 'transactions': ['delivery'], 'price': '$$', 'location': {'address1': '4279 Roswell Rd NE', 'address2': '', 'address3': '', 'city': 'Atlanta', 'zip_code': '30342', 'country': 'US', 'state': 'GA', 'display_address': ['4279 Roswell Rd NE', 'Atlanta, GA 30342']}, 'phone': '+14048434353', 'display_phone': '(404) 843-4353', 'distance': 6469.367977940816}, {'id': 'I77BOR1spggDerf7e9Mrbw', 'alias': 'publix-atlanta-5', 'name': 'Publix', 'image_url': 'https://s3-media1.fl.yelpcdn.com/bphoto/Etz4W1qZ61y8vkaztdsLng/o.jpg', 'is_closed': False, 'url': 'https://www.yelp.com/biz/publix-atlanta-5?adjust_creative=snrJLEHqJkQMzzV_Rc2HBw&utm_campaign=yelp_api_v3&utm_medium=api_v3_business_search&utm_source=snrJLEHqJkQMzzV_Rc2HBw', 'review_count': 34, 'categories': [{'alias': 'grocery', 'title': 'Grocery'}], 'rating': 3.5, 'coordinates': {'latitude': 33.9052614982616, 'longitude': -84.4277266023398}, 'transactions': [], 'price': '$$', 'location': {'address1': '6300 Powers Ferry Rd NW', 'address2': '', 'address3': '', 'city': 'Atlanta', 'zip_code': '30339', 'country': 'US', 'state': 'GA', 'display_address': ['6300 Powers Ferry Rd NW', 'Atlanta, GA 30339']}, 'phone': '+17706125140', 'display_phone': '(770) 612-5140', 'distance': 11389.280459818096}], 'total': 147, 'region': {'center': {'longitude': -84.37362670898438, 'latitude': 33.81321311652279}}}, {'businesses': [{'id': 'Ac4IUPQfgyLSUq28dytyqA', 'alias': 'publix-atlanta-37', 'name': 'Publix', 'image_url': 'https://s3-media2.fl.yelpcdn.com/bphoto/jABFwKZj1wYWaOJAhjTz1w/o.jpg', 'is_closed': False, 'url': 'https://www.yelp.com/biz/publix-atlanta-37?adjust_creative=snrJLEHqJkQMzzV_Rc2HBw&utm_campaign=yelp_api_v3&utm_medium=api_v3_business_search&utm_source=snrJLEHqJkQMzzV_Rc2HBw', 'review_count': 38, 'categories': [{'alias': 'grocery', 'title': 'Grocery'}], 'rating': 3.0, 'coordinates': {'latitude': 33.8509735056792, 'longitude': -84.3597171074097}, 'transactions': ['delivery'], 'price': '$$', 'location': {'address1': '3535 Peachtree Rd NE', 'address2': '', 'address3': '', 'city': 'Atlanta', 'zip_code': '30326', 'country': 'US', 'state': 'GA', 'display_address': ['3535 Peachtree Rd NE', 'Atlanta, GA 30326']}, 'phone': '+14048480344', 'display_phone': '(404) 848-0344', 'distance': 4390.926992585537}, {'id': 'TENHfGvU_ktDG-pPZnTF6w', 'alias': 'publix-atlanta-30', 'name': 'Publix', 'image_url': 'https://s3-media3.fl.yelpcdn.com/bphoto/HVB70iFK_SeGahNeHFpZPg/o.jpg', 'is_closed': False, 'url': 'https://www.yelp.com/biz/publix-atlanta-30?adjust_creative=snrJLEHqJkQMzzV_Rc2HBw&utm_campaign=yelp_api_v3&utm_medium=api_v3_business_search&utm_source=snrJLEHqJkQMzzV_Rc2HBw', 'review_count': 59, 'categories': [{'alias': 'grocery', 'title': 'Grocery'}], 'rating': 3.0, 'coordinates': {'latitude': 33.7703989582727, 'longitude': -84.3813200588497}, 'transactions': ['delivery'], 'price': '$$', 'location': {'address1': '595 Piedmont Ave NE', 'address2': '', 'address3': '', 'city': 'Atlanta', 'zip_code': '30308', 'country': 'US', 'state': 'GA', 'display_address': ['595 Piedmont Ave NE', 'Atlanta, GA 30308']}, 'phone': '+14048811750', 'display_phone': '(404) 881-1750', 'distance': 4813.503607334259}, {'id': 'YxAVZdtO8zkAx_Fn3bwTFw', 'alias': 'publix-atlanta-39', 'name': 'Publix', 'image_url': 'https://s3-media4.fl.yelpcdn.com/bphoto/zuuEK0QZ0IN6l5YXOhovWw/o.jpg', 'is_closed': False, 'url': 'https://www.yelp.com/biz/publix-atlanta-39?adjust_creative=snrJLEHqJkQMzzV_Rc2HBw&utm_campaign=yelp_api_v3&utm_medium=api_v3_business_search&utm_source=snrJLEHqJkQMzzV_Rc2HBw', 'review_count': 59, 'categories': [{'alias': 'grocery', 'title': 'Grocery'}], 'rating': 3.0, 'coordinates': {'latitude': 33.73883, 'longitude': -84.31327}, 'transactions': [], 'price': '$$', 'location': {'address1': '2235 Glenwood Ave SE', 'address2': '', 'address3': '', 'city': 'Atlanta', 'zip_code': '30316', 'country': 'US', 'state': 'GA', 'display_address': ['2235 Glenwood Ave SE', 'Atlanta, GA 30316']}, 'phone': '+14043732858', 'display_phone': '(404) 373-2858', 'distance': 9998.830411204099}, {'id': '3uw8hPM0s71f2P16UNdprg', 'alias': 'publix-atlanta-31', 'name': 'Publix', 'image_url': 'https://s3-media2.fl.yelpcdn.com/bphoto/lwD5J3yuisT6fN0osnDZVQ/o.jpg', 'is_closed': False, 'url': 'https://www.yelp.com/biz/publix-atlanta-31?adjust_creative=snrJLEHqJkQMzzV_Rc2HBw&utm_campaign=yelp_api_v3&utm_medium=api_v3_business_search&utm_source=snrJLEHqJkQMzzV_Rc2HBw', 'review_count': 31, 'categories': [{'alias': 'grocery', 'title': 'Grocery'}], 'rating': 3.5, 'coordinates': {'latitude': 33.745273, 'longitude': -84.356951}, 'transactions': [], 'price': '$$', 'location': {'address1': '905 Memorial Dr SE', 'address2': '', 'address3': None, 'city': 'Atlanta', 'zip_code': '30316', 'country': 'US', 'state': 'GA', 'display_address': ['905 Memorial Dr SE', 'Atlanta, GA 30316']}, 'phone': '+14045213992', 'display_phone': '(404) 521-3992', 'distance': 7710.199896240688}, {'id': 'sTBf7mVGBL33J958Pr3hNg', 'alias': 'publix-atlanta-41', 'name': 'Publix', 'image_url': 'https://s3-media1.fl.yelpcdn.com/bphoto/Uxda0YDuVDP_y03_9AgTOw/o.jpg', 'is_closed': False, 'url': 'https://www.yelp.com/biz/publix-atlanta-41?adjust_creative=snrJLEHqJkQMzzV_Rc2HBw&utm_campaign=yelp_api_v3&utm_medium=api_v3_business_search&utm_source=snrJLEHqJkQMzzV_Rc2HBw', 'review_count': 35, 'categories': [{'alias': 'grocery', 'title': 'Grocery'}], 'rating': 3.0, 'coordinates': {'latitude': 33.8619531, 'longitude': -84.2869749}, 'transactions': [], 'price': '$$', 'location': {'address1': '2562 Shallowford Rd NE', 'address2': '', 'address3': '', 'city': 'Atlanta', 'zip_code': '30345', 'country': 'US', 'state': 'GA', 'display_address': ['2562 Shallowford Rd NE', 'Atlanta, GA 30345']}, 'phone': '+14046361175', 'display_phone': '(404) 636-1175', 'distance': 9609.629239717198}, {'id': '83QepRHn73Zb1-pADXAVyA', 'alias': 'aldi-atlanta', 'name': 'ALDI', 'image_url': 'https://s3-media4.fl.yelpcdn.com/bphoto/RKAp8z7AgeIHmfRYxQJj-A/o.jpg', 'is_closed': False, 'url': 'https://www.yelp.com/biz/aldi-atlanta?adjust_creative=snrJLEHqJkQMzzV_Rc2HBw&utm_campaign=yelp_api_v3&utm_medium=api_v3_business_search&utm_source=snrJLEHqJkQMzzV_Rc2HBw', 'review_count': 23, 'categories': [{'alias': 'grocery', 'title': 'Grocery'}, {'alias': 'markets', 'title': 'Fruits & Veggies'}, {'alias': 'organic_stores', 'title': 'Organic Stores'}], 'rating': 3.5, 'coordinates': {'latitude': 33.7137298583984, 'longitude': -84.35020164416528}, 'transactions': [], 'price': '$', 'location': {'address1': '1461 Moreland Ave', 'address2': '', 'address3': '', 'city': 'Atlanta', 'zip_code': '30316', 'country': 'US', 'state': 'GA', 'display_address': ['1461 Moreland Ave', 'Atlanta, GA 30316']}, 'phone': '+18559552534', 'display_phone': '(855) 955-2534', 'distance': 11271.973403950913}, {'id': 'Iy35psczEhr_6R5RmTsmnQ', 'alias': 'big-bear-foods-atlanta', 'name': 'Big Bear Foods', 'image_url': 'https://s3-media3.fl.yelpcdn.com/bphoto/mzgiCTOQI-8COmxASgi4UQ/o.jpg', 'is_closed': False, 'url': 'https://www.yelp.com/biz/big-bear-foods-atlanta?adjust_creative=snrJLEHqJkQMzzV_Rc2HBw&utm_campaign=yelp_api_v3&utm_medium=api_v3_business_search&utm_source=snrJLEHqJkQMzzV_Rc2HBw', 'review_count': 13, 'categories': [{'alias': 'grocery', 'title': 'Grocery'}], 'rating': 4.0, 'coordinates': {'latitude': 33.7366027832031, 'longitude': -84.4182205200195}, 'transactions': [], 'price': '$', 'location': {'address1': '683 Joseph E Lowery Blvd', 'address2': '', 'address3': '', 'city': 'Atlanta', 'zip_code': '30310', 'country': 'US', 'state': 'GA', 'display_address': ['683 Joseph E Lowery Blvd', 'Atlanta, GA 30310']}, 'phone': '+14047531478', 'display_phone': '(404) 753-1478', 'distance': 9484.203029755114}, {'id': '8yzZiuqJvHdlumsS9B8yGQ', 'alias': 'goodness-grocery-smyrna', 'name': 'Goodness Grocery', 'image_url': 'https://s3-media4.fl.yelpcdn.com/bphoto/jAeD3W57uN2NvHS2MIOQ4A/o.jpg', 'is_closed': False, 'url': 'https://www.yelp.com/biz/goodness-grocery-smyrna?adjust_creative=snrJLEHqJkQMzzV_Rc2HBw&utm_campaign=yelp_api_v3&utm_medium=api_v3_business_search&utm_source=snrJLEHqJkQMzzV_Rc2HBw', 'review_count': 55, 'categories': [{'alias': 'grocery', 'title': 'Grocery'}, {'alias': 'organic_stores', 'title': 'Organic Stores'}], 'rating': 4.0, 'coordinates': {'latitude': 33.844667, 'longitude': -84.490896}, 'transactions': [], 'price': '$$', 'location': {'address1': '4500 West Village Pl', 'address2': 'Ste 1001', 'address3': '', 'city': 'Smyrna', 'zip_code': '30080', 'country': 'US', 'state': 'GA', 'display_address': ['4500 West Village Pl', 'Ste 1001', 'Smyrna, GA 30080']}, 'phone': '+17704368880', 'display_phone': '(770) 436-8880', 'distance': 11382.797286719533}, {'id': 'XhGRKz6kLYkvnSFYXV5P-A', 'alias': 'publix-atlanta-34', 'name': 'Publix', 'image_url': 'https://s3-media2.fl.yelpcdn.com/bphoto/F_KFP5lswpP0oT3ccKxxYw/o.jpg', 'is_closed': False, 'url': 'https://www.yelp.com/biz/publix-atlanta-34?adjust_creative=snrJLEHqJkQMzzV_Rc2HBw&utm_campaign=yelp_api_v3&utm_medium=api_v3_business_search&utm_source=snrJLEHqJkQMzzV_Rc2HBw', 'review_count': 30, 'categories': [{'alias': 'grocery', 'title': 'Grocery'}], 'rating': 3.5, 'coordinates': {'latitude': 33.890666, 'longitude': -84.324803}, 'transactions': [], 'price': '$$', 'location': {'address1': '3435 Ashford Dunwoody Rd', 'address2': '', 'address3': '', 'city': 'Atlanta', 'zip_code': '30319', 'country': 'US', 'state': 'GA', 'display_address': ['3435 Ashford Dunwoody Rd', 'Atlanta, GA 30319']}, 'phone': '+17702165050', 'display_phone': '(770) 216-5050', 'distance': 9721.132997397695}, {'id': '_JiPPjrDwPolHwxjEl5yOA', 'alias': 'aldi-atlanta-5', 'name': 'ALDI', 'image_url': 'https://s3-media3.fl.yelpcdn.com/bphoto/gz-k8UiUiwsGSQQeQptrQA/o.jpg', 'is_closed': False, 'url': 'https://www.yelp.com/biz/aldi-atlanta-5?adjust_creative=snrJLEHqJkQMzzV_Rc2HBw&utm_campaign=yelp_api_v3&utm_medium=api_v3_business_search&utm_source=snrJLEHqJkQMzzV_Rc2HBw', 'review_count': 16, 'categories': [{'alias': 'grocery', 'title': 'Grocery'}, {'alias': 'markets', 'title': 'Fruits & Veggies'}, {'alias': 'organic_stores', 'title': 'Organic Stores'}], 'rating': 3.5, 'coordinates': {'latitude': 33.8407185, 'longitude': -84.3731559}, 'transactions': [], 'location': {'address1': '3221 Peachtree Rd', 'address2': 'Ste 101', 'address3': None, 'city': 'Atlanta', 'zip_code': '30305', 'country': 'US', 'state': 'GA', 'display_address': ['3221 Peachtree Rd', 'Ste 101', 'Atlanta, GA 30305']}, 'phone': '+18559552534', 'display_phone': '(855) 955-2534', 'distance': 3058.764889444847}, {'id': 'dW0E2kTt72L-kN9Sonbhvg', 'alias': 'carver-neighborhood-market-atlanta', 'name': 'Carver Neighborhood Market', 'image_url': 'https://s3-media2.fl.yelpcdn.com/bphoto/sC8YlGITTXJ0vzBBsT3njA/o.jpg', 'is_closed': False, 'url': 'https://www.yelp.com/biz/carver-neighborhood-market-atlanta?adjust_creative=snrJLEHqJkQMzzV_Rc2HBw&utm_campaign=yelp_api_v3&utm_medium=api_v3_business_search&utm_source=snrJLEHqJkQMzzV_Rc2HBw', 'review_count': 12, 'categories': [{'alias': 'grocery', 'title': 'Grocery'}], 'rating': 4.0, 'coordinates': {'latitude': 33.7190664550323, 'longitude': -84.3851576184007}, 'transactions': [], 'price': '$', 'location': {'address1': '1297 Jonesboro Rd SE', 'address2': '', 'address3': '', 'city': 'Atlanta', 'zip_code': '30315', 'country': 'US', 'state': 'GA', 'display_address': ['1297 Jonesboro Rd SE', 'Atlanta, GA 30315']}, 'phone': '+14045860692', 'display_phone': '(404) 586-0692', 'distance': 10522.742833293669}, {'id': 'Jm2Kp7z9VGtrtv9jt97K3A', 'alias': 'kroger-atlanta-29', 'name': 'Kroger', 'image_url': 'https://s3-media3.fl.yelpcdn.com/bphoto/AldT2SEB5PKid5WJbtQxrA/o.jpg', 'is_closed': False, 'url': 'https://www.yelp.com/biz/kroger-atlanta-29?adjust_creative=snrJLEHqJkQMzzV_Rc2HBw&utm_campaign=yelp_api_v3&utm_medium=api_v3_business_search&utm_source=snrJLEHqJkQMzzV_Rc2HBw', 'review_count': 51, 'categories': [{'alias': 'grocery', 'title': 'Grocery'}], 'rating': 2.5, 'coordinates': {'latitude': 33.8044, 'longitude': -84.3362}, 'transactions': [], 'price': '$$', 'location': {'address1': '1799 Briarcliff Rd NE', 'address2': '', 'address3': '', 'city': 'Atlanta', 'zip_code': '30306', 'country': 'US', 'state': 'GA', 'display_address': ['1799 Briarcliff Rd NE', 'Atlanta, GA 30306']}, 'phone': '+14046071189', 'display_phone': '(404) 607-1189', 'distance': 3598.5818532733074}, {'id': 'NYjtR7o_hNA3uSsXgH6jzQ', 'alias': 'biswas-grocery-and-cafe-atlanta', 'name': 'Biswas Grocery & Cafe', 'image_url': 'https://s3-media4.fl.yelpcdn.com/bphoto/3PzqRaeE1xWmF3QUlRhZGg/o.jpg', 'is_closed': False, 'url': 'https://www.yelp.com/biz/biswas-grocery-and-cafe-atlanta?adjust_creative=snrJLEHqJkQMzzV_Rc2HBw&utm_campaign=yelp_api_v3&utm_medium=api_v3_business_search&utm_source=snrJLEHqJkQMzzV_Rc2HBw', 'review_count': 10, 'categories': [{'alias': 'indpak', 'title': 'Indian'}, {'alias': 'grocery', 'title': 'Grocery'}], 'rating': 4.5, 'coordinates': {'latitude': 33.83142667, 'longitude': -84.34168}, 'transactions': ['pickup'], 'location': {'address1': '2853 Buford Hwy NE', 'address2': '', 'address3': None, 'city': 'Atlanta', 'zip_code': '30329', 'country': 'US', 'state': 'GA', 'display_address': ['2853 Buford Hwy NE', 'Atlanta, GA 30329']}, 'phone': '+14044772955', 'display_phone': '(404) 477-2955', 'distance': 3583.4430450754926}, {'id': 'OJuvqtnzUv1SCCIkfXcsEw', 'alias': 'kroger-atlanta-30', 'name': 'Kroger', 'image_url': 'https://s3-media3.fl.yelpcdn.com/bphoto/pcYO7XySYMFZ0IHaQwjzUg/o.jpg', 'is_closed': False, 'url': 'https://www.yelp.com/biz/kroger-atlanta-30?adjust_creative=snrJLEHqJkQMzzV_Rc2HBw&utm_campaign=yelp_api_v3&utm_medium=api_v3_business_search&utm_source=snrJLEHqJkQMzzV_Rc2HBw', 'review_count': 61, 'categories': [{'alias': 'grocery', 'title': 'Grocery'}], 'rating': 2.5, 'coordinates': {'latitude': 33.871691, 'longitude': -84.457885}, 'transactions': [], 'price': '$$', 'location': {'address1': '3300 Cobb Pkwy SE', 'address2': 'Ste 100', 'address3': '', 'city': 'Atlanta', 'zip_code': '30339', 'country': 'US', 'state': 'GA', 'display_address': ['3300 Cobb Pkwy SE', 'Ste 100', 'Atlanta, GA 30339']}, 'phone': '+17709520778', 'display_phone': '(770) 952-0778', 'distance': 10140.834070885954}, {'id': 'rS-IS_EANjlWlFBWJdat0Q', 'alias': 'publix-atlanta-43', 'name': 'Publix', 'image_url': 'https://s3-media2.fl.yelpcdn.com/bphoto/uIOFGf7p78jAWdaGihF6GA/o.jpg', 'is_closed': False, 'url': 'https://www.yelp.com/biz/publix-atlanta-43?adjust_creative=snrJLEHqJkQMzzV_Rc2HBw&utm_campaign=yelp_api_v3&utm_medium=api_v3_business_search&utm_source=snrJLEHqJkQMzzV_Rc2HBw', 'review_count': 21, 'categories': [{'alias': 'grocery', 'title': 'Grocery'}], 'rating': 3.5, 'coordinates': {'latitude': 33.8473819054728, 'longitude': -84.2571212913214}, 'transactions': [], 'price': '$$', 'location': {'address1': '2162 Henderson Mill Rd NE', 'address2': '', 'address3': '', 'city': 'Atlanta', 'zip_code': '30345', 'country': 'US', 'state': 'GA', 'display_address': ['2162 Henderson Mill Rd NE', 'Atlanta, GA 30345']}, 'phone': '+17707241947', 'display_phone': '(770) 724-1947', 'distance': 11412.430826374326}, {'id': 'nm-MaxfGN31V6QgPPl1tgw', 'alias': 'chicago-supermarket-doraville', 'name': 'Chicago Supermarket', 'image_url': 'https://s3-media4.fl.yelpcdn.com/bphoto/hImUqN6W3Pgt9mlv5Csb6A/o.jpg', 'is_closed': False, 'url': 'https://www.yelp.com/biz/chicago-supermarket-doraville?adjust_creative=snrJLEHqJkQMzzV_Rc2HBw&utm_campaign=yelp_api_v3&utm_medium=api_v3_business_search&utm_source=snrJLEHqJkQMzzV_Rc2HBw', 'review_count': 35, 'categories': [{'alias': 'grocery', 'title': 'Grocery'}, {'alias': 'mexican', 'title': 'Mexican'}], 'rating': 4.5, 'coordinates': {'latitude': 33.8958429639425, 'longitude': -84.2824281180855}, 'transactions': [], 'price': '$', 'location': {'address1': '5263 Buford Hwy NE', 'address2': '', 'address3': '', 'city': 'Doraville', 'zip_code': '30340', 'country': 'US', 'state': 'GA', 'display_address': ['5263 Buford Hwy NE', 'Doraville, GA 30340']}, 'phone': '+17704521361', 'display_phone': '(770) 452-1361', 'distance': 12465.12889030086}, {'id': 'wSH879gKNvPbsxyCz9sRmA', 'alias': 'kroger-atlanta-6', 'name': 'Kroger', 'image_url': 'https://s3-media2.fl.yelpcdn.com/bphoto/D68JSfCJV06e_Zh0zkoBQQ/o.jpg', 'is_closed': False, 'url': 'https://www.yelp.com/biz/kroger-atlanta-6?adjust_creative=snrJLEHqJkQMzzV_Rc2HBw&utm_campaign=yelp_api_v3&utm_medium=api_v3_business_search&utm_source=snrJLEHqJkQMzzV_Rc2HBw', 'review_count': 58, 'categories': [{'alias': 'drugstores', 'title': 'Drugstores'}, {'alias': 'grocery', 'title': 'Grocery'}], 'rating': 2.0, 'coordinates': {'latitude': 33.801751, 'longitude': -84.412543}, 'transactions': [], 'price': '$$', 'location': {'address1': '1715 Howell Mill Rd NW', 'address2': '', 'address3': '', 'city': 'Atlanta', 'zip_code': '30318', 'country': 'US', 'state': 'GA', 'display_address': ['1715 Howell Mill Rd NW', 'Atlanta, GA 30318']}, 'phone': '+14043557886', 'display_phone': '(404) 355-7886', 'distance': 3814.8040931232654}, {'id': 'nvXb2ZQM5jIBYNPqmvAtug', 'alias': 'walmart-supercenter-atlanta-8', 'name': 'Walmart Supercenter', 'image_url': 'https://s3-media3.fl.yelpcdn.com/bphoto/8fH0NjrzgSvX5qzj4b1ykw/o.jpg', 'is_closed': False, 'url': 'https://www.yelp.com/biz/walmart-supercenter-atlanta-8?adjust_creative=snrJLEHqJkQMzzV_Rc2HBw&utm_campaign=yelp_api_v3&utm_medium=api_v3_business_search&utm_source=snrJLEHqJkQMzzV_Rc2HBw', 'review_count': 106, 'categories': [{'alias': 'grocery', 'title': 'Grocery'}, {'alias': 'deptstores', 'title': 'Department Stores'}], 'rating': 1.5, 'coordinates': {'latitude': 33.8030467, 'longitude': -84.4115832}, 'transactions': [], 'price': '$', 'location': {'address1': '1801 Howell Mill Rd NW', 'address2': None, 'address3': None, 'city': 'Atlanta', 'zip_code': '30318', 'country': 'US', 'state': 'GA', 'display_address': ['1801 Howell Mill Rd NW', 'Atlanta, GA 30318']}, 'phone': '+14043525252', 'display_phone': '(404) 352-5252', 'distance': 3684.589992143052}, {'id': 'fR09HmEaRZ9OphC9VcOZ4w', 'alias': 'mercado-fresco-atlanta', 'name': 'Mercado Fresco', 'image_url': 'https://s3-media1.fl.yelpcdn.com/bphoto/c8GdX01bX62aazHDr38SLw/o.jpg', 'is_closed': False, 'url': 'https://www.yelp.com/biz/mercado-fresco-atlanta?adjust_creative=snrJLEHqJkQMzzV_Rc2HBw&utm_campaign=yelp_api_v3&utm_medium=api_v3_business_search&utm_source=snrJLEHqJkQMzzV_Rc2HBw', 'review_count': 13, 'categories': [{'alias': 'convenience', 'title': 'Convenience Stores'}, {'alias': 'grocery', 'title': 'Grocery'}], 'rating': 3.5, 'coordinates': {'latitude': 33.8620523330376, 'longitude': -84.3076111748815}, 'transactions': [], 'price': '$', 'location': {'address1': '4166 Buford Hwy NE', 'address2': 'Ste 1115', 'address3': '', 'city': 'Atlanta', 'zip_code': '30345', 'country': 'US', 'state': 'GA', 'display_address': ['4166 Buford Hwy NE', 'Ste 1115', 'Atlanta, GA 30345']}, 'phone': '+14046333066', 'display_phone': '(404) 633-3066', 'distance': 8165.067617833297}, {'id': 'zp913URcZU7LTAQe6NlqYA', 'alias': 'bakkal-international-foods-sandy-springs', 'name': 'Bakkal International Foods', 'image_url': 'https://s3-media4.fl.yelpcdn.com/bphoto/X578C40LkTmb8zvwWTsC9A/o.jpg', 'is_closed': False, 'url': 'https://www.yelp.com/biz/bakkal-international-foods-sandy-springs?adjust_creative=snrJLEHqJkQMzzV_Rc2HBw&utm_campaign=yelp_api_v3&utm_medium=api_v3_business_search&utm_source=snrJLEHqJkQMzzV_Rc2HBw', 'review_count': 21, 'categories': [{'alias': 'grocery', 'title': 'Grocery'}], 'rating': 4.5, 'coordinates': {'latitude': 33.91024573798983, 'longitude': -84.37913453312014}, 'transactions': ['delivery'], 'price': '$$', 'location': {'address1': '5690 Roswell Rd NE', 'address2': None, 'address3': None, 'city': 'Sandy Springs', 'zip_code': '30342', 'country': 'US', 'state': 'GA', 'display_address': ['5690 Roswell Rd NE', 'Sandy Springs, GA 30342']}, 'phone': '+14048479942', 'display_phone': '(404) 847-9942', 'distance': 10801.502084453772}, {'id': 'bCEYVzDdrY6go6ggc6BS3A', 'alias': 'sprouts-farmers-market-decatur-2', 'name': 'Sprouts Farmers Market', 'image_url': 'https://s3-media4.fl.yelpcdn.com/bphoto/CvqAWBCyBDo20YIOE416cA/o.jpg', 'is_closed': False, 'url': 'https://www.yelp.com/biz/sprouts-farmers-market-decatur-2?adjust_creative=snrJLEHqJkQMzzV_Rc2HBw&utm_campaign=yelp_api_v3&utm_medium=api_v3_business_search&utm_source=snrJLEHqJkQMzzV_Rc2HBw', 'review_count': 61, 'categories': [{'alias': 'grocery', 'title': 'Grocery'}, {'alias': 'healthmarkets', 'title': 'Health Markets'}, {'alias': 'organic_stores', 'title': 'Organic Stores'}], 'rating': 3.5, 'coordinates': {'latitude': 33.79378, 'longitude': -84.28755}, 'transactions': [], 'price': '$$', 'location': {'address1': '2551 Blackmon Dr', 'address2': '', 'address3': None, 'city': 'Decatur', 'zip_code': '30033', 'country': 'US', 'state': 'GA', 'display_address': ['2551 Blackmon Dr', 'Decatur, GA 30033']}, 'phone': '+14049656290', 'display_phone': '(404) 965-6290', 'distance': 8241.583561397376}, {'id': '98yrVbC5Dztwtg9-qtzmPg', 'alias': 'kroger-atlanta-2', 'name': 'Kroger', 'image_url': 'https://s3-media3.fl.yelpcdn.com/bphoto/GBM2DkZS6tKsw23kA31ClQ/o.jpg', 'is_closed': False, 'url': 'https://www.yelp.com/biz/kroger-atlanta-2?adjust_creative=snrJLEHqJkQMzzV_Rc2HBw&utm_campaign=yelp_api_v3&utm_medium=api_v3_business_search&utm_source=snrJLEHqJkQMzzV_Rc2HBw', 'review_count': 46, 'categories': [{'alias': 'grocery', 'title': 'Grocery'}], 'rating': 2.0, 'coordinates': {'latitude': 33.8556103067013, 'longitude': -84.3133648484945}, 'transactions': [], 'price': '$$', 'location': {'address1': '3855 Buford Hwy NE', 'address2': '', 'address3': '', 'city': 'Atlanta', 'zip_code': '30329', 'country': 'US', 'state': 'GA', 'display_address': ['3855 Buford Hwy NE', 'Atlanta, GA 30329']}, 'phone': '+14046336220', 'display_phone': '(404) 633-6220', 'distance': 7294.224249451414}, {'id': 'ev4AfYTt1cM_BAb9sF__1Q', 'alias': 'kroger-atlanta-60', 'name': 'Kroger', 'image_url': 'https://s3-media3.fl.yelpcdn.com/bphoto/Hpp_0tnECXYU7JuSedfGHw/o.jpg', 'is_closed': False, 'url': 'https://www.yelp.com/biz/kroger-atlanta-60?adjust_creative=snrJLEHqJkQMzzV_Rc2HBw&utm_campaign=yelp_api_v3&utm_medium=api_v3_business_search&utm_source=snrJLEHqJkQMzzV_Rc2HBw', 'review_count': 45, 'categories': [{'alias': 'grocery', 'title': 'Grocery'}], 'rating': 2.0, 'coordinates': {'latitude': 33.722557, 'longitude': -84.347806}, 'transactions': [], 'price': '$$', 'location': {'address1': '1160 Moreland Ave SE', 'address2': '', 'address3': '', 'city': 'Atlanta', 'zip_code': '30316', 'country': 'US', 'state': 'GA', 'display_address': ['1160 Moreland Ave SE', 'Atlanta, GA 30316']}, 'phone': '+14046248110', 'display_phone': '(404) 624-8110', 'distance': 10359.192598081036}, {'id': 'JqeO0Aqs2AD6zJANeWp4Uw', 'alias': 'sam-and-son-grocery-wholesale-atlanta-2', 'name': 'Sam & Son Grocery Wholesale', 'image_url': 'https://s3-media2.fl.yelpcdn.com/bphoto/5qt9MxoCw2N-BCe1hd7jng/o.jpg', 'is_closed': False, 'url': 'https://www.yelp.com/biz/sam-and-son-grocery-wholesale-atlanta-2?adjust_creative=snrJLEHqJkQMzzV_Rc2HBw&utm_campaign=yelp_api_v3&utm_medium=api_v3_business_search&utm_source=snrJLEHqJkQMzzV_Rc2HBw', 'review_count': 5, 'categories': [{'alias': 'grocery', 'title': 'Grocery'}], 'rating': 4.5, 'coordinates': {'latitude': 33.7209091, 'longitude': -84.3976212}, 'transactions': [], 'price': '$$', 'location': {'address1': '290 University Ave SW', 'address2': '', 'address3': '', 'city': 'Atlanta', 'zip_code': '30310', 'country': 'US', 'state': 'GA', 'display_address': ['290 University Ave SW', 'Atlanta, GA 30310']}, 'phone': '+14046581111', 'display_phone': '(404) 658-1111', 'distance': 10487.708380996344}, {'id': 'CP4X818HGlqO_-mihf67cw', 'alias': 'oakhurst-market-decatur', 'name': 'Oakhurst Market', 'image_url': 'https://s3-media3.fl.yelpcdn.com/bphoto/fcT_URTUu7rrSBSvhtvWSQ/o.jpg', 'is_closed': False, 'url': 'https://www.yelp.com/biz/oakhurst-market-decatur?adjust_creative=snrJLEHqJkQMzzV_Rc2HBw&utm_campaign=yelp_api_v3&utm_medium=api_v3_business_search&utm_source=snrJLEHqJkQMzzV_Rc2HBw', 'review_count': 49, 'categories': [{'alias': 'grocery', 'title': 'Grocery'}], 'rating': 3.5, 'coordinates': {'latitude': 33.76001, 'longitude': -84.30419}, 'transactions': [], 'price': '$$', 'location': {'address1': '650 E Lake Dr', 'address2': '', 'address3': '', 'city': 'Decatur', 'zip_code': '30030', 'country': 'US', 'state': 'GA', 'display_address': ['650 E Lake Dr', 'Decatur, GA 30030']}, 'phone': '+16787323109', 'display_phone': '(678) 732-3109', 'distance': 8758.80370407843}, {'id': 'EL7rHIa61N8_sAOpJD47jA', 'alias': 'sprouts-farmers-market-sandy-springs', 'name': 'Sprouts Farmers Market', 'image_url': 'https://s3-media2.fl.yelpcdn.com/bphoto/7YAgylkoaiG5Op_kOLqhZA/o.jpg', 'is_closed': False, 'url': 'https://www.yelp.com/biz/sprouts-farmers-market-sandy-springs?adjust_creative=snrJLEHqJkQMzzV_Rc2HBw&utm_campaign=yelp_api_v3&utm_medium=api_v3_business_search&utm_source=snrJLEHqJkQMzzV_Rc2HBw', 'review_count': 52, 'categories': [{'alias': 'grocery', 'title': 'Grocery'}, {'alias': 'healthmarkets', 'title': 'Health Markets'}, {'alias': 'organic_stores', 'title': 'Organic Stores'}], 'rating': 3.5, 'coordinates': {'latitude': 33.88141, 'longitude': -84.38083}, 'transactions': [], 'price': '$$', 'location': {'address1': '4600 Roswell Rd', 'address2': 'Unit A100', 'address3': None, 'city': 'Sandy Springs', 'zip_code': '30342', 'country': 'US', 'state': 'GA', 'display_address': ['4600 Roswell Rd', 'Unit A100', 'Sandy Springs, GA 30342']}, 'phone': '+16789545294', 'display_phone': '(678) 954-5294', 'distance': 7612.261225000421}, {'id': 'eAZHNXvk1t-nbLpe7FB5UQ', 'alias': 'publix-decatur', 'name': 'Publix', 'image_url': 'https://s3-media1.fl.yelpcdn.com/bphoto/Mn3KVVthFHcNLcvK0RotnQ/o.jpg', 'is_closed': False, 'url': 'https://www.yelp.com/biz/publix-decatur?adjust_creative=snrJLEHqJkQMzzV_Rc2HBw&utm_campaign=yelp_api_v3&utm_medium=api_v3_business_search&utm_source=snrJLEHqJkQMzzV_Rc2HBw', 'review_count': 52, 'categories': [{'alias': 'grocery', 'title': 'Grocery'}], 'rating': 3.0, 'coordinates': {'latitude': 33.789997, 'longitude': -84.304372}, 'transactions': ['delivery'], 'price': '$$', 'location': {'address1': '2155 N Decatur Rd', 'address2': '', 'address3': 'Emory Commons', 'city': 'Decatur', 'zip_code': '30033', 'country': 'US', 'state': 'GA', 'display_address': ['2155 N Decatur Rd', 'Emory Commons', 'Decatur, GA 30033']}, 'phone': '+14046386015', 'display_phone': '(404) 638-6015', 'distance': 6900.189595380151}, {'id': '18XyUL-SIdK2XdmUrlpOcA', 'alias': 'walmart-atlanta-11', 'name': 'Walmart', 'image_url': 'https://s3-media3.fl.yelpcdn.com/bphoto/FKf6hf2VGmwM4_xSoxikYQ/o.jpg', 'is_closed': False, 'url': 'https://www.yelp.com/biz/walmart-atlanta-11?adjust_creative=snrJLEHqJkQMzzV_Rc2HBw&utm_campaign=yelp_api_v3&utm_medium=api_v3_business_search&utm_source=snrJLEHqJkQMzzV_Rc2HBw', 'review_count': 52, 'categories': [{'alias': 'grocery', 'title': 'Grocery'}, {'alias': 'deptstores', 'title': 'Department Stores'}], 'rating': 2.0, 'coordinates': {'latitude': 33.7559325, 'longitude': -84.4136613}, 'transactions': [], 'price': '$', 'location': {'address1': '835 Martin Luther King Jr Driv', 'address2': None, 'address3': None, 'city': 'Atlanta', 'zip_code': '30314', 'country': 'US', 'state': 'GA', 'display_address': ['835 Martin Luther King Jr Driv', 'Atlanta, GA 30314']}, 'phone': '+14044602703', 'display_phone': '(404) 460-2703', 'distance': 7365.961897717931}, {'id': '_BBmlaBt5gKGcbch63tOfg', 'alias': 'walmart-supercenter-atlanta-6', 'name': 'Walmart Supercenter', 'image_url': 'https://s3-media1.fl.yelpcdn.com/bphoto/WX7iI6tGBNHV_lHliXfpPw/o.jpg', 'is_closed': False, 'url': 'https://www.yelp.com/biz/walmart-supercenter-atlanta-6?adjust_creative=snrJLEHqJkQMzzV_Rc2HBw&utm_campaign=yelp_api_v3&utm_medium=api_v3_business_search&utm_source=snrJLEHqJkQMzzV_Rc2HBw', 'review_count': 64, 'categories': [{'alias': 'deptstores', 'title': 'Department Stores'}, {'alias': 'grocery', 'title': 'Grocery'}], 'rating': 1.5, 'coordinates': {'latitude': 33.71892, 'longitude': -84.31237}, 'transactions': [], 'price': '$$', 'location': {'address1': '2427 Gresham Rd SE', 'address2': '', 'address3': '', 'city': 'Atlanta', 'zip_code': '30316', 'country': 'US', 'state': 'GA', 'display_address': ['2427 Gresham Rd SE', 'Atlanta, GA 30316']}, 'phone': '+14042443034', 'display_phone': '(404) 244-3034', 'distance': 11881.305797358382}, {'id': 'bsKb8rLI_qLdgVC83Pz6Qw', 'alias': 'whole-foods-market-decatur', 'name': 'Whole Foods Market', 'image_url': 'https://s3-media4.fl.yelpcdn.com/bphoto/FsJiyNrCjHAD_luQ-FB6XQ/o.jpg', 'is_closed': False, 'url': 'https://www.yelp.com/biz/whole-foods-market-decatur?adjust_creative=snrJLEHqJkQMzzV_Rc2HBw&utm_campaign=yelp_api_v3&utm_medium=api_v3_business_search&utm_source=snrJLEHqJkQMzzV_Rc2HBw', 'review_count': 55, 'categories': [{'alias': 'grocery', 'title': 'Grocery'}, {'alias': 'healthmarkets', 'title': 'Health Markets'}, {'alias': 'organic_stores', 'title': 'Organic Stores'}], 'rating': 3.0, 'coordinates': {'latitude': 33.792778, 'longitude': -84.28424}, 'transactions': [], 'price': '$$', 'location': {'address1': '1555 Church St', 'address2': None, 'address3': None, 'city': 'Decatur', 'zip_code': '30033', 'country': 'US', 'state': 'GA', 'display_address': ['1555 Church St', 'Decatur, GA 30033']}, 'phone': '+14702377340', 'display_phone': '(470) 237-7340', 'distance': 8566.022290721556}, {'id': 'm4zJiJqki778PECWh_5BQg', 'alias': 'savi-provisions-atlanta-8', 'name': 'Savi Provisions', 'image_url': 'https://s3-media4.fl.yelpcdn.com/bphoto/JKyR8AuWfE9sVcdvbiOGmA/o.jpg', 'is_closed': False, 'url': 'https://www.yelp.com/biz/savi-provisions-atlanta-8?adjust_creative=snrJLEHqJkQMzzV_Rc2HBw&utm_campaign=yelp_api_v3&utm_medium=api_v3_business_search&utm_source=snrJLEHqJkQMzzV_Rc2HBw', 'review_count': 23, 'categories': [{'alias': 'beer_and_wine', 'title': 'Beer, Wine & Spirits'}, {'alias': 'grocery', 'title': 'Grocery'}, {'alias': 'organic_stores', 'title': 'Organic Stores'}], 'rating': 2.5, 'coordinates': {'latitude': 33.837338486409344, 'longitude': -84.37756857892144}, 'transactions': ['delivery', 'pickup'], 'price': '$$', 'location': {'address1': '308 Pharr Rd NE', 'address2': '', 'address3': None, 'city': 'Atlanta', 'zip_code': '30305', 'country': 'US', 'state': 'GA', 'display_address': ['308 Pharr Rd NE', 'Atlanta, GA 30305']}, 'phone': '+16789730473', 'display_phone': '(678) 973-0473', 'distance': 2707.2153326659954}, {'id': '-Z_rkTPRDW-9sYLp1X01Qg', 'alias': 'the-local-farmstand-atlanta', 'name': 'The Local Farmstand', 'image_url': 'https://s3-media2.fl.yelpcdn.com/bphoto/mtAly373TtbvQcmAZbTJLA/o.jpg', 'is_closed': False, 'url': 'https://www.yelp.com/biz/the-local-farmstand-atlanta?adjust_creative=snrJLEHqJkQMzzV_Rc2HBw&utm_campaign=yelp_api_v3&utm_medium=api_v3_business_search&utm_source=snrJLEHqJkQMzzV_Rc2HBw', 'review_count': 3, 'categories': [{'alias': 'farmersmarket', 'title': 'Farmers Market'}, {'alias': 'grocery', 'title': 'Grocery'}], 'rating': 4.5, 'coordinates': {'latitude': 33.78678, 'longitude': -84.41226}, 'transactions': [], 'price': '$$', 'location': {'address1': '1198 Howell Mill Rd', 'address2': '', 'address3': '', 'city': 'Atlanta', 'zip_code': '30318', 'country': 'US', 'state': 'GA', 'display_address': ['1198 Howell Mill Rd', 'Atlanta, GA 30318']}, 'phone': '+14044238639', 'display_phone': '(404) 423-8639', 'distance': 4622.187949399165}, {'id': 'WAzlzw7gTZn22Lv5Y0jAbw', 'alias': 'aldi-smyrna', 'name': 'ALDI', 'image_url': 'https://s3-media2.fl.yelpcdn.com/bphoto/uF1dDzDzEvBsxJ-VoLnyMQ/o.jpg', 'is_closed': False, 'url': 'https://www.yelp.com/biz/aldi-smyrna?adjust_creative=snrJLEHqJkQMzzV_Rc2HBw&utm_campaign=yelp_api_v3&utm_medium=api_v3_business_search&utm_source=snrJLEHqJkQMzzV_Rc2HBw', 'review_count': 28, 'categories': [{'alias': 'grocery', 'title': 'Grocery'}, {'alias': 'markets', 'title': 'Fruits & Veggies'}, {'alias': 'organic_stores', 'title': 'Organic Stores'}], 'rating': 4.0, 'coordinates': {'latitude': 33.8839305, 'longitude': -84.4773695}, 'transactions': [], 'price': '$', 'location': {'address1': '2589 Spring Rd', 'address2': '', 'address3': '', 'city': 'Smyrna', 'zip_code': '30080', 'country': 'US', 'state': 'GA', 'display_address': ['2589 Spring Rd', 'Smyrna, GA 30080']}, 'phone': '+18559552534', 'display_phone': '(855) 955-2534', 'distance': 12394.324721786274}, {'id': 'r1EJBgAoFptnlMHHw7xvgw', 'alias': 'aldi-decatur-4', 'name': 'ALDI', 'image_url': 'https://s3-media1.fl.yelpcdn.com/bphoto/7YyBwqrYMTCIgCw58Z6xyg/o.jpg', 'is_closed': False, 'url': 'https://www.yelp.com/biz/aldi-decatur-4?adjust_creative=snrJLEHqJkQMzzV_Rc2HBw&utm_campaign=yelp_api_v3&utm_medium=api_v3_business_search&utm_source=snrJLEHqJkQMzzV_Rc2HBw', 'review_count': 13, 'categories': [{'alias': 'grocery', 'title': 'Grocery'}, {'alias': 'markets', 'title': 'Fruits & Veggies'}, {'alias': 'organic_stores', 'title': 'Organic Stores'}], 'rating': 4.0, 'coordinates': {'latitude': 33.795840872623316, 'longitude': -84.2852949833123}, 'transactions': [], 'location': {'address1': '676 Decatur Village Way', 'address2': '', 'address3': None, 'city': 'Decatur', 'zip_code': '30033', 'country': 'US', 'state': 'GA', 'display_address': ['676 Decatur Village Way', 'Decatur, GA 30033']}, 'phone': '+18559552534', 'display_phone': '(855) 955-2534', 'distance': 8387.008326580066}, {'id': 'ncknZubRffQAUx2Xhfe_kg', 'alias': 'kroger-decatur-4', 'name': 'Kroger', 'image_url': 'https://s3-media2.fl.yelpcdn.com/bphoto/uC-ILLamzEUrtZVmLnb6mg/o.jpg', 'is_closed': False, 'url': 'https://www.yelp.com/biz/kroger-decatur-4?adjust_creative=snrJLEHqJkQMzzV_Rc2HBw&utm_campaign=yelp_api_v3&utm_medium=api_v3_business_search&utm_source=snrJLEHqJkQMzzV_Rc2HBw', 'review_count': 75, 'categories': [{'alias': 'drugstores', 'title': 'Drugstores'}, {'alias': 'grocery', 'title': 'Grocery'}], 'rating': 2.5, 'coordinates': {'latitude': 33.7936494, 'longitude': -84.2744273}, 'transactions': [], 'price': '$$', 'location': {'address1': '2875 N Decatur Rd', 'address2': '', 'address3': '', 'city': 'Decatur', 'zip_code': '30033', 'country': 'US', 'state': 'GA', 'display_address': ['2875 N Decatur Rd', 'Decatur, GA 30033']}, 'phone': '+14042945311', 'display_phone': '(404) 294-5311', 'distance': 9554.277116423851}, {'id': 'djmpbyB3yJpVlV-puwvGVw', 'alias': 'savi-provisions-lenox-atlanta-2', 'name': 'Savi Provisions - Lenox', 'image_url': 'https://s3-media1.fl.yelpcdn.com/bphoto/4_stO8bA4Szh9LL176SuCg/o.jpg', 'is_closed': False, 'url': 'https://www.yelp.com/biz/savi-provisions-lenox-atlanta-2?adjust_creative=snrJLEHqJkQMzzV_Rc2HBw&utm_campaign=yelp_api_v3&utm_medium=api_v3_business_search&utm_source=snrJLEHqJkQMzzV_Rc2HBw', 'review_count': 2, 'categories': [{'alias': 'grocery', 'title': 'Grocery'}, {'alias': 'wine_bars', 'title': 'Wine Bars'}, {'alias': 'delis', 'title': 'Delis'}], 'rating': 5.0, 'coordinates': {'latitude': 33.84844, 'longitude': -84.35736}, 'transactions': [], 'location': {'address1': '3478 Lakeside Dr NE', 'address2': 'Ste A', 'address3': None, 'city': 'Atlanta', 'zip_code': '30326', 'country': 'US', 'state': 'GA', 'display_address': ['3478 Lakeside Dr NE', 'Ste A', 'Atlanta, GA 30326']}, 'phone': '', 'display_phone': '', 'distance': 4197.099302310204}, {'id': 'TrnDAThdxnxS1oSfM8M1SQ', 'alias': 'la-chiquita-mic-atlanta', 'name': 'La Chiquita Mic', 'image_url': 'https://s3-media4.fl.yelpcdn.com/bphoto/bIlGaPh2OP7pqwuji8Aaaw/o.jpg', 'is_closed': False, 'url': 'https://www.yelp.com/biz/la-chiquita-mic-atlanta?adjust_creative=snrJLEHqJkQMzzV_Rc2HBw&utm_campaign=yelp_api_v3&utm_medium=api_v3_business_search&utm_source=snrJLEHqJkQMzzV_Rc2HBw', 'review_count': 5, 'categories': [{'alias': 'cuban', 'title': 'Cuban'}, {'alias': 'grocery', 'title': 'Grocery'}, {'alias': 'convenience', 'title': 'Convenience Stores'}], 'rating': 3.5, 'coordinates': {'latitude': 33.867131, 'longitude': -84.308928}, 'transactions': [], 'price': '$', 'location': {'address1': '3669 Clairmont Rd', 'address2': '', 'address3': '', 'city': 'Atlanta', 'zip_code': '30341', 'country': 'US', 'state': 'GA', 'display_address': ['3669 Clairmont Rd', 'Atlanta, GA 30341']}, 'phone': '+16788940441', 'display_phone': '(678) 894-0441', 'distance': 8464.656781507276}, {'id': 'mkJ-UWinOmXBXWHhsOJ4AQ', 'alias': 'publix-decatur-7', 'name': 'Publix', 'image_url': 'https://s3-media3.fl.yelpcdn.com/bphoto/SHZgBmklD0jCTjSirL9YnQ/o.jpg', 'is_closed': False, 'url': 'https://www.yelp.com/biz/publix-decatur-7?adjust_creative=snrJLEHqJkQMzzV_Rc2HBw&utm_campaign=yelp_api_v3&utm_medium=api_v3_business_search&utm_source=snrJLEHqJkQMzzV_Rc2HBw', 'review_count': 31, 'categories': [{'alias': 'grocery', 'title': 'Grocery'}], 'rating': 3.0, 'coordinates': {'latitude': 33.81133, 'longitude': -84.2745599}, 'transactions': ['delivery'], 'price': '$$', 'location': {'address1': '3870 N Druid Hills Rd', 'address2': '', 'address3': '', 'city': 'Decatur', 'zip_code': '30033', 'country': 'US', 'state': 'GA', 'display_address': ['3870 N Druid Hills Rd', 'Decatur, GA 30033']}, 'phone': '+14046381293', 'display_phone': '(404) 638-1293', 'distance': 9140.696355947193}, {'id': 'w7JPgoQHI134Qx-QDlPa7A', 'alias': 'el-progreso-6-brookhaven', 'name': 'El Progreso 6', 'image_url': 'https://s3-media1.fl.yelpcdn.com/bphoto/yRkcRK_jTu9yjxPqwuRqlA/o.jpg', 'is_closed': False, 'url': 'https://www.yelp.com/biz/el-progreso-6-brookhaven?adjust_creative=snrJLEHqJkQMzzV_Rc2HBw&utm_campaign=yelp_api_v3&utm_medium=api_v3_business_search&utm_source=snrJLEHqJkQMzzV_Rc2HBw', 'review_count': 4, 'categories': [{'alias': 'meats', 'title': 'Meat Shops'}, {'alias': 'grocery', 'title': 'Grocery'}], 'rating': 4.5, 'coordinates': {'latitude': 33.8371499215605, 'longitude': -84.3346300721168}, 'transactions': [], 'price': '$', 'location': {'address1': '3061 Buford Hwy NE', 'address2': '', 'address3': '', 'city': 'Brookhaven', 'zip_code': '30329', 'country': 'US', 'state': 'GA', 'display_address': ['3061 Buford Hwy NE', 'Brookhaven, GA 30329']}, 'phone': '+14043253210', 'display_phone': '(404) 325-3210', 'distance': 4478.922572652617}, {'id': '3JVW5cizuzx_vysiCb4WEA', 'alias': 'wayfield-foods-atlanta-12', 'name': 'Wayfield Foods', 'image_url': 'https://s3-media2.fl.yelpcdn.com/bphoto/E3Y-FfVJS7d2HA9pjhgD4A/o.jpg', 'is_closed': False, 'url': 'https://www.yelp.com/biz/wayfield-foods-atlanta-12?adjust_creative=snrJLEHqJkQMzzV_Rc2HBw&utm_campaign=yelp_api_v3&utm_medium=api_v3_business_search&utm_source=snrJLEHqJkQMzzV_Rc2HBw', 'review_count': 11, 'categories': [{'alias': 'grocery', 'title': 'Grocery'}, {'alias': 'meats', 'title': 'Meat Shops'}], 'rating': 2.5, 'coordinates': {'latitude': 33.750533, 'longitude': -84.486001}, 'transactions': [], 'price': '$', 'location': {'address1': '3050 Martin Luther King Jr Dr', 'address2': None, 'address3': None, 'city': 'Atlanta', 'zip_code': '30311', 'country': 'US', 'state': 'GA', 'display_address': ['3050 Martin Luther King Jr Dr', 'Atlanta, GA 30311']}, 'phone': '+14045050158', 'display_phone': '(404) 505-0158', 'distance': 12507.58807517995}, {'id': 'yTi4IMU9H2M88aUwmEvX4A', 'alias': 'bismillah-supermarket-atlanta', 'name': 'Bismillah Supermarket', 'image_url': 'https://s3-media2.fl.yelpcdn.com/bphoto/_hIDFiVl50kBhsdYIxtPeA/o.jpg', 'is_closed': False, 'url': 'https://www.yelp.com/biz/bismillah-supermarket-atlanta?adjust_creative=snrJLEHqJkQMzzV_Rc2HBw&utm_campaign=yelp_api_v3&utm_medium=api_v3_business_search&utm_source=snrJLEHqJkQMzzV_Rc2HBw', 'review_count': 3, 'categories': [{'alias': 'grocery', 'title': 'Grocery'}], 'rating': 3.5, 'coordinates': {'latitude': 33.8607063293457, 'longitude': -84.3094253540039}, 'transactions': [], 'price': '$$', 'location': {'address1': '4022 Buford Hwy NE', 'address2': '', 'address3': '', 'city': 'Atlanta', 'zip_code': '30345', 'country': 'US', 'state': 'GA', 'display_address': ['4022 Buford Hwy NE', 'Atlanta, GA 30345']}, 'phone': '+14043209188', 'display_phone': '(404) 320-9188', 'distance': 7945.935785575755}, {'id': 'y4C79MoCS9vrf_i_3Th6KA', 'alias': 'walmart-supercenter-chamblee', 'name': 'Walmart Supercenter', 'image_url': 'https://s3-media1.fl.yelpcdn.com/bphoto/hYsIawb6FQouWzaLdYLjIg/o.jpg', 'is_closed': False, 'url': 'https://www.yelp.com/biz/walmart-supercenter-chamblee?adjust_creative=snrJLEHqJkQMzzV_Rc2HBw&utm_campaign=yelp_api_v3&utm_medium=api_v3_business_search&utm_source=snrJLEHqJkQMzzV_Rc2HBw', 'review_count': 111, 'categories': [{'alias': 'deptstores', 'title': 'Department Stores'}, {'alias': 'grocery', 'title': 'Grocery'}], 'rating': 2.0, 'coordinates': {'latitude': 33.888761, 'longitude': -84.31146}, 'transactions': [], 'price': '$', 'location': {'address1': '1871 Chamblee Tucker Rd', 'address2': '', 'address3': '', 'city': 'Chamblee', 'zip_code': '30341', 'country': 'US', 'state': 'GA', 'display_address': ['1871 Chamblee Tucker Rd', 'Chamblee, GA 30341']}, 'phone': '+17704550422', 'display_phone': '(770) 455-0422', 'distance': 10174.787511041814}, {'id': 'mWZz_7fQPnW6byahr7E01A', 'alias': 'carneceria-mi-pueblo-atlanta', 'name': 'Carneceria Mi Pueblo', 'image_url': 'https://s3-media1.fl.yelpcdn.com/bphoto/k-CXKKONRuzyXQjrhyfY8Q/o.jpg', 'is_closed': False, 'url': 'https://www.yelp.com/biz/carneceria-mi-pueblo-atlanta?adjust_creative=snrJLEHqJkQMzzV_Rc2HBw&utm_campaign=yelp_api_v3&utm_medium=api_v3_business_search&utm_source=snrJLEHqJkQMzzV_Rc2HBw', 'review_count': 4, 'categories': [{'alias': 'grocery', 'title': 'Grocery'}], 'rating': 3.5, 'coordinates': {'latitude': 33.8598528886646, 'longitude': -84.3085935339332}, 'transactions': [], 'price': '$$', 'location': {'address1': '4005 Buford Hwy NE', 'address2': '', 'address3': '', 'city': 'Atlanta', 'zip_code': '30345', 'country': 'US', 'state': 'GA', 'display_address': ['4005 Buford Hwy NE', 'Atlanta, GA 30345']}, 'phone': '+14046367727', 'display_phone': '(404) 636-7727', 'distance': 7935.651481346383}, {'id': 'DGcgMpgM_CH7Ojp6o2epIQ', 'alias': 'kroger-decatur-3', 'name': 'Kroger', 'image_url': 'https://s3-media1.fl.yelpcdn.com/bphoto/2d11G_3A0YJPW9Rx7x_LlA/o.jpg', 'is_closed': False, 'url': 'https://www.yelp.com/biz/kroger-decatur-3?adjust_creative=snrJLEHqJkQMzzV_Rc2HBw&utm_campaign=yelp_api_v3&utm_medium=api_v3_business_search&utm_source=snrJLEHqJkQMzzV_Rc2HBw', 'review_count': 44, 'categories': [{'alias': 'grocery', 'title': 'Grocery'}], 'rating': 2.5, 'coordinates': {'latitude': 33.77819, 'longitude': -84.29298}, 'transactions': [], 'price': '$$', 'location': {'address1': '720 Commerce Dr', 'address2': '', 'address3': '', 'city': 'Decatur', 'zip_code': '30030', 'country': 'US', 'state': 'GA', 'display_address': ['720 Commerce Dr', 'Decatur, GA 30030']}, 'phone': '+14043710719', 'display_phone': '(404) 371-0719', 'distance': 8393.671909098091}, {'id': 'T767QAa9JH6pTXLLbtmP0Q', 'alias': 'fiesta-foods-atlanta', 'name': 'Fiesta Foods', 'image_url': 'https://s3-media3.fl.yelpcdn.com/bphoto/_a2YDtZVld3IAbMkxLpStQ/o.jpg', 'is_closed': False, 'url': 'https://www.yelp.com/biz/fiesta-foods-atlanta?adjust_creative=snrJLEHqJkQMzzV_Rc2HBw&utm_campaign=yelp_api_v3&utm_medium=api_v3_business_search&utm_source=snrJLEHqJkQMzzV_Rc2HBw', 'review_count': 1, 'categories': [{'alias': 'grocery', 'title': 'Grocery'}], 'rating': 5.0, 'coordinates': {'latitude': 33.8222923278809, 'longitude': -84.3668670654297}, 'transactions': [], 'location': {'address1': '2455 Piedmont Rd NE', 'address2': None, 'address3': None, 'city': 'Atlanta', 'zip_code': '30324', 'country': 'US', 'state': 'GA', 'display_address': ['2455 Piedmont Rd NE', 'Atlanta, GA 30324']}, 'phone': '+14048142300', 'display_phone': '(404) 814-2300', 'distance': 1186.9097758008775}, {'id': 'ge-qiDq1kvhP1sYJZOU_uw', 'alias': 'aldi-decatur-2', 'name': 'ALDI', 'image_url': 'https://s3-media1.fl.yelpcdn.com/bphoto/Ncq1bQN2MjY9djohBgVIGQ/o.jpg', 'is_closed': False, 'url': 'https://www.yelp.com/biz/aldi-decatur-2?adjust_creative=snrJLEHqJkQMzzV_Rc2HBw&utm_campaign=yelp_api_v3&utm_medium=api_v3_business_search&utm_source=snrJLEHqJkQMzzV_Rc2HBw', 'review_count': 12, 'categories': [{'alias': 'grocery', 'title': 'Grocery'}, {'alias': 'markets', 'title': 'Fruits & Veggies'}, {'alias': 'organic_stores', 'title': 'Organic Stores'}], 'rating': 4.0, 'coordinates': {'latitude': 33.7540203478635, 'longitude': -84.27081763744354}, 'transactions': [], 'price': '$', 'location': {'address1': '3480 Memorial Dr', 'address2': '', 'address3': '', 'city': 'Decatur', 'zip_code': '30032', 'country': 'US', 'state': 'GA', 'display_address': ['3480 Memorial Dr', 'Decatur, GA 30032']}, 'phone': '+18559552534', 'display_phone': '(855) 955-2534', 'distance': 11558.553546748899}, {'id': '84y3KX0Hk0q9_CH5r-vYYg', 'alias': 'kroger-smyrna', 'name': 'Kroger', 'image_url': 'https://s3-media3.fl.yelpcdn.com/bphoto/Vm5Bhe21jgqmfDBUY8l-YQ/o.jpg', 'is_closed': False, 'url': 'https://www.yelp.com/biz/kroger-smyrna?adjust_creative=snrJLEHqJkQMzzV_Rc2HBw&utm_campaign=yelp_api_v3&utm_medium=api_v3_business_search&utm_source=snrJLEHqJkQMzzV_Rc2HBw', 'review_count': 43, 'categories': [{'alias': 'grocery', 'title': 'Grocery'}], 'rating': 2.5, 'coordinates': {'latitude': 33.838851, 'longitude': -84.481735}, 'transactions': [], 'price': '$', 'location': {'address1': '4715 S Atlanta Road', 'address2': '', 'address3': '', 'city': 'Smyrna', 'zip_code': '30080', 'country': 'US', 'state': 'GA', 'display_address': ['4715 S Atlanta Road', 'Smyrna, GA 30080']}, 'phone': '+14047926990', 'display_phone': '(404) 792-6990', 'distance': 10385.232938167057}, {'id': 'jCret0qNm24WzrRQckUEjQ', 'alias': 'hop-n-shop-food-store-decatur', 'name': 'Hop N Shop Food Store', 'image_url': 'https://s3-media2.fl.yelpcdn.com/bphoto/qke_BQVYgZffB7QrL1rLaw/o.jpg', 'is_closed': False, 'url': 'https://www.yelp.com/biz/hop-n-shop-food-store-decatur?adjust_creative=snrJLEHqJkQMzzV_Rc2HBw&utm_campaign=yelp_api_v3&utm_medium=api_v3_business_search&utm_source=snrJLEHqJkQMzzV_Rc2HBw', 'review_count': 6, 'categories': [{'alias': 'grocery', 'title': 'Grocery'}], 'rating': 4.5, 'coordinates': {'latitude': 33.7593994, 'longitude': -84.3028564}, 'transactions': [], 'price': '$', 'location': {'address1': '710 E Lake Dr', 'address2': '', 'address3': '', 'city': 'Decatur', 'zip_code': '30030', 'country': 'US', 'state': 'GA', 'display_address': ['710 E Lake Dr', 'Decatur, GA 30030']}, 'phone': '+14043786411', 'display_phone': '(404) 378-6411', 'distance': 8869.093517919799}, {'id': 'EeA24XDyT9jsyv4vFm9BlQ', 'alias': 'lidl-atlanta-16', 'name': 'Lidl', 'image_url': 'https://s3-media3.fl.yelpcdn.com/bphoto/xFWjLqWWyB9-EuvS1D3VDA/o.jpg', 'is_closed': False, 'url': 'https://www.yelp.com/biz/lidl-atlanta-16?adjust_creative=snrJLEHqJkQMzzV_Rc2HBw&utm_campaign=yelp_api_v3&utm_medium=api_v3_business_search&utm_source=snrJLEHqJkQMzzV_Rc2HBw', 'review_count': 1, 'categories': [{'alias': 'grocery', 'title': 'Grocery'}], 'rating': 5.0, 'coordinates': {'latitude': 33.82798219, 'longitude': -84.33324033}, 'transactions': [], 'location': {'address1': '2480 Briarcliff Rd NE', 'address2': None, 'address3': None, 'city': 'Atlanta', 'zip_code': '30329', 'country': 'US', 'state': 'GA', 'display_address': ['2480 Briarcliff Rd NE', 'Atlanta, GA 30329']}, 'phone': '+18447475435', 'display_phone': '(844) 747-5435', 'distance': 4076.29799379271}, {'id': '5Poc0A9-aBmBHUjSGiicdw', 'alias': 'khanh-tam-atlanta', 'name': 'Khanh Tam', 'image_url': 'https://s3-media1.fl.yelpcdn.com/bphoto/dq32PvGWM14fG2qc90RQrw/o.jpg', 'is_closed': False, 'url': 'https://www.yelp.com/biz/khanh-tam-atlanta?adjust_creative=snrJLEHqJkQMzzV_Rc2HBw&utm_campaign=yelp_api_v3&utm_medium=api_v3_business_search&utm_source=snrJLEHqJkQMzzV_Rc2HBw', 'review_count': 1, 'categories': [{'alias': 'grocery', 'title': 'Grocery'}], 'rating': 5.0, 'coordinates': {'latitude': 33.8611297607422, 'longitude': -84.307373046875}, 'transactions': [], 'location': {'address1': '4051 Buford Hwy NE', 'address2': '', 'address3': '', 'city': 'Atlanta', 'zip_code': '30345', 'country': 'US', 'state': 'GA', 'display_address': ['4051 Buford Hwy NE', 'Atlanta, GA 30345']}, 'phone': '+14047280393', 'display_phone': '(404) 728-0393', 'distance': 8099.951408516014}], 'total': 147, 'region': {'center': {'longitude': -84.37362670898438, 'latitude': 33.81321311652279}}}, {'businesses': [{'id': 'cz_S2-xjyTiJt9eDiKGNJg', 'alias': 'the-grocery-spot-atlanta', 'name': 'The Grocery Spot', 'image_url': 'https://s3-media3.fl.yelpcdn.com/bphoto/m_DQEFjJfAgWNoksTMNZ7w/o.jpg', 'is_closed': False, 'url': 'https://www.yelp.com/biz/the-grocery-spot-atlanta?adjust_creative=snrJLEHqJkQMzzV_Rc2HBw&utm_campaign=yelp_api_v3&utm_medium=api_v3_business_search&utm_source=snrJLEHqJkQMzzV_Rc2HBw', 'review_count': 1, 'categories': [{'alias': 'grocery', 'title': 'Grocery'}], 'rating': 5.0, 'coordinates': {'latitude': 33.77642, 'longitude': -84.45055}, 'transactions': [], 'location': {'address1': '777 Charlotte Pl NW', 'address2': None, 'address3': None, 'city': 'Atlanta', 'zip_code': '30318', 'country': 'US', 'state': 'GA', 'display_address': ['777 Charlotte Pl NW', 'Atlanta, GA 30318']}, 'phone': '+14702526351', 'display_phone': '(470) 252-6351', 'distance': 8200.26592153749}, {'id': 'hcDKkNZHJz1f7aPxIhiarQ', 'alias': 'brito-super-market-atlanta', 'name': 'Brito Super Market', 'image_url': 'https://s3-media1.fl.yelpcdn.com/bphoto/Fo9lXjj4pGUIS6NaOATyXQ/o.jpg', 'is_closed': False, 'url': 'https://www.yelp.com/biz/brito-super-market-atlanta?adjust_creative=snrJLEHqJkQMzzV_Rc2HBw&utm_campaign=yelp_api_v3&utm_medium=api_v3_business_search&utm_source=snrJLEHqJkQMzzV_Rc2HBw', 'review_count': 1, 'categories': [{'alias': 'grocery', 'title': 'Grocery'}, {'alias': 'tacos', 'title': 'Tacos'}], 'rating': 5.0, 'coordinates': {'latitude': 33.8851737976074, 'longitude': -84.2568206787109}, 'transactions': [], 'price': '$', 'location': {'address1': '3322 Chamblee Tucker Rd', 'address2': '', 'address3': '', 'city': 'Atlanta', 'zip_code': '30341', 'country': 'US', 'state': 'GA', 'display_address': ['3322 Chamblee Tucker Rd', 'Atlanta, GA 30341']}, 'phone': '+17704549530', 'display_phone': '(770) 454-9530', 'distance': 13431.80293481308}, {'id': 'zRoAltvG90xPnH9Jj-bLMg', 'alias': 'inter-asian-atlanta', 'name': 'Inter Asian', 'image_url': 'https://s3-media2.fl.yelpcdn.com/bphoto/6xPuIuVikhrkL2O1MuWmlg/o.jpg', 'is_closed': False, 'url': 'https://www.yelp.com/biz/inter-asian-atlanta?adjust_creative=snrJLEHqJkQMzzV_Rc2HBw&utm_campaign=yelp_api_v3&utm_medium=api_v3_business_search&utm_source=snrJLEHqJkQMzzV_Rc2HBw', 'review_count': 1, 'categories': [{'alias': 'grocery', 'title': 'Grocery'}], 'rating': 5.0, 'coordinates': {'latitude': 33.8927457, 'longitude': -84.3104246}, 'transactions': [], 'location': {'address1': '204 Marray Dr', 'address2': '', 'address3': '', 'city': 'Atlanta', 'zip_code': '30341', 'country': 'US', 'state': 'GA', 'display_address': ['204 Marray Dr', 'Atlanta, GA 30341']}, 'phone': '+17704571411', 'display_phone': '(770) 457-1411', 'distance': 10575.840948085404}, {'id': '3p5N9lqiqEvvDp5Bw1qXzQ', 'alias': 'dinho-market-of-atlanta-chamblee', 'name': 'Dinho Market of Atlanta', 'image_url': 'https://s3-media3.fl.yelpcdn.com/bphoto/HTt3sycAc4y6BiHA2f92aQ/o.jpg', 'is_closed': False, 'url': 'https://www.yelp.com/biz/dinho-market-of-atlanta-chamblee?adjust_creative=snrJLEHqJkQMzzV_Rc2HBw&utm_campaign=yelp_api_v3&utm_medium=api_v3_business_search&utm_source=snrJLEHqJkQMzzV_Rc2HBw', 'review_count': 21, 'categories': [{'alias': 'grocery', 'title': 'Grocery'}], 'rating': 3.0, 'coordinates': {'latitude': 33.890656, 'longitude': -84.300489}, 'transactions': [], 'price': '$', 'location': {'address1': '5381 New Peachtree Rd', 'address2': '', 'address3': '', 'city': 'Chamblee', 'zip_code': '30341', 'country': 'US', 'state': 'GA', 'display_address': ['5381 New Peachtree Rd', 'Chamblee, GA 30341']}, 'phone': '+17704526907', 'display_phone': '(770) 452-6907', 'distance': 10943.89228894235}, {'id': 'pgspXXKA5IShwNF_CdNdeQ', 'alias': 'south-eastern-oriental-market-atlanta', 'name': 'South Eastern Oriental Market', 'image_url': 'https://s3-media4.fl.yelpcdn.com/bphoto/4MhF4wUcqxE48W1adTBTqg/o.jpg', 'is_closed': False, 'url': 'https://www.yelp.com/biz/south-eastern-oriental-market-atlanta?adjust_creative=snrJLEHqJkQMzzV_Rc2HBw&utm_campaign=yelp_api_v3&utm_medium=api_v3_business_search&utm_source=snrJLEHqJkQMzzV_Rc2HBw', 'review_count': 3, 'categories': [{'alias': 'grocery', 'title': 'Grocery'}, {'alias': 'asianfusion', 'title': 'Asian Fusion'}], 'rating': 2.5, 'coordinates': {'latitude': 33.89238, 'longitude': -84.29406}, 'transactions': [], 'price': '$$', 'location': {'address1': '3275 Chamblee Dunwoody Rd', 'address2': '', 'address3': '', 'city': 'Atlanta', 'zip_code': '30341', 'country': 'US', 'state': 'GA', 'display_address': ['3275 Chamblee Dunwoody Rd', 'Atlanta, GA 30341']}, 'phone': '+17704515962', 'display_phone': '(770) 451-5962', 'distance': 11495.03644195091}, {'id': 'BL4T2YfNTfHL3_73doXwHw', 'alias': 'bethlehem-market-atlanta', 'name': 'Bethlehem Market', 'image_url': 'https://s3-media1.fl.yelpcdn.com/bphoto/0cUIgrLFkcOhj3JMwPow0g/o.jpg', 'is_closed': False, 'url': 'https://www.yelp.com/biz/bethlehem-market-atlanta?adjust_creative=snrJLEHqJkQMzzV_Rc2HBw&utm_campaign=yelp_api_v3&utm_medium=api_v3_business_search&utm_source=snrJLEHqJkQMzzV_Rc2HBw', 'review_count': 1, 'categories': [{'alias': 'grocery', 'title': 'Grocery'}], 'rating': 4.0, 'coordinates': {'latitude': 33.867204, 'longitude': -84.310095}, 'transactions': [], 'price': '$', 'location': {'address1': '3680-B Clairmont Rd', 'address2': '', 'address3': '', 'city': 'Atlanta', 'zip_code': '30341', 'country': 'US', 'state': 'GA', 'display_address': ['3680-B Clairmont Rd', 'Atlanta, GA 30341']}, 'phone': '+17709365787', 'display_phone': '(770) 936-5787', 'distance': 8394.71968332921}, {'id': 'aRf_CGKOd1RabVDXhz0uQQ', 'alias': 'carniceria-durango-atlanta', 'name': 'Carniceria Durango', 'image_url': 'https://s3-media4.fl.yelpcdn.com/bphoto/z30uvNTt0tDq6iQm2X61yw/o.jpg', 'is_closed': False, 'url': 'https://www.yelp.com/biz/carniceria-durango-atlanta?adjust_creative=snrJLEHqJkQMzzV_Rc2HBw&utm_campaign=yelp_api_v3&utm_medium=api_v3_business_search&utm_source=snrJLEHqJkQMzzV_Rc2HBw', 'review_count': 1, 'categories': [{'alias': 'grocery', 'title': 'Grocery'}], 'rating': 4.0, 'coordinates': {'latitude': 33.8600998, 'longitude': -84.3093719}, 'transactions': [], 'price': '$', 'location': {'address1': '4005 Buford Hwy NE', 'address2': '', 'address3': '', 'city': 'Atlanta', 'zip_code': '30345', 'country': 'US', 'state': 'GA', 'display_address': ['4005 Buford Hwy NE', 'Atlanta, GA 30345']}, 'phone': '+14046367727', 'display_phone': '(404) 636-7727', 'distance': 7945.307693242609}, {'id': 'daJxF__8q1hWxNMs0VuEHA', 'alias': 'european-market-decatur', 'name': 'European Market', 'image_url': 'https://s3-media4.fl.yelpcdn.com/bphoto/a0OW54YQhBDPK4qIc2IsUw/o.jpg', 'is_closed': False, 'url': 'https://www.yelp.com/biz/european-market-decatur?adjust_creative=snrJLEHqJkQMzzV_Rc2HBw&utm_campaign=yelp_api_v3&utm_medium=api_v3_business_search&utm_source=snrJLEHqJkQMzzV_Rc2HBw', 'review_count': 3, 'categories': [{'alias': 'grocery', 'title': 'Grocery'}], 'rating': 4.5, 'coordinates': {'latitude': 33.8104515, 'longitude': -84.2707672}, 'transactions': [], 'price': '$', 'location': {'address1': '2179 Lawrenceville Hwy', 'address2': '', 'address3': '', 'city': 'Decatur', 'zip_code': '30033', 'country': 'US', 'state': 'GA', 'display_address': ['2179 Lawrenceville Hwy', 'Decatur, GA 30033']}, 'phone': '+14043277755', 'display_phone': '(404) 327-7755', 'distance': 9507.076181467191}, {'id': 'hbQiTf8DYMoXvL6wNlTJGQ', 'alias': 'dollar-general-atlanta-12', 'name': 'Dollar General', 'image_url': 'https://s3-media2.fl.yelpcdn.com/bphoto/8myCqkfpe03b2tB-mpcsHA/o.jpg', 'is_closed': False, 'url': 'https://www.yelp.com/biz/dollar-general-atlanta-12?adjust_creative=snrJLEHqJkQMzzV_Rc2HBw&utm_campaign=yelp_api_v3&utm_medium=api_v3_business_search&utm_source=snrJLEHqJkQMzzV_Rc2HBw', 'review_count': 1, 'categories': [{'alias': 'discountstore', 'title': 'Discount Store'}, {'alias': 'grocery', 'title': 'Grocery'}], 'rating': 4.0, 'coordinates': {'latitude': 33.72095, 'longitude': -84.35033}, 'transactions': [], 'price': '$', 'location': {'address1': '1241 A Moreland Ave S E', 'address2': '', 'address3': '', 'city': 'Atlanta', 'zip_code': '30316', 'country': 'US', 'state': 'GA', 'display_address': ['1241 A Moreland Ave S E', 'Atlanta, GA 30316']}, 'phone': '+14705880583', 'display_phone': '(470) 588-0583', 'distance': 10523.71325609176}, {'id': '24zo86bZ5njEDA09cbI8tQ', 'alias': 'kroger-decatur', 'name': 'Kroger', 'image_url': 'https://s3-media1.fl.yelpcdn.com/bphoto/YfC0Gc6tPHv4NaCqbOW8-Q/o.jpg', 'is_closed': False, 'url': 'https://www.yelp.com/biz/kroger-decatur?adjust_creative=snrJLEHqJkQMzzV_Rc2HBw&utm_campaign=yelp_api_v3&utm_medium=api_v3_business_search&utm_source=snrJLEHqJkQMzzV_Rc2HBw', 'review_count': 31, 'categories': [{'alias': 'grocery', 'title': 'Grocery'}], 'rating': 2.5, 'coordinates': {'latitude': 33.75211073574373, 'longitude': -84.26963216135294}, 'transactions': [], 'price': '$', 'location': {'address1': '3479 Memorial Drive', 'address2': '', 'address3': '', 'city': 'Decatur', 'zip_code': '30032', 'country': 'US', 'state': 'GA', 'display_address': ['3479 Memorial Drive', 'Decatur, GA 30032']}, 'phone': '+14042865780', 'display_phone': '(404) 286-5780', 'distance': 11770.152172410108}, {'id': 'dOnyUlJibcEjFQo56Bl2YQ', 'alias': 'savi-provisions-decatur-decatur', 'name': 'Savi Provisions: Decatur', 'image_url': 'https://s3-media4.fl.yelpcdn.com/bphoto/tc5SCbmbVe5O9i8sazRKrw/o.jpg', 'is_closed': False, 'url': 'https://www.yelp.com/biz/savi-provisions-decatur-decatur?adjust_creative=snrJLEHqJkQMzzV_Rc2HBw&utm_campaign=yelp_api_v3&utm_medium=api_v3_business_search&utm_source=snrJLEHqJkQMzzV_Rc2HBw', 'review_count': 17, 'categories': [{'alias': 'grocery', 'title': 'Grocery'}, {'alias': 'beer_and_wine', 'title': 'Beer, Wine & Spirits'}], 'rating': 2.0, 'coordinates': {'latitude': 33.7754183, 'longitude': -84.297641}, 'transactions': [], 'price': '$$', 'location': {'address1': '180 W Ponce De Leon Ave', 'address2': '', 'address3': None, 'city': 'Decatur', 'zip_code': '30030', 'country': 'US', 'state': 'GA', 'display_address': ['180 W Ponce De Leon Ave', 'Decatur, GA 30030']}, 'phone': '+14046006021', 'display_phone': '(404) 600-6021', 'distance': 8129.046163244795}, {'id': 'K4QyrE5sm98nmjDuSmfzGQ', 'alias': 'mamanoes-grocery-shop-atlanta', 'name': 'Mamanoes Grocery Shop', 'image_url': '', 'is_closed': False, 'url': 'https://www.yelp.com/biz/mamanoes-grocery-shop-atlanta?adjust_creative=snrJLEHqJkQMzzV_Rc2HBw&utm_campaign=yelp_api_v3&utm_medium=api_v3_business_search&utm_source=snrJLEHqJkQMzzV_Rc2HBw', 'review_count': 2, 'categories': [{'alias': 'grocery', 'title': 'Grocery'}], 'rating': 2.5, 'coordinates': {'latitude': 33.7817780028681, 'longitude': -84.3835160136223}, 'transactions': [], 'location': {'address1': '112 10th St NE', 'address2': '', 'address3': '', 'city': 'Atlanta', 'zip_code': '30309', 'country': 'US', 'state': 'GA', 'display_address': ['112 10th St NE', 'Atlanta, GA 30309']}, 'phone': '', 'display_phone': '', 'distance': 3612.896126134978}, {'id': 'GvenX41VFLwuu3VOSl0BjA', 'alias': 'walmart-supercenter-decatur-4', 'name': 'Walmart Supercenter', 'image_url': 'https://s3-media1.fl.yelpcdn.com/bphoto/Y0a7dh7q2R60H2cn395jgw/o.jpg', 'is_closed': False, 'url': 'https://www.yelp.com/biz/walmart-supercenter-decatur-4?adjust_creative=snrJLEHqJkQMzzV_Rc2HBw&utm_campaign=yelp_api_v3&utm_medium=api_v3_business_search&utm_source=snrJLEHqJkQMzzV_Rc2HBw', 'review_count': 57, 'categories': [{'alias': 'deptstores', 'title': 'Department Stores'}, {'alias': 'grocery', 'title': 'Grocery'}], 'rating': 1.5, 'coordinates': {'latitude': 33.7570457458496, 'longitude': -84.2677383422852}, 'transactions': [], 'price': '$', 'location': {'address1': '3580 Memorial Dr', 'address2': '', 'address3': '', 'city': 'Decatur', 'zip_code': '30032', 'country': 'US', 'state': 'GA', 'display_address': ['3580 Memorial Dr', 'Decatur, GA 30032']}, 'phone': '+14042840500', 'display_phone': '(404) 284-0500', 'distance': 11528.748078870898}, {'id': '-uVODOoFX1RakEWsXfznYA', 'alias': 'kroger-tucker-2', 'name': 'Kroger', 'image_url': 'https://s3-media2.fl.yelpcdn.com/bphoto/1wYtHPgxEJjB7k04Bbgo5A/o.jpg', 'is_closed': False, 'url': 'https://www.yelp.com/biz/kroger-tucker-2?adjust_creative=snrJLEHqJkQMzzV_Rc2HBw&utm_campaign=yelp_api_v3&utm_medium=api_v3_business_search&utm_source=snrJLEHqJkQMzzV_Rc2HBw', 'review_count': 28, 'categories': [{'alias': 'grocery', 'title': 'Grocery'}], 'rating': 2.0, 'coordinates': {'latitude': 33.8434299427969, 'longitude': -84.2558066465258}, 'transactions': [], 'price': '$$', 'location': {'address1': '3959 Lavista Rd', 'address2': 'Ste A', 'address3': '', 'city': 'Tucker', 'zip_code': '30084', 'country': 'US', 'state': 'GA', 'display_address': ['3959 Lavista Rd', 'Ste A', 'Tucker, GA 30084']}, 'phone': '+17709396304', 'display_phone': '(770) 939-6304', 'distance': 11389.963464114726}, {'id': 'VsOBcZxnsUqSWa_IjH6o9g', 'alias': 'publix-decatur-8', 'name': 'Publix', 'image_url': 'https://s3-media1.fl.yelpcdn.com/bphoto/ISxFrYNF79nxkzcSGIa-tA/o.jpg', 'is_closed': False, 'url': 'https://www.yelp.com/biz/publix-decatur-8?adjust_creative=snrJLEHqJkQMzzV_Rc2HBw&utm_campaign=yelp_api_v3&utm_medium=api_v3_business_search&utm_source=snrJLEHqJkQMzzV_Rc2HBw', 'review_count': 5, 'categories': [{'alias': 'grocery', 'title': 'Grocery'}], 'rating': 3.5, 'coordinates': {'latitude': 33.7771477, 'longitude': -84.2785769}, 'transactions': [], 'location': {'address1': '2720 E Ponce De Leon Ave', 'address2': '', 'address3': None, 'city': 'Decatur', 'zip_code': '30030', 'country': 'US', 'state': 'GA', 'display_address': ['2720 E Ponce De Leon Ave', 'Decatur, GA 30030']}, 'phone': '+14043789225', 'display_phone': '(404) 378-9225', 'distance': 9635.177325612955}, {'id': 'ah_kuosnVq26nFvfwWp7XQ', 'alias': 'la-confianza-doraville-doraville', 'name': 'La Confianza - Doraville', 'image_url': 'https://s3-media1.fl.yelpcdn.com/bphoto/CeF9oZSAUIWWEGi4sEcQoA/o.jpg', 'is_closed': False, 'url': 'https://www.yelp.com/biz/la-confianza-doraville-doraville?adjust_creative=snrJLEHqJkQMzzV_Rc2HBw&utm_campaign=yelp_api_v3&utm_medium=api_v3_business_search&utm_source=snrJLEHqJkQMzzV_Rc2HBw', 'review_count': 4, 'categories': [{'alias': 'grocery', 'title': 'Grocery'}, {'alias': 'meats', 'title': 'Meat Shops'}, {'alias': 'tacos', 'title': 'Tacos'}], 'rating': 4.5, 'coordinates': {'latitude': 33.8902021650182, 'longitude': -84.2852898314595}, 'transactions': [], 'location': {'address1': '5079 Buford Hwy NE', 'address2': '', 'address3': None, 'city': 'Doraville', 'zip_code': '30340', 'country': 'US', 'state': 'GA', 'display_address': ['5079 Buford Hwy NE', 'Doraville, GA 30340']}, 'phone': '+14703752187', 'display_phone': '(470) 375-2187', 'distance': 11825.044796055376}, {'id': 'OD043lc6EE-uWscSUHgfkQ', 'alias': 'meat-masters-outlet-decatur', 'name': 'Meat Masters Outlet', 'image_url': 'https://s3-media1.fl.yelpcdn.com/bphoto/x-A9Pbr_pfO7z2fDQiMhkg/o.jpg', 'is_closed': False, 'url': 'https://www.yelp.com/biz/meat-masters-outlet-decatur?adjust_creative=snrJLEHqJkQMzzV_Rc2HBw&utm_campaign=yelp_api_v3&utm_medium=api_v3_business_search&utm_source=snrJLEHqJkQMzzV_Rc2HBw', 'review_count': 5, 'categories': [{'alias': 'meats', 'title': 'Meat Shops'}, {'alias': 'grocery', 'title': 'Grocery'}, {'alias': 'butcher', 'title': 'Butcher'}], 'rating': 4.0, 'coordinates': {'latitude': 33.730629, 'longitude': -84.2812424}, 'transactions': [], 'price': '$$', 'location': {'address1': '2064 Candler Rd', 'address2': '', 'address3': '', 'city': 'Decatur', 'zip_code': '30032', 'country': 'US', 'state': 'GA', 'display_address': ['2064 Candler Rd', 'Decatur, GA 30032']}, 'phone': '+14042895447', 'display_phone': '(404) 289-5447', 'distance': 12526.681981922395}, {'id': '09n4iY5-rHT_iyicKlil-Q', 'alias': 'southern-food-store-atlanta', 'name': 'Southern Food Store', 'image_url': '', 'is_closed': False, 'url': 'https://www.yelp.com/biz/southern-food-store-atlanta?adjust_creative=snrJLEHqJkQMzzV_Rc2HBw&utm_campaign=yelp_api_v3&utm_medium=api_v3_business_search&utm_source=snrJLEHqJkQMzzV_Rc2HBw', 'review_count': 1, 'categories': [{'alias': 'grocery', 'title': 'Grocery'}], 'rating': 3.0, 'coordinates': {'latitude': 33.7574882507324, 'longitude': -84.3677444458008}, 'transactions': [], 'price': '$', 'location': {'address1': '119 Randolph St NE', 'address2': '', 'address3': '', 'city': 'Atlanta', 'zip_code': '30312', 'country': 'US', 'state': 'GA', 'display_address': ['119 Randolph St NE', 'Atlanta, GA 30312']}, 'phone': '+14046889801', 'display_phone': '(404) 688-9801', 'distance': 6219.749250730221}, {'id': 'd7lIvlA6tnTHeUsXTFHfRg', 'alias': 'walmart-supercenter-marietta-3', 'name': 'Walmart Supercenter', 'image_url': 'https://s3-media1.fl.yelpcdn.com/bphoto/3juOZVV9JJz6T-o5IR_6Kw/o.jpg', 'is_closed': False, 'url': 'https://www.yelp.com/biz/walmart-supercenter-marietta-3?adjust_creative=snrJLEHqJkQMzzV_Rc2HBw&utm_campaign=yelp_api_v3&utm_medium=api_v3_business_search&utm_source=snrJLEHqJkQMzzV_Rc2HBw', 'review_count': 55, 'categories': [{'alias': 'deptstores', 'title': 'Department Stores'}, {'alias': 'grocery', 'title': 'Grocery'}], 'rating': 2.0, 'coordinates': {'latitude': 33.9099425, 'longitude': -84.4888767}, 'transactions': [], 'price': '$', 'location': {'address1': '1785 Cobb Pkwy S', 'address2': '', 'address3': '', 'city': 'Marietta', 'zip_code': '30060', 'country': 'US', 'state': 'GA', 'display_address': ['1785 Cobb Pkwy S', 'Marietta, GA 30060']}, 'phone': '+17709550626', 'display_phone': '(770) 955-0626', 'distance': 15130.43790082999}, {'id': 'g94QgnIQ5oejS8vs3sjVtw', 'alias': 'piggly-wiggly-atlanta-2', 'name': 'Piggly Wiggly', 'image_url': 'https://s3-media2.fl.yelpcdn.com/bphoto/c6k55-5Gu3VWYDkIQE2BSQ/o.jpg', 'is_closed': False, 'url': 'https://www.yelp.com/biz/piggly-wiggly-atlanta-2?adjust_creative=snrJLEHqJkQMzzV_Rc2HBw&utm_campaign=yelp_api_v3&utm_medium=api_v3_business_search&utm_source=snrJLEHqJkQMzzV_Rc2HBw', 'review_count': 2, 'categories': [{'alias': 'grocery', 'title': 'Grocery'}], 'rating': 2.0, 'coordinates': {'latitude': 33.7201, 'longitude': -84.3503}, 'transactions': [], 'location': {'address1': '1257 Moreland Ave SE', 'address2': '', 'address3': '', 'city': 'Atlanta', 'zip_code': '30316', 'country': 'US', 'state': 'GA', 'display_address': ['1257 Moreland Ave SE', 'Atlanta, GA 30316']}, 'phone': '+14046224854', 'display_phone': '(404) 622-4854', 'distance': 10580.79994989118}, {'id': 'S7XchGCGmfnNhO1qSSKSUw', 'alias': 'dollar-general-atlanta-5', 'name': 'Dollar General', 'image_url': 'https://s3-media1.fl.yelpcdn.com/bphoto/pDALXtDVsOaGvd7wQl7TEQ/o.jpg', 'is_closed': False, 'url': 'https://www.yelp.com/biz/dollar-general-atlanta-5?adjust_creative=snrJLEHqJkQMzzV_Rc2HBw&utm_campaign=yelp_api_v3&utm_medium=api_v3_business_search&utm_source=snrJLEHqJkQMzzV_Rc2HBw', 'review_count': 1, 'categories': [{'alias': 'discountstore', 'title': 'Discount Store'}, {'alias': 'grocery', 'title': 'Grocery'}], 'rating': 3.0, 'coordinates': {'latitude': 33.7332160036445, 'longitude': -84.4382072612643}, 'transactions': [], 'location': {'address1': '807 Cascade Sw', 'address2': '', 'address3': None, 'city': 'Atlanta', 'zip_code': '30310', 'country': 'US', 'state': 'GA', 'display_address': ['807 Cascade Sw', 'Atlanta, GA 30310']}, 'phone': '+14703811390', 'display_phone': '(470) 381-1390', 'distance': 10712.462675327359}, {'id': 'e0JB69FBuAC160R9Phv0OA', 'alias': 'bangladesh-halal-meat-and-grocery-atlanta', 'name': 'Bangladesh Halal Meat & Grocery', 'image_url': 'https://s3-media3.fl.yelpcdn.com/bphoto/8LUoTZHf0hOfHpyz-PLUhA/o.jpg', 'is_closed': False, 'url': 'https://www.yelp.com/biz/bangladesh-halal-meat-and-grocery-atlanta?adjust_creative=snrJLEHqJkQMzzV_Rc2HBw&utm_campaign=yelp_api_v3&utm_medium=api_v3_business_search&utm_source=snrJLEHqJkQMzzV_Rc2HBw', 'review_count': 3, 'categories': [{'alias': 'grocery', 'title': 'Grocery'}, {'alias': 'meats', 'title': 'Meat Shops'}], 'rating': 1.5, 'coordinates': {'latitude': 33.8993508977048, 'longitude': -84.2789123478851}, 'transactions': [], 'price': '$$$$', 'location': {'address1': '5382 Buford Hwy NE', 'address2': None, 'address3': None, 'city': 'Atlanta', 'zip_code': '30340', 'country': 'US', 'state': 'GA', 'display_address': ['5382 Buford Hwy NE', 'Atlanta, GA 30340']}, 'phone': '+16785309153', 'display_phone': '(678) 530-9153', 'distance': 12970.397805137081}, {'id': 'gfT43DGDDbbGqU3J4GNQqw', 'alias': 'dollar-general-atlanta-10', 'name': 'Dollar General', 'image_url': 'https://s3-media2.fl.yelpcdn.com/bphoto/dJyytcibXs_8KIhUOuJ88w/o.jpg', 'is_closed': False, 'url': 'https://www.yelp.com/biz/dollar-general-atlanta-10?adjust_creative=snrJLEHqJkQMzzV_Rc2HBw&utm_campaign=yelp_api_v3&utm_medium=api_v3_business_search&utm_source=snrJLEHqJkQMzzV_Rc2HBw', 'review_count': 2, 'categories': [{'alias': 'discountstore', 'title': 'Discount Store'}, {'alias': 'grocery', 'title': 'Grocery'}], 'rating': 2.0, 'coordinates': {'latitude': 33.7510977903722, 'longitude': -84.4655842334032}, 'transactions': [], 'location': {'address1': '2310 Martin Luther King Jr Dr Sw', 'address2': '', 'address3': None, 'city': 'Atlanta', 'zip_code': '30310', 'country': 'US', 'state': 'GA', 'display_address': ['2310 Martin Luther King Jr Dr Sw', 'Atlanta, GA 30310']}, 'phone': '+14704812250', 'display_phone': '(470) 481-2250', 'distance': 10951.441107814428}, {'id': '3sviTovO50NkPq_QYuy28g', 'alias': 'peachtree-superette-atlanta', 'name': 'Peachtree Superette', 'image_url': '', 'is_closed': False, 'url': 'https://www.yelp.com/biz/peachtree-superette-atlanta?adjust_creative=snrJLEHqJkQMzzV_Rc2HBw&utm_campaign=yelp_api_v3&utm_medium=api_v3_business_search&utm_source=snrJLEHqJkQMzzV_Rc2HBw', 'review_count': 1, 'categories': [{'alias': 'grocery', 'title': 'Grocery'}], 'rating': 2.0, 'coordinates': {'latitude': 33.7719917297363, 'longitude': -84.384407043457}, 'transactions': [], 'price': '$', 'location': {'address1': '75 Ponce De Leon Ave NE', 'address2': '', 'address3': '', 'city': 'Atlanta', 'zip_code': '30308', 'country': 'US', 'state': 'GA', 'display_address': ['75 Ponce De Leon Ave NE', 'Atlanta, GA 30308']}, 'phone': '+14047334098', 'display_phone': '(404) 733-4098', 'distance': 4691.858084456786}, {'id': 'kLNDr2W07cy-5yPxfDhEGg', 'alias': 'talars-market-decatur', 'name': \"Talar's Market\", 'image_url': 'https://s3-media2.fl.yelpcdn.com/bphoto/5-04oOt4I2CM6WGVUPMgXg/o.jpg', 'is_closed': False, 'url': 'https://www.yelp.com/biz/talars-market-decatur?adjust_creative=snrJLEHqJkQMzzV_Rc2HBw&utm_campaign=yelp_api_v3&utm_medium=api_v3_business_search&utm_source=snrJLEHqJkQMzzV_Rc2HBw', 'review_count': 4, 'categories': [{'alias': 'grocery', 'title': 'Grocery'}, {'alias': 'halal', 'title': 'Halal'}, {'alias': 'butcher', 'title': 'Butcher'}], 'rating': 4.0, 'coordinates': {'latitude': 33.8195921680331, 'longitude': -84.2648016380999}, 'transactions': ['pickup', 'delivery'], 'location': {'address1': '2495 Lawrenceville Hwy', 'address2': '', 'address3': None, 'city': 'Decatur', 'zip_code': '30033', 'country': 'US', 'state': 'GA', 'display_address': ['2495 Lawrenceville Hwy', 'Decatur, GA 30033']}, 'phone': '+14042055064', 'display_phone': '(404) 205-5064', 'distance': 10078.625472677573}, {'id': 'powmXGMm938AiIEOZM9_Ew', 'alias': 'super-mercado-la-villa-smyrna', 'name': 'Super Mercado La Villa', 'image_url': 'https://s3-media1.fl.yelpcdn.com/bphoto/1_J3P6dzqpSVmAJ9ebiZ6g/o.jpg', 'is_closed': False, 'url': 'https://www.yelp.com/biz/super-mercado-la-villa-smyrna?adjust_creative=snrJLEHqJkQMzzV_Rc2HBw&utm_campaign=yelp_api_v3&utm_medium=api_v3_business_search&utm_source=snrJLEHqJkQMzzV_Rc2HBw', 'review_count': 4, 'categories': [{'alias': 'grocery', 'title': 'Grocery'}, {'alias': 'meats', 'title': 'Meat Shops'}], 'rating': 4.0, 'coordinates': {'latitude': 33.893103867201, 'longitude': -84.4767949731671}, 'transactions': [], 'price': '$$', 'location': {'address1': '2431 Cobb Pkwy', 'address2': '', 'address3': '', 'city': 'Smyrna', 'zip_code': '30080', 'country': 'US', 'state': 'GA', 'display_address': ['2431 Cobb Pkwy', 'Smyrna, GA 30080']}, 'phone': '+17709518085', 'display_phone': '(770) 951-8085', 'distance': 13026.051495518366}, {'id': '6pMGESmr_cPxxKInKTacKQ', 'alias': 'la-canasta-atlanta', 'name': 'La Canasta', 'image_url': 'https://s3-media1.fl.yelpcdn.com/bphoto/4UiDIxDWME3bOmmtp8inuQ/o.jpg', 'is_closed': False, 'url': 'https://www.yelp.com/biz/la-canasta-atlanta?adjust_creative=snrJLEHqJkQMzzV_Rc2HBw&utm_campaign=yelp_api_v3&utm_medium=api_v3_business_search&utm_source=snrJLEHqJkQMzzV_Rc2HBw', 'review_count': 2, 'categories': [{'alias': 'grocery', 'title': 'Grocery'}], 'rating': 1.5, 'coordinates': {'latitude': 33.9105682, 'longitude': -84.3798904}, 'transactions': [], 'price': '$', 'location': {'address1': '215 Northwood Dr NE', 'address2': 'Ste 6', 'address3': '', 'city': 'Atlanta', 'zip_code': '30342', 'country': 'US', 'state': 'GA', 'display_address': ['215 Northwood Dr NE', 'Ste 6', 'Atlanta, GA 30342']}, 'phone': '+14042501522', 'display_phone': '(404) 250-1522', 'distance': 10831.433500916764}, {'id': 'NrbogvoPPbSknG35ZivHnA', 'alias': 'wegmans-food-mkts-atlanta', 'name': 'Wegmans Food Mkts', 'image_url': 'https://s3-media1.fl.yelpcdn.com/bphoto/k1ZAChVkTSgjifEuy88Iqw/o.jpg', 'is_closed': False, 'url': 'https://www.yelp.com/biz/wegmans-food-mkts-atlanta?adjust_creative=snrJLEHqJkQMzzV_Rc2HBw&utm_campaign=yelp_api_v3&utm_medium=api_v3_business_search&utm_source=snrJLEHqJkQMzzV_Rc2HBw', 'review_count': 1, 'categories': [{'alias': 'grocery', 'title': 'Grocery'}], 'rating': 1.0, 'coordinates': {'latitude': 33.8351205736399, 'longitude': -84.3299248069525}, 'transactions': [], 'location': {'address1': '1 National Data Plz NE', 'address2': '', 'address3': '', 'city': 'Atlanta', 'zip_code': '30329', 'country': 'US', 'state': 'GA', 'display_address': ['1 National Data Plz NE', 'Atlanta, GA 30329']}, 'phone': '+14043290791', 'display_phone': '(404) 329-0791', 'distance': 4729.7638292168485}, {'id': 'i7geZY15nDe3OesHO8mGuA', 'alias': 'ace-food-shop-atlanta', 'name': 'Ace Food Shop', 'image_url': '', 'is_closed': False, 'url': 'https://www.yelp.com/biz/ace-food-shop-atlanta?adjust_creative=snrJLEHqJkQMzzV_Rc2HBw&utm_campaign=yelp_api_v3&utm_medium=api_v3_business_search&utm_source=snrJLEHqJkQMzzV_Rc2HBw', 'review_count': 1, 'categories': [{'alias': 'grocery', 'title': 'Grocery'}, {'alias': 'convenience', 'title': 'Convenience Stores'}], 'rating': 1.0, 'coordinates': {'latitude': 33.773496, 'longitude': -84.420128}, 'transactions': [], 'location': {'address1': '999 Donald Lee Hollowell', 'address2': '', 'address3': '', 'city': 'Atlanta', 'zip_code': '30318', 'country': 'US', 'state': 'GA', 'display_address': ['999 Donald Lee Hollowell', 'Atlanta, GA 30318']}, 'phone': '+14048756997', 'display_phone': '(404) 875-6997', 'distance': 6161.911636903552}, {'id': '6h6oyMJOeENd9mPyfkkYtQ', 'alias': 'the-kroger-company-atlanta', 'name': 'The Kroger Company', 'image_url': 'https://s3-media1.fl.yelpcdn.com/bphoto/DV0QYuS3LDxdiBx2_UAYUQ/o.jpg', 'is_closed': False, 'url': 'https://www.yelp.com/biz/the-kroger-company-atlanta?adjust_creative=snrJLEHqJkQMzzV_Rc2HBw&utm_campaign=yelp_api_v3&utm_medium=api_v3_business_search&utm_source=snrJLEHqJkQMzzV_Rc2HBw', 'review_count': 2, 'categories': [{'alias': 'grocery', 'title': 'Grocery'}], 'rating': 1.0, 'coordinates': {'latitude': 33.73821, 'longitude': -84.43458}, 'transactions': [], 'price': '$$', 'location': {'address1': '590 Cascade Ave SW', 'address2': '', 'address3': '', 'city': 'Atlanta', 'zip_code': '30310', 'country': 'US', 'state': 'GA', 'display_address': ['590 Cascade Ave SW', 'Atlanta, GA 30310']}, 'phone': '+14047561140', 'display_phone': '(404) 756-1140', 'distance': 10047.785729441834}, {'id': 'FKEhTCSnNzB8yzveGaKTsg', 'alias': 'e-g-korean-grocery-and-gift-atlanta', 'name': 'E G Korean Grocery & Gift', 'image_url': '', 'is_closed': False, 'url': 'https://www.yelp.com/biz/e-g-korean-grocery-and-gift-atlanta?adjust_creative=snrJLEHqJkQMzzV_Rc2HBw&utm_campaign=yelp_api_v3&utm_medium=api_v3_business_search&utm_source=snrJLEHqJkQMzzV_Rc2HBw', 'review_count': 1, 'categories': [{'alias': 'grocery', 'title': 'Grocery'}], 'rating': 1.0, 'coordinates': {'latitude': 33.89591, 'longitude': -84.2832211}, 'transactions': [], 'price': '$', 'location': {'address1': '5224 Buford Hwy NE', 'address2': '', 'address3': '', 'city': 'Atlanta', 'zip_code': '30340', 'country': 'US', 'state': 'GA', 'display_address': ['5224 Buford Hwy NE', 'Atlanta, GA 30340']}, 'phone': '', 'display_phone': '', 'distance': 12419.736555375326}, {'id': 'Bn5uOATfyGLVjLzp09S8wA', 'alias': 'sprouts-farmers-market-smyrna-3', 'name': 'Sprouts Farmers Market', 'image_url': 'https://s3-media3.fl.yelpcdn.com/bphoto/Wdwe-sbvKxkC-tr6mG_Nyw/o.jpg', 'is_closed': False, 'url': 'https://www.yelp.com/biz/sprouts-farmers-market-smyrna-3?adjust_creative=snrJLEHqJkQMzzV_Rc2HBw&utm_campaign=yelp_api_v3&utm_medium=api_v3_business_search&utm_source=snrJLEHqJkQMzzV_Rc2HBw', 'review_count': 2, 'categories': [{'alias': 'grocery', 'title': 'Grocery'}, {'alias': 'organic_stores', 'title': 'Organic Stores'}], 'rating': 4.0, 'coordinates': {'latitude': 33.88846, 'longitude': -84.47496}, 'transactions': [], 'location': {'address1': '2530 Cumberland Blvd SE', 'address2': '', 'address3': None, 'city': 'Smyrna', 'zip_code': '30080', 'country': 'US', 'state': 'GA', 'display_address': ['2530 Cumberland Blvd SE', 'Smyrna, GA 30080']}, 'phone': '+14707501841', 'display_phone': '(470) 750-1841', 'distance': 12799.765066906057}, {'id': 'zdYlaNTLnVSj0_ulOxnxtA', 'alias': 'centennial-farms-dairy-atlanta', 'name': 'Centennial Farms Dairy', 'image_url': 'https://s3-media3.fl.yelpcdn.com/bphoto/xkQ6GMva_ViTznSPJJ6J1A/o.jpg', 'is_closed': False, 'url': 'https://www.yelp.com/biz/centennial-farms-dairy-atlanta?adjust_creative=snrJLEHqJkQMzzV_Rc2HBw&utm_campaign=yelp_api_v3&utm_medium=api_v3_business_search&utm_source=snrJLEHqJkQMzzV_Rc2HBw', 'review_count': 2, 'categories': [{'alias': 'grocery', 'title': 'Grocery'}], 'rating': 1.0, 'coordinates': {'latitude': 33.8138313293457, 'longitude': -84.359016418457}, 'transactions': [], 'location': {'address1': '2121 Faulkner Rd NE', 'address2': '', 'address3': '', 'city': 'Atlanta', 'zip_code': '30324', 'country': 'US', 'state': 'GA', 'display_address': ['2121 Faulkner Rd NE', 'Atlanta, GA 30324']}, 'phone': '+14043153400', 'display_phone': '(404) 315-3400', 'distance': 1401.4458163916247}, {'id': 'lXigDiApda-PoQXw4FRCRw', 'alias': 'walmart-marietta-9', 'name': 'Walmart', 'image_url': 'https://s3-media3.fl.yelpcdn.com/bphoto/LO-KCXH2LEUG4kU9ltanEg/o.jpg', 'is_closed': False, 'url': 'https://www.yelp.com/biz/walmart-marietta-9?adjust_creative=snrJLEHqJkQMzzV_Rc2HBw&utm_campaign=yelp_api_v3&utm_medium=api_v3_business_search&utm_source=snrJLEHqJkQMzzV_Rc2HBw', 'review_count': 20, 'categories': [{'alias': 'deptstores', 'title': 'Department Stores'}, {'alias': 'grocery', 'title': 'Grocery'}], 'rating': 2.0, 'coordinates': {'latitude': 33.909944, 'longitude': -84.488557}, 'transactions': [], 'price': '$', 'location': {'address1': '1785 Cobb Pkwy S', 'address2': '', 'address3': '', 'city': 'Marietta', 'zip_code': '30060', 'country': 'US', 'state': 'GA', 'display_address': ['1785 Cobb Pkwy S', 'Marietta, GA 30060']}, 'phone': '+17709552179', 'display_phone': '(770) 955-2179', 'distance': 15109.809536796989}, {'id': '_u5SeRgI_aUDem4nDFEfgA', 'alias': 'windsor-super-market-atlanta', 'name': 'Windsor Super Market', 'image_url': '', 'is_closed': False, 'url': 'https://www.yelp.com/biz/windsor-super-market-atlanta?adjust_creative=snrJLEHqJkQMzzV_Rc2HBw&utm_campaign=yelp_api_v3&utm_medium=api_v3_business_search&utm_source=snrJLEHqJkQMzzV_Rc2HBw', 'review_count': 1, 'categories': [{'alias': 'grocery', 'title': 'Grocery'}], 'rating': 1.0, 'coordinates': {'latitude': 33.7408714, 'longitude': -84.3964539}, 'transactions': [], 'location': {'address1': '307 Richardson St SW', 'address2': '', 'address3': '', 'city': 'Atlanta', 'zip_code': '30312', 'country': 'US', 'state': 'GA', 'display_address': ['307 Richardson St SW', 'Atlanta, GA 30312']}, 'phone': '+14045235292', 'display_phone': '(404) 523-5292', 'distance': 8331.501920529918}, {'id': 'odY_4AsVqf0ilj54_CS7vw', 'alias': 'busy-bee-groc-store-atlanta', 'name': 'Busy Bee Groc Store', 'image_url': '', 'is_closed': False, 'url': 'https://www.yelp.com/biz/busy-bee-groc-store-atlanta?adjust_creative=snrJLEHqJkQMzzV_Rc2HBw&utm_campaign=yelp_api_v3&utm_medium=api_v3_business_search&utm_source=snrJLEHqJkQMzzV_Rc2HBw', 'review_count': 1, 'categories': [{'alias': 'grocery', 'title': 'Grocery'}], 'rating': 1.0, 'coordinates': {'latitude': 33.8125381, 'longitude': -84.4765625}, 'transactions': ['pickup', 'delivery'], 'location': {'address1': '2051 James Jackson Pkwy N', 'address2': '', 'address3': '', 'city': 'Atlanta', 'zip_code': '30318', 'country': 'US', 'state': 'GA', 'display_address': ['2051 James Jackson Pkwy N', 'Atlanta, GA 30318']}, 'phone': '+14047993330', 'display_phone': '(404) 799-3330', 'distance': 9454.050812014963}, {'id': 'xPg0XThCxPYPQYcPTlWFkQ', 'alias': 'great-savings-supermarket-atlanta', 'name': 'Great Savings Supermarket', 'image_url': '', 'is_closed': False, 'url': 'https://www.yelp.com/biz/great-savings-supermarket-atlanta?adjust_creative=snrJLEHqJkQMzzV_Rc2HBw&utm_campaign=yelp_api_v3&utm_medium=api_v3_business_search&utm_source=snrJLEHqJkQMzzV_Rc2HBw', 'review_count': 1, 'categories': [{'alias': 'grocery', 'title': 'Grocery'}], 'rating': 1.0, 'coordinates': {'latitude': 33.7276611, 'longitude': -84.4018707}, 'transactions': [], 'location': {'address1': '1003 McDaniel St SW', 'address2': '', 'address3': '', 'city': 'Atlanta', 'zip_code': '30310', 'country': 'US', 'state': 'GA', 'display_address': ['1003 McDaniel St SW', 'Atlanta, GA 30310']}, 'phone': '+14045245259', 'display_phone': '(404) 524-5259', 'distance': 9877.487587972084}, {'id': 'LY9cSLNw-XCjS2U0DJ0UcQ', 'alias': 'shell-food-mart-decatur', 'name': 'Shell Food Mart', 'image_url': '', 'is_closed': False, 'url': 'https://www.yelp.com/biz/shell-food-mart-decatur?adjust_creative=snrJLEHqJkQMzzV_Rc2HBw&utm_campaign=yelp_api_v3&utm_medium=api_v3_business_search&utm_source=snrJLEHqJkQMzzV_Rc2HBw', 'review_count': 1, 'categories': [{'alias': 'grocery', 'title': 'Grocery'}], 'rating': 4.0, 'coordinates': {'latitude': 33.7576370239258, 'longitude': -84.2632827758789}, 'transactions': [], 'location': {'address1': '3697 Memorial Dr', 'address2': '', 'address3': '', 'city': 'Decatur', 'zip_code': '30032', 'country': 'US', 'state': 'GA', 'display_address': ['3697 Memorial Dr', 'Decatur, GA 30032']}, 'phone': '+14042891475', 'display_phone': '(404) 289-1475', 'distance': 11924.441920366902}, {'id': '9fgrELQu8HnuWntHfLImHg', 'alias': 'family-dollar-chamblee', 'name': 'Family Dollar', 'image_url': '', 'is_closed': False, 'url': 'https://www.yelp.com/biz/family-dollar-chamblee?adjust_creative=snrJLEHqJkQMzzV_Rc2HBw&utm_campaign=yelp_api_v3&utm_medium=api_v3_business_search&utm_source=snrJLEHqJkQMzzV_Rc2HBw', 'review_count': 3, 'categories': [{'alias': 'grocery', 'title': 'Grocery'}], 'rating': 2.5, 'coordinates': {'latitude': 33.8872530853565, 'longitude': -84.2873591557145}, 'transactions': [], 'price': '$$', 'location': {'address1': '4949 Buford Hwy NE', 'address2': '', 'address3': '', 'city': 'Chamblee', 'zip_code': '30341', 'country': 'US', 'state': 'GA', 'display_address': ['4949 Buford Hwy NE', 'Chamblee, GA 30341']}, 'phone': '+17704545669', 'display_phone': '(770) 454-5669', 'distance': 11456.252217274829}, {'id': 'pG5__AdTBMJN3bvmYncxVg', 'alias': 'southern-culture-foods-decatur', 'name': 'Southern Culture  Foods', 'image_url': 'https://s3-media3.fl.yelpcdn.com/bphoto/T8K0Wp--FhdYOTGLZtOVGQ/o.jpg', 'is_closed': False, 'url': 'https://www.yelp.com/biz/southern-culture-foods-decatur?adjust_creative=snrJLEHqJkQMzzV_Rc2HBw&utm_campaign=yelp_api_v3&utm_medium=api_v3_business_search&utm_source=snrJLEHqJkQMzzV_Rc2HBw', 'review_count': 7, 'categories': [{'alias': 'gourmet', 'title': 'Specialty Food'}, {'alias': 'bakeries', 'title': 'Bakeries'}, {'alias': 'grocery', 'title': 'Grocery'}], 'rating': 1.5, 'coordinates': {'latitude': 33.7814489, 'longitude': -84.270509}, 'transactions': [], 'location': {'address1': '251 Rio Cir', 'address2': '', 'address3': '', 'city': 'Decatur', 'zip_code': '30030', 'country': 'US', 'state': 'GA', 'display_address': ['251 Rio Cir', 'Decatur, GA 30030']}, 'phone': '+18664802778', 'display_phone': '(866) 480-2778', 'distance': 10162.051555856311}, {'id': 'W4R1gIBHA9R9dFhOK5lYGg', 'alias': 'la-bendicion-mini-market-doraville', 'name': 'La Bendicion Mini Market', 'image_url': 'https://s3-media1.fl.yelpcdn.com/bphoto/T7TnsJTO6c0Dsxp2gFbk1w/o.jpg', 'is_closed': False, 'url': 'https://www.yelp.com/biz/la-bendicion-mini-market-doraville?adjust_creative=snrJLEHqJkQMzzV_Rc2HBw&utm_campaign=yelp_api_v3&utm_medium=api_v3_business_search&utm_source=snrJLEHqJkQMzzV_Rc2HBw', 'review_count': 2, 'categories': [{'alias': 'grocery', 'title': 'Grocery'}], 'rating': 5.0, 'coordinates': {'latitude': 33.891501, 'longitude': -84.285832}, 'transactions': ['pickup', 'delivery'], 'location': {'address1': '5090 Buford Hwy NE', 'address2': 'Ste 209', 'address3': '', 'city': 'Doraville', 'zip_code': '30340', 'country': 'US', 'state': 'GA', 'display_address': ['5090 Buford Hwy NE', 'Ste 209', 'Doraville, GA 30340']}, 'phone': '+17706741956', 'display_phone': '(770) 674-1956', 'distance': 11895.79636759604}, {'id': 'DH58w5oPYUM1QV2RZ7-eDA', 'alias': 'wayfield-foods-inc-decatur-3', 'name': 'Wayfield Foods, Inc.', 'image_url': 'https://s3-media2.fl.yelpcdn.com/bphoto/Jg7DOAjeNTtwM6JPYe4ctQ/o.jpg', 'is_closed': False, 'url': 'https://www.yelp.com/biz/wayfield-foods-inc-decatur-3?adjust_creative=snrJLEHqJkQMzzV_Rc2HBw&utm_campaign=yelp_api_v3&utm_medium=api_v3_business_search&utm_source=snrJLEHqJkQMzzV_Rc2HBw', 'review_count': 3, 'categories': [{'alias': 'grocery', 'title': 'Grocery'}], 'rating': 2.0, 'coordinates': {'latitude': 33.7397003, 'longitude': -84.2537079}, 'transactions': [], 'price': '$', 'location': {'address1': '1757 Columbia Dr', 'address2': '', 'address3': '', 'city': 'Decatur', 'zip_code': '30032', 'country': 'US', 'state': 'GA', 'display_address': ['1757 Columbia Dr', 'Decatur, GA 30032']}, 'phone': '+14042840533', 'display_phone': '(404) 284-0533', 'distance': 13788.992290329486}, {'id': 'fN6evl_bUD_gvo4r1Kb6qA', 'alias': 'savi-provisions-decatur-4', 'name': 'Savi Provisions', 'image_url': 'https://s3-media4.fl.yelpcdn.com/bphoto/_7cZJPWNbAtdJtiTlkPhCw/o.jpg', 'is_closed': False, 'url': 'https://www.yelp.com/biz/savi-provisions-decatur-4?adjust_creative=snrJLEHqJkQMzzV_Rc2HBw&utm_campaign=yelp_api_v3&utm_medium=api_v3_business_search&utm_source=snrJLEHqJkQMzzV_Rc2HBw', 'review_count': 1, 'categories': [{'alias': 'beer_and_wine', 'title': 'Beer, Wine & Spirits'}, {'alias': 'gourmet', 'title': 'Specialty Food'}, {'alias': 'grocery', 'title': 'Grocery'}], 'rating': 1.0, 'coordinates': {'latitude': 33.775373, 'longitude': -84.298494}, 'transactions': ['pickup', 'delivery'], 'location': {'address1': '180 W Ponce De Leon Ave', 'address2': None, 'address3': '', 'city': 'Decatur', 'zip_code': '30030', 'country': 'US', 'state': 'GA', 'display_address': ['180 W Ponce De Leon Ave', 'Decatur, GA 30030']}, 'phone': '+14046006021', 'display_phone': '(404) 600-6021', 'distance': 8129.046163244795}, {'id': 'BKtkeTYP9_TcxoiRjk6RlA', 'alias': 'super-giant-foods-decatur-2', 'name': 'Super Giant Foods', 'image_url': '', 'is_closed': False, 'url': 'https://www.yelp.com/biz/super-giant-foods-decatur-2?adjust_creative=snrJLEHqJkQMzzV_Rc2HBw&utm_campaign=yelp_api_v3&utm_medium=api_v3_business_search&utm_source=snrJLEHqJkQMzzV_Rc2HBw', 'review_count': 1, 'categories': [{'alias': 'grocery', 'title': 'Grocery'}], 'rating': 1.0, 'coordinates': {'latitude': 33.7921447, 'longitude': -84.2862772}, 'transactions': [], 'location': {'address1': '2617 N Decatur Rd', 'address2': '', 'address3': '', 'city': 'Decatur', 'zip_code': '30033', 'country': 'US', 'state': 'GA', 'display_address': ['2617 N Decatur Rd', 'Decatur, GA 30033']}, 'phone': '', 'display_phone': '', 'distance': 8289.68779652986}, {'id': 'gLmk-7NDr8-7WlQWltxCiQ', 'alias': 'texaco-food-mart-smyrna', 'name': 'Texaco Food Mart', 'image_url': 'https://s3-media4.fl.yelpcdn.com/bphoto/MJ1G5h6JwOH0GbNYFf5eCQ/o.jpg', 'is_closed': False, 'url': 'https://www.yelp.com/biz/texaco-food-mart-smyrna?adjust_creative=snrJLEHqJkQMzzV_Rc2HBw&utm_campaign=yelp_api_v3&utm_medium=api_v3_business_search&utm_source=snrJLEHqJkQMzzV_Rc2HBw', 'review_count': 1, 'categories': [{'alias': 'grocery', 'title': 'Grocery'}], 'rating': 1.0, 'coordinates': {'latitude': 33.8381156921387, 'longitude': -84.480224609375}, 'transactions': [], 'location': {'address1': '4725 S Atlanta Rd SE', 'address2': '', 'address3': '', 'city': 'Smyrna', 'zip_code': '30080', 'country': 'US', 'state': 'GA', 'display_address': ['4725 S Atlanta Rd SE', 'Smyrna, GA 30080']}, 'phone': '+14047993366', 'display_phone': '(404) 799-3366', 'distance': 10215.12778045451}, {'id': 'blvsFz8Szd9n82jocIyYvQ', 'alias': 'fresh-valu-foods-decatur', 'name': 'Fresh Valu Foods', 'image_url': 'https://s3-media2.fl.yelpcdn.com/bphoto/5OMJ3Y617ysHlTBvR5-_nQ/o.jpg', 'is_closed': False, 'url': 'https://www.yelp.com/biz/fresh-valu-foods-decatur?adjust_creative=snrJLEHqJkQMzzV_Rc2HBw&utm_campaign=yelp_api_v3&utm_medium=api_v3_business_search&utm_source=snrJLEHqJkQMzzV_Rc2HBw', 'review_count': 1, 'categories': [{'alias': 'grocery', 'title': 'Grocery'}], 'rating': 1.0, 'coordinates': {'latitude': 33.711208, 'longitude': -84.269752}, 'transactions': [], 'price': '$$', 'location': {'address1': '2626 Rainbow Way', 'address2': '', 'address3': None, 'city': 'Decatur', 'zip_code': '30034', 'country': 'US', 'state': 'GA', 'display_address': ['2626 Rainbow Way', 'Decatur, GA 30034']}, 'phone': '+14042443666', 'display_phone': '(404) 244-3666', 'distance': 14861.24267642383}], 'total': 147, 'region': {'center': {'longitude': -84.37362670898438, 'latitude': 33.81321311652279}}}, {'businesses': [], 'total': 147, 'region': {'center': {'longitude': -84.37362670898438, 'latitude': 33.81321311652279}}}, {'businesses': [], 'total': 147, 'region': {'center': {'longitude': -84.37362670898438, 'latitude': 33.81321311652279}}}, {'businesses': [], 'total': 147, 'region': {'center': {'longitude': -84.37362670898438, 'latitude': 33.81321311652279}}}, {'businesses': [], 'total': 147, 'region': {'center': {'longitude': -84.37362670898438, 'latitude': 33.81321311652279}}}, {'businesses': [], 'total': 147, 'region': {'center': {'longitude': -84.37362670898438, 'latitude': 33.81321311652279}}}, {'businesses': [], 'total': 147, 'region': {'center': {'longitude': -84.37362670898438, 'latitude': 33.81321311652279}}}, {'businesses': [], 'total': 147, 'region': {'center': {'longitude': -84.37362670898438, 'latitude': 33.81321311652279}}}, {'businesses': [], 'total': 147, 'region': {'center': {'longitude': -84.37362670898438, 'latitude': 33.81321311652279}}}]"
     ]
    },
    {
     "name": "stdout",
     "output_type": "stream",
     "text": [
      "\n"
     ]
    }
   ],
   "source": [
    "# Make call and include limit and offsets\n",
    "\n",
    "atlantagroceries_raw = []\n",
    "offset = [0,51,101,151,201,251,301,351,401,451,501]\n",
    "for offsetting in offset:\n",
    "    params = {\n",
    "            'limit': 50,\n",
    "            'offset': offsetting\n",
    "        }\n",
    "    responses = requests.get(url+ \"grocery\",headers=headers,params=params).json()\n",
    "    atlantagroceries_raw.append(responses)\n",
    "print(atlantagroceries_raw)"
   ]
  },
  {
   "cell_type": "code",
   "execution_count": 6,
   "id": "2696e547",
   "metadata": {
    "scrolled": true
   },
   "outputs": [
    {
     "name": "stdout",
     "output_type": "stream",
     "text": [
      "The name information received is: [\"Little's Food Store and Grill\", \"Trader Joe's\", \"Trader Joe's\", 'Sevananda Natural Foods Market', 'Candler Park Market', 'Whole Foods Market', 'Whole Foods Market - Atlanta', 'Whole Foods Market', \"Bennett's Market & Deli\", 'Grant Park Market', 'Publix', 'Savi Provisions: Inman Park', 'The Fresh Market', 'Savi Provisions: Roswell Road', 'Publix', 'Kroger', 'Al-Amin Restaurant', 'Brito Supermarket', 'Publix', 'Sprouts Farmers Market', 'Whole Foods Market - Atlanta', 'Kroger', 'Publix', 'Savi Provisions: Brookhaven', 'Publix', 'Publix', 'Publix', 'Carniceria Ramirez', 'Oak Grove Market', 'Kroger', 'Savi Provisions: Midtown', 'Kroger', 'L & M Service Market', 'Whole Foods Market', 'Kroger', 'Publix', 'Lidl', 'Publix', 'The Fresh Market', 'Kelly’s Market', 'The Kroger Company', 'the spicy peach', 'Publix', 'Kroger', 'ALDI', 'Publix', 'Publix', 'Publix', 'Publix', 'Publix', 'Publix', 'Publix', 'Publix', 'Publix', 'Publix', 'ALDI', 'Big Bear Foods', 'Goodness Grocery', 'Publix', 'ALDI', 'Carver Neighborhood Market', 'Kroger', 'Biswas Grocery & Cafe', 'Kroger', 'Publix', 'Chicago Supermarket', 'Kroger', 'Walmart Supercenter', 'Mercado Fresco', 'Bakkal International Foods', 'Sprouts Farmers Market', 'Kroger', 'Kroger', 'Sam & Son Grocery Wholesale', 'Oakhurst Market', 'Sprouts Farmers Market', 'Publix', 'Walmart', 'Walmart Supercenter', 'Whole Foods Market', 'Savi Provisions', 'The Local Farmstand', 'ALDI', 'ALDI', 'Kroger', 'Savi Provisions - Lenox', 'La Chiquita Mic', 'Publix', 'El Progreso 6', 'Wayfield Foods', 'Bismillah Supermarket', 'Walmart Supercenter', 'Carneceria Mi Pueblo', 'Kroger', 'Fiesta Foods', 'ALDI', 'Kroger', 'Hop N Shop Food Store', 'Lidl', 'Khanh Tam', 'The Grocery Spot', 'Brito Super Market', 'Inter Asian', 'Dinho Market of Atlanta', 'South Eastern Oriental Market', 'Bethlehem Market', 'Carniceria Durango', 'European Market', 'Dollar General', 'Kroger', 'Savi Provisions: Decatur', 'Mamanoes Grocery Shop', 'Walmart Supercenter', 'Kroger', 'Publix', 'La Confianza - Doraville', 'Meat Masters Outlet', 'Southern Food Store', 'Walmart Supercenter', 'Piggly Wiggly', 'Dollar General', 'Bangladesh Halal Meat & Grocery', 'Dollar General', 'Peachtree Superette', \"Talar's Market\", 'Super Mercado La Villa', 'La Canasta', 'Wegmans Food Mkts', 'Ace Food Shop', 'The Kroger Company', 'E G Korean Grocery & Gift', 'Sprouts Farmers Market', 'Centennial Farms Dairy', 'Walmart', 'Windsor Super Market', 'Busy Bee Groc Store', 'Great Savings Supermarket', 'Shell Food Mart', 'Family Dollar', 'Southern Culture  Foods', 'La Bendicion Mini Market', 'Wayfield Foods, Inc.', 'Savi Provisions', 'Super Giant Foods', 'Texaco Food Mart', 'Fresh Valu Foods']\n",
      "The latitude information received is: [33.74923, 33.7787545, 33.8409526, 33.76712333710428, 33.76511, 33.840841, 33.774805, 33.786399, 33.7389639, 33.7465954864959, 33.780460595815, 33.762271, 33.8121883130727, 33.86185, 33.8629321595124, 33.8225260223259, 33.901426, 33.8367958068848, 33.81354283063447, 33.80681, 33.88506, 33.740563, 33.7730710260892, 33.86098, 33.821004, 33.835166822699, 33.79253, 33.820556640625, 33.8238496282777, 33.77169, 33.7810517, 33.7563221781888, 33.7760315, 33.850181, 33.8005638122559, 33.870255, 33.82800682216151, 33.799073, 33.874522640924, 33.7719045678349, 33.856544, 33.8167536, 33.81024, 33.8157272640367, 33.85805209126845, 33.818543, 33.81949793776101, 33.8492989, 33.8710709, 33.9052614982616, 33.8509735056792, 33.7703989582727, 33.73883, 33.745273, 33.8619531, 33.7137298583984, 33.7366027832031, 33.844667, 33.890666, 33.8407185, 33.7190664550323, 33.8044, 33.83142667, 33.871691, 33.8473819054728, 33.8958429639425, 33.801751, 33.8030467, 33.8620523330376, 33.91024573798983, 33.79378, 33.8556103067013, 33.722557, 33.7209091, 33.76001, 33.88141, 33.789997, 33.7559325, 33.71892, 33.792778, 33.837338486409344, 33.78678, 33.8839305, 33.795840872623316, 33.7936494, 33.84844, 33.867131, 33.81133, 33.8371499215605, 33.750533, 33.8607063293457, 33.888761, 33.8598528886646, 33.77819, 33.8222923278809, 33.7540203478635, 33.838851, 33.7593994, 33.82798219, 33.8611297607422, 33.77642, 33.8851737976074, 33.8927457, 33.890656, 33.89238, 33.867204, 33.8600998, 33.8104515, 33.72095, 33.75211073574373, 33.7754183, 33.7817780028681, 33.7570457458496, 33.8434299427969, 33.7771477, 33.8902021650182, 33.730629, 33.7574882507324, 33.9099425, 33.7201, 33.7332160036445, 33.8993508977048, 33.7510977903722, 33.7719917297363, 33.8195921680331, 33.893103867201, 33.9105682, 33.8351205736399, 33.773496, 33.73821, 33.89591, 33.88846, 33.8138313293457, 33.909944, 33.7408714, 33.8125381, 33.7276611, 33.7576370239258, 33.8872530853565, 33.7814489, 33.891501, 33.7397003, 33.775373, 33.7921447, 33.8381156921387, 33.711208]\n",
      "The longitude information received is: [-84.36784, -84.3670198, -84.3749849, -84.3486422672868, -84.33349, -84.381148, -84.365756, -84.389, -84.3681524, -84.3708385456637, -84.388785428574, -84.357687, -84.3913881423279, -84.38109, -84.4783971281723, -84.3660154259268, -84.276426, -84.3371734619141, -84.31129548894414, -84.36631, -84.314124, -84.361913, -84.3542830089023, -84.3323, -84.386615, -84.3838090338875, -84.3976249, -84.4500045776367, -84.2934995729172, -84.363386, -84.3843077, -84.3480281607857, -84.377388, -84.429551, -84.3727264404297, -84.334788, -84.3331597987419, -84.371806, -84.380122478222, -84.292196887111, -84.344985, -84.3112714, -84.414552, -84.3139729857825, -84.3103963136673, -84.349064, -84.45070994334124, -84.4287418, -84.3796616, -84.4277266023398, -84.3597171074097, -84.3813200588497, -84.31327, -84.356951, -84.2869749, -84.35020164416528, -84.4182205200195, -84.490896, -84.324803, -84.3731559, -84.3851576184007, -84.3362, -84.34168, -84.457885, -84.2571212913214, -84.2824281180855, -84.412543, -84.4115832, -84.3076111748815, -84.37913453312014, -84.28755, -84.3133648484945, -84.347806, -84.3976212, -84.30419, -84.38083, -84.304372, -84.4136613, -84.31237, -84.28424, -84.37756857892144, -84.41226, -84.4773695, -84.2852949833123, -84.2744273, -84.35736, -84.308928, -84.2745599, -84.3346300721168, -84.486001, -84.3094253540039, -84.31146, -84.3085935339332, -84.29298, -84.3668670654297, -84.27081763744354, -84.481735, -84.3028564, -84.33324033, -84.307373046875, -84.45055, -84.2568206787109, -84.3104246, -84.300489, -84.29406, -84.310095, -84.3093719, -84.2707672, -84.35033, -84.26963216135294, -84.297641, -84.3835160136223, -84.2677383422852, -84.2558066465258, -84.2785769, -84.2852898314595, -84.2812424, -84.3677444458008, -84.4888767, -84.3503, -84.4382072612643, -84.2789123478851, -84.4655842334032, -84.384407043457, -84.2648016380999, -84.4767949731671, -84.3798904, -84.3299248069525, -84.420128, -84.43458, -84.2832211, -84.47496, -84.359016418457, -84.488557, -84.3964539, -84.4765625, -84.4018707, -84.2632827758789, -84.2873591557145, -84.270509, -84.285832, -84.2537079, -84.298494, -84.2862772, -84.480224609375, -84.269752]\n"
     ]
    }
   ],
   "source": [
    "# Set up lists that will be used to create the data frame\n",
    "\n",
    "name = []\n",
    "lat = []\n",
    "long = []\n",
    "for range in range(11):\n",
    "    groceries = atlantagroceries_raw[(int(range))]['businesses']\n",
    "    for atlantagrocery in groceries:\n",
    "        name.append(atlantagrocery['name'])\n",
    "        lat.append(atlantagrocery['coordinates']['latitude'])\n",
    "        long.append(atlantagrocery['coordinates']['longitude'])\n",
    "print(f\"The name information received is: {name}\")\n",
    "print(f\"The latitude information received is: {lat}\")\n",
    "print(f\"The longitude information received is: {long}\")"
   ]
  },
  {
   "cell_type": "code",
   "execution_count": 7,
   "id": "fa6bdcc1",
   "metadata": {
    "scrolled": true
   },
   "outputs": [
    {
     "data": {
      "text/html": [
       "<div>\n",
       "<style scoped>\n",
       "    .dataframe tbody tr th:only-of-type {\n",
       "        vertical-align: middle;\n",
       "    }\n",
       "\n",
       "    .dataframe tbody tr th {\n",
       "        vertical-align: top;\n",
       "    }\n",
       "\n",
       "    .dataframe thead th {\n",
       "        text-align: right;\n",
       "    }\n",
       "</style>\n",
       "<table border=\"1\" class=\"dataframe\">\n",
       "  <thead>\n",
       "    <tr style=\"text-align: right;\">\n",
       "      <th></th>\n",
       "      <th>Name</th>\n",
       "      <th>Latitude</th>\n",
       "      <th>Longitude</th>\n",
       "    </tr>\n",
       "  </thead>\n",
       "  <tbody>\n",
       "    <tr>\n",
       "      <th>0</th>\n",
       "      <td>Little's Food Store and Grill</td>\n",
       "      <td>33.749230</td>\n",
       "      <td>-84.367840</td>\n",
       "    </tr>\n",
       "    <tr>\n",
       "      <th>1</th>\n",
       "      <td>Trader Joe's</td>\n",
       "      <td>33.778754</td>\n",
       "      <td>-84.367020</td>\n",
       "    </tr>\n",
       "    <tr>\n",
       "      <th>2</th>\n",
       "      <td>Trader Joe's</td>\n",
       "      <td>33.840953</td>\n",
       "      <td>-84.374985</td>\n",
       "    </tr>\n",
       "    <tr>\n",
       "      <th>3</th>\n",
       "      <td>Sevananda Natural Foods Market</td>\n",
       "      <td>33.767123</td>\n",
       "      <td>-84.348642</td>\n",
       "    </tr>\n",
       "    <tr>\n",
       "      <th>4</th>\n",
       "      <td>Candler Park Market</td>\n",
       "      <td>33.765110</td>\n",
       "      <td>-84.333490</td>\n",
       "    </tr>\n",
       "    <tr>\n",
       "      <th>...</th>\n",
       "      <td>...</td>\n",
       "      <td>...</td>\n",
       "      <td>...</td>\n",
       "    </tr>\n",
       "    <tr>\n",
       "      <th>141</th>\n",
       "      <td>Wayfield Foods, Inc.</td>\n",
       "      <td>33.739700</td>\n",
       "      <td>-84.253708</td>\n",
       "    </tr>\n",
       "    <tr>\n",
       "      <th>142</th>\n",
       "      <td>Savi Provisions</td>\n",
       "      <td>33.775373</td>\n",
       "      <td>-84.298494</td>\n",
       "    </tr>\n",
       "    <tr>\n",
       "      <th>143</th>\n",
       "      <td>Super Giant Foods</td>\n",
       "      <td>33.792145</td>\n",
       "      <td>-84.286277</td>\n",
       "    </tr>\n",
       "    <tr>\n",
       "      <th>144</th>\n",
       "      <td>Texaco Food Mart</td>\n",
       "      <td>33.838116</td>\n",
       "      <td>-84.480225</td>\n",
       "    </tr>\n",
       "    <tr>\n",
       "      <th>145</th>\n",
       "      <td>Fresh Valu Foods</td>\n",
       "      <td>33.711208</td>\n",
       "      <td>-84.269752</td>\n",
       "    </tr>\n",
       "  </tbody>\n",
       "</table>\n",
       "<p>146 rows × 3 columns</p>\n",
       "</div>"
      ],
      "text/plain": [
       "                               Name   Latitude  Longitude\n",
       "0     Little's Food Store and Grill  33.749230 -84.367840\n",
       "1                      Trader Joe's  33.778754 -84.367020\n",
       "2                      Trader Joe's  33.840953 -84.374985\n",
       "3    Sevananda Natural Foods Market  33.767123 -84.348642\n",
       "4               Candler Park Market  33.765110 -84.333490\n",
       "..                              ...        ...        ...\n",
       "141            Wayfield Foods, Inc.  33.739700 -84.253708\n",
       "142                 Savi Provisions  33.775373 -84.298494\n",
       "143               Super Giant Foods  33.792145 -84.286277\n",
       "144                Texaco Food Mart  33.838116 -84.480225\n",
       "145                Fresh Valu Foods  33.711208 -84.269752\n",
       "\n",
       "[146 rows x 3 columns]"
      ]
     },
     "execution_count": 7,
     "metadata": {},
     "output_type": "execute_result"
    }
   ],
   "source": [
    "# Create the data frame\n",
    "\n",
    "Grocery_df = {\n",
    "    \"Name\": name,\n",
    "    \"Latitude\": lat,\n",
    "    \"Longitude\": long\n",
    "}\n",
    "grocery_data = pd.DataFrame(Grocery_df)\n",
    "grocery_data.head(200)"
   ]
  },
  {
   "cell_type": "code",
   "execution_count": 8,
   "id": "c9519f9c",
   "metadata": {
    "scrolled": false
   },
   "outputs": [
    {
     "data": {
      "text/html": [
       "<div>\n",
       "<style scoped>\n",
       "    .dataframe tbody tr th:only-of-type {\n",
       "        vertical-align: middle;\n",
       "    }\n",
       "\n",
       "    .dataframe tbody tr th {\n",
       "        vertical-align: top;\n",
       "    }\n",
       "\n",
       "    .dataframe thead th {\n",
       "        text-align: right;\n",
       "    }\n",
       "</style>\n",
       "<table border=\"1\" class=\"dataframe\">\n",
       "  <thead>\n",
       "    <tr style=\"text-align: right;\">\n",
       "      <th></th>\n",
       "      <th>Name</th>\n",
       "      <th>Latitude</th>\n",
       "      <th>Longitude</th>\n",
       "      <th>SHAPE</th>\n",
       "    </tr>\n",
       "  </thead>\n",
       "  <tbody>\n",
       "    <tr>\n",
       "      <th>0</th>\n",
       "      <td>Little's Food Store and Grill</td>\n",
       "      <td>33.749230</td>\n",
       "      <td>-84.367840</td>\n",
       "      <td>{\"spatialReference\": {\"wkid\": 4326}, \"x\": -84....</td>\n",
       "    </tr>\n",
       "    <tr>\n",
       "      <th>1</th>\n",
       "      <td>Trader Joe's</td>\n",
       "      <td>33.778754</td>\n",
       "      <td>-84.367020</td>\n",
       "      <td>{\"spatialReference\": {\"wkid\": 4326}, \"x\": -84....</td>\n",
       "    </tr>\n",
       "    <tr>\n",
       "      <th>2</th>\n",
       "      <td>Trader Joe's</td>\n",
       "      <td>33.840953</td>\n",
       "      <td>-84.374985</td>\n",
       "      <td>{\"spatialReference\": {\"wkid\": 4326}, \"x\": -84....</td>\n",
       "    </tr>\n",
       "    <tr>\n",
       "      <th>3</th>\n",
       "      <td>Sevananda Natural Foods Market</td>\n",
       "      <td>33.767123</td>\n",
       "      <td>-84.348642</td>\n",
       "      <td>{\"spatialReference\": {\"wkid\": 4326}, \"x\": -84....</td>\n",
       "    </tr>\n",
       "    <tr>\n",
       "      <th>4</th>\n",
       "      <td>Candler Park Market</td>\n",
       "      <td>33.765110</td>\n",
       "      <td>-84.333490</td>\n",
       "      <td>{\"spatialReference\": {\"wkid\": 4326}, \"x\": -84....</td>\n",
       "    </tr>\n",
       "  </tbody>\n",
       "</table>\n",
       "</div>"
      ],
      "text/plain": [
       "                             Name  ...                                              SHAPE\n",
       "0   Little's Food Store and Grill  ...  {\"spatialReference\": {\"wkid\": 4326}, \"x\": -84....\n",
       "1                    Trader Joe's  ...  {\"spatialReference\": {\"wkid\": 4326}, \"x\": -84....\n",
       "2                    Trader Joe's  ...  {\"spatialReference\": {\"wkid\": 4326}, \"x\": -84....\n",
       "3  Sevananda Natural Foods Market  ...  {\"spatialReference\": {\"wkid\": 4326}, \"x\": -84....\n",
       "4             Candler Park Market  ...  {\"spatialReference\": {\"wkid\": 4326}, \"x\": -84....\n",
       "\n",
       "[5 rows x 4 columns]"
      ]
     },
     "execution_count": 8,
     "metadata": {},
     "output_type": "execute_result"
    }
   ],
   "source": [
    "# Use ArcGIS module to convert the pandas dataframe to an ArcGIS spatially enabled dataframe\n",
    "\n",
    "grocery_sedf = pd.DataFrame.spatial.from_xy(df=grocery_data, x_column='Longitude', y_column='Latitude')\n",
    "grocery_sedf.head()"
   ]
  },
  {
   "cell_type": "code",
   "execution_count": 9,
   "id": "96cda24d",
   "metadata": {},
   "outputs": [
    {
     "data": {
      "text/plain": [
       "True"
      ]
     },
     "execution_count": 9,
     "metadata": {},
     "output_type": "execute_result"
    }
   ],
   "source": [
    "# run a function that validates if the object is indeed a spatially enabled data frame (bool)\n",
    "\n",
    "grocery_sedf.spatial.validate()"
   ]
  },
  {
   "cell_type": "code",
   "execution_count": 10,
   "id": "b4445952",
   "metadata": {},
   "outputs": [
    {
     "data": {
      "text/plain": [
       "'C:\\\\Users\\\\hhhbh\\\\Documents\\\\ArcGIS\\\\Projects\\\\BCproject_1\\\\BCproject_1.gdb\\\\grocery'"
      ]
     },
     "execution_count": 10,
     "metadata": {},
     "output_type": "execute_result"
    }
   ],
   "source": [
    "grocery_sedf.spatial.to_featureclass(location=r\"C:\\Users\\hhhbh\\Documents\\ArcGIS\\Projects\\BCproject_1\\BCproject_1.gdb\\grocery\")\n"
   ]
  },
  {
   "cell_type": "markdown",
   "id": "02132755",
   "metadata": {},
   "source": [
    "## Spatial Join the Neighborhood to the grocery stores"
   ]
  },
  {
   "cell_type": "code",
   "execution_count": 11,
   "id": "d864bece",
   "metadata": {},
   "outputs": [
    {
     "data": {
      "text/plain": [
       "True"
      ]
     },
     "execution_count": 11,
     "metadata": {},
     "output_type": "execute_result"
    }
   ],
   "source": [
    "# The spatial join function requires that the two dataframes be in the same coordinate system (spatial reference).\n",
    "# The spatial reference of each dataframe can be seen in the SHAPE column. \n",
    "# To make them the same, convert the grocery dataframe spatial reference to the same as the NPU dataframe\n",
    "\n",
    "grocery_sedf.spatial.project(3857)"
   ]
  },
  {
   "cell_type": "code",
   "execution_count": 12,
   "id": "ddba39eb",
   "metadata": {
    "scrolled": true
   },
   "outputs": [
    {
     "data": {
      "text/html": [
       "<div>\n",
       "<style scoped>\n",
       "    .dataframe tbody tr th:only-of-type {\n",
       "        vertical-align: middle;\n",
       "    }\n",
       "\n",
       "    .dataframe tbody tr th {\n",
       "        vertical-align: top;\n",
       "    }\n",
       "\n",
       "    .dataframe thead th {\n",
       "        text-align: right;\n",
       "    }\n",
       "</style>\n",
       "<table border=\"1\" class=\"dataframe\">\n",
       "  <thead>\n",
       "    <tr style=\"text-align: right;\">\n",
       "      <th></th>\n",
       "      <th>Name</th>\n",
       "      <th>NAME</th>\n",
       "    </tr>\n",
       "  </thead>\n",
       "  <tbody>\n",
       "    <tr>\n",
       "      <th>0</th>\n",
       "      <td>Publix</td>\n",
       "      <td>M</td>\n",
       "    </tr>\n",
       "    <tr>\n",
       "      <th>1</th>\n",
       "      <td>Southern Food Store</td>\n",
       "      <td>M</td>\n",
       "    </tr>\n",
       "    <tr>\n",
       "      <th>2</th>\n",
       "      <td>Carver Neighborhood Market</td>\n",
       "      <td>Y</td>\n",
       "    </tr>\n",
       "    <tr>\n",
       "      <th>3</th>\n",
       "      <td>Walmart</td>\n",
       "      <td>L</td>\n",
       "    </tr>\n",
       "    <tr>\n",
       "      <th>4</th>\n",
       "      <td>Sam &amp; Son Grocery Wholesale</td>\n",
       "      <td>V</td>\n",
       "    </tr>\n",
       "    <tr>\n",
       "      <th>...</th>\n",
       "      <td>...</td>\n",
       "      <td>...</td>\n",
       "    </tr>\n",
       "    <tr>\n",
       "      <th>67</th>\n",
       "      <td>Kroger</td>\n",
       "      <td>W</td>\n",
       "    </tr>\n",
       "    <tr>\n",
       "      <th>68</th>\n",
       "      <td>ALDI</td>\n",
       "      <td>W</td>\n",
       "    </tr>\n",
       "    <tr>\n",
       "      <th>69</th>\n",
       "      <td>Dollar General</td>\n",
       "      <td>W</td>\n",
       "    </tr>\n",
       "    <tr>\n",
       "      <th>70</th>\n",
       "      <td>Piggly Wiggly</td>\n",
       "      <td>W</td>\n",
       "    </tr>\n",
       "    <tr>\n",
       "      <th>71</th>\n",
       "      <td>NaN</td>\n",
       "      <td>Q</td>\n",
       "    </tr>\n",
       "  </tbody>\n",
       "</table>\n",
       "<p>72 rows × 2 columns</p>\n",
       "</div>"
      ],
      "text/plain": [
       "                           Name NAME\n",
       "0                        Publix    M\n",
       "1           Southern Food Store    M\n",
       "2    Carver Neighborhood Market    Y\n",
       "3                       Walmart    L\n",
       "4   Sam & Son Grocery Wholesale    V\n",
       "..                          ...  ...\n",
       "67                       Kroger    W\n",
       "68                         ALDI    W\n",
       "69               Dollar General    W\n",
       "70                Piggly Wiggly    W\n",
       "71                          NaN    Q\n",
       "\n",
       "[72 rows x 2 columns]"
      ]
     },
     "execution_count": 12,
     "metadata": {},
     "output_type": "execute_result"
    }
   ],
   "source": [
    "# Use the spatial join function to create a new dataframe that has NPU joined to the grocery stores\n",
    "# this function joines the records based on thier spatial intersection\n",
    "# (i.e. joins NPU record to grocery record if the grocery's XY is within the NPUs area)\n",
    "\n",
    "grocery_join = pd.DataFrame(grocery_sedf.spatial.join(npu,how='right'))[['Name','NAME']]\n",
    "grocery_join"
   ]
  },
  {
   "cell_type": "markdown",
   "id": "bd671387",
   "metadata": {},
   "source": [
    "## Get Crime Data"
   ]
  },
  {
   "cell_type": "code",
   "execution_count": 13,
   "id": "fda25e00",
   "metadata": {
    "scrolled": false
   },
   "outputs": [
    {
     "data": {
      "text/html": [
       "<div>\n",
       "<style scoped>\n",
       "    .dataframe tbody tr th:only-of-type {\n",
       "        vertical-align: middle;\n",
       "    }\n",
       "\n",
       "    .dataframe tbody tr th {\n",
       "        vertical-align: top;\n",
       "    }\n",
       "\n",
       "    .dataframe thead th {\n",
       "        text-align: right;\n",
       "    }\n",
       "</style>\n",
       "<table border=\"1\" class=\"dataframe\">\n",
       "  <thead>\n",
       "    <tr style=\"text-align: right;\">\n",
       "      <th></th>\n",
       "      <th>offense_id</th>\n",
       "      <th>rpt_date</th>\n",
       "      <th>occur_date</th>\n",
       "      <th>occur_day</th>\n",
       "      <th>occur_day_num</th>\n",
       "      <th>occur_time</th>\n",
       "      <th>poss_date</th>\n",
       "      <th>poss_time</th>\n",
       "      <th>beat</th>\n",
       "      <th>zone</th>\n",
       "      <th>location</th>\n",
       "      <th>neighborhood</th>\n",
       "      <th>ibr_code</th>\n",
       "      <th>UC2_Literal</th>\n",
       "      <th>npu</th>\n",
       "      <th>lat</th>\n",
       "      <th>long</th>\n",
       "      <th>Unnamed: 17</th>\n",
       "      <th>Crime Sheet removals</th>\n",
       "    </tr>\n",
       "  </thead>\n",
       "  <tbody>\n",
       "    <tr>\n",
       "      <th>0</th>\n",
       "      <td>21140096.0</td>\n",
       "      <td>5/20/2021</td>\n",
       "      <td>5/19/2021</td>\n",
       "      <td>Wednesday</td>\n",
       "      <td>4.0</td>\n",
       "      <td>15:20</td>\n",
       "      <td>5/19/2021</td>\n",
       "      <td>15:25</td>\n",
       "      <td>103.0</td>\n",
       "      <td>1.0</td>\n",
       "      <td>1720 MARIETTA BLVD NW\\nATLANTA, GA 30318\\nUNIT...</td>\n",
       "      <td>Hills Park</td>\n",
       "      <td>23F</td>\n",
       "      <td>LARCENY-FROM VEHICLE</td>\n",
       "      <td>D</td>\n",
       "      <td>33.801693</td>\n",
       "      <td>-84.436453</td>\n",
       "      <td>NaN</td>\n",
       "      <td>NaN</td>\n",
       "    </tr>\n",
       "    <tr>\n",
       "      <th>1</th>\n",
       "      <td>21791668.0</td>\n",
       "      <td>6/28/2021</td>\n",
       "      <td>6/27/2021</td>\n",
       "      <td>Sunday</td>\n",
       "      <td>1.0</td>\n",
       "      <td>21:17</td>\n",
       "      <td>6/28/2021</td>\n",
       "      <td>20:00</td>\n",
       "      <td>102.0</td>\n",
       "      <td>1.0</td>\n",
       "      <td>870 MAYSON TURNER RD NW\\nATLANTA, GA 30314\\nUN...</td>\n",
       "      <td>Vine City</td>\n",
       "      <td>23H</td>\n",
       "      <td>LARCENY-NON VEHICLE</td>\n",
       "      <td>L</td>\n",
       "      <td>33.755768</td>\n",
       "      <td>-84.416631</td>\n",
       "      <td>NaN</td>\n",
       "      <td>NaN</td>\n",
       "    </tr>\n",
       "    <tr>\n",
       "      <th>2</th>\n",
       "      <td>200041082.0</td>\n",
       "      <td>1/5/2021</td>\n",
       "      <td>1/4/2021</td>\n",
       "      <td>Monday</td>\n",
       "      <td>2.0</td>\n",
       "      <td>16:00</td>\n",
       "      <td>1/4/2021</td>\n",
       "      <td>17:00</td>\n",
       "      <td>605.0</td>\n",
       "      <td>6.0</td>\n",
       "      <td>275 MEMORIAL DR SE\\nATLANTA, GEORGIA 30312\\nUN...</td>\n",
       "      <td>Grant Park</td>\n",
       "      <td>23C</td>\n",
       "      <td>LARCENY-NON VEHICLE</td>\n",
       "      <td>W</td>\n",
       "      <td>33.746503</td>\n",
       "      <td>-84.378535</td>\n",
       "      <td>NaN</td>\n",
       "      <td>NaN</td>\n",
       "    </tr>\n",
       "    <tr>\n",
       "      <th>3</th>\n",
       "      <td>202611428.0</td>\n",
       "      <td>9/18/2021</td>\n",
       "      <td>9/18/2021</td>\n",
       "      <td>Saturday</td>\n",
       "      <td>7.0</td>\n",
       "      <td>18:04</td>\n",
       "      <td>9/18/2021</td>\n",
       "      <td>18:15</td>\n",
       "      <td>112.0</td>\n",
       "      <td>1.0</td>\n",
       "      <td>2750 DONALD LEE HOLLOWELL PKWY NW\\nATLANTA, GA...</td>\n",
       "      <td>Collier Heights</td>\n",
       "      <td>23C</td>\n",
       "      <td>LARCENY-NON VEHICLE</td>\n",
       "      <td>I</td>\n",
       "      <td>33.777383</td>\n",
       "      <td>-84.477433</td>\n",
       "      <td>NaN</td>\n",
       "      <td>NaN</td>\n",
       "    </tr>\n",
       "    <tr>\n",
       "      <th>4</th>\n",
       "      <td>NaN</td>\n",
       "      <td>NaN</td>\n",
       "      <td>NaN</td>\n",
       "      <td>NaN</td>\n",
       "      <td>NaN</td>\n",
       "      <td>NaN</td>\n",
       "      <td>NaN</td>\n",
       "      <td>NaN</td>\n",
       "      <td>NaN</td>\n",
       "      <td>NaN</td>\n",
       "      <td>NaN</td>\n",
       "      <td>NaN</td>\n",
       "      <td>NaN</td>\n",
       "      <td>NaN</td>\n",
       "      <td>NaN</td>\n",
       "      <td>NaN</td>\n",
       "      <td>NaN</td>\n",
       "      <td>NaN</td>\n",
       "      <td>NaN</td>\n",
       "    </tr>\n",
       "  </tbody>\n",
       "</table>\n",
       "</div>"
      ],
      "text/plain": [
       "    offense_id   rpt_date  ... Unnamed: 17 Crime Sheet removals\n",
       "0   21140096.0  5/20/2021  ...         NaN                  NaN\n",
       "1   21791668.0  6/28/2021  ...         NaN                  NaN\n",
       "2  200041082.0   1/5/2021  ...         NaN                  NaN\n",
       "3  202611428.0  9/18/2021  ...         NaN                  NaN\n",
       "4          NaN        NaN  ...         NaN                  NaN\n",
       "\n",
       "[5 rows x 19 columns]"
      ]
     },
     "execution_count": 13,
     "metadata": {},
     "output_type": "execute_result"
    }
   ],
   "source": [
    "#Access the Crime csv file\n",
    "\n",
    "crime_path = r\"C:\\Users\\hhhbh\\Documents\\DataBootcamp\\Projects\\Project1\\Project-1\\Resources\\COBRA_final_2021.csv\"\n",
    "crime = pd.read_csv(crime_path)\n",
    "crime.head()"
   ]
  },
  {
   "cell_type": "markdown",
   "id": "98c19b2d",
   "metadata": {},
   "source": [
    "## Plot Crime Data by Neighborhood"
   ]
  },
  {
   "cell_type": "code",
   "execution_count": 14,
   "id": "fd3d201b",
   "metadata": {
    "scrolled": true
   },
   "outputs": [
    {
     "data": {
      "text/html": [
       "<div>\n",
       "<style scoped>\n",
       "    .dataframe tbody tr th:only-of-type {\n",
       "        vertical-align: middle;\n",
       "    }\n",
       "\n",
       "    .dataframe tbody tr th {\n",
       "        vertical-align: top;\n",
       "    }\n",
       "\n",
       "    .dataframe thead th {\n",
       "        text-align: right;\n",
       "    }\n",
       "</style>\n",
       "<table border=\"1\" class=\"dataframe\">\n",
       "  <thead>\n",
       "    <tr style=\"text-align: right;\">\n",
       "      <th></th>\n",
       "      <th>Incident Count</th>\n",
       "    </tr>\n",
       "    <tr>\n",
       "      <th>npu</th>\n",
       "      <th></th>\n",
       "    </tr>\n",
       "  </thead>\n",
       "  <tbody>\n",
       "    <tr>\n",
       "      <th>A</th>\n",
       "      <td>136</td>\n",
       "    </tr>\n",
       "    <tr>\n",
       "      <th>B</th>\n",
       "      <td>2175</td>\n",
       "    </tr>\n",
       "    <tr>\n",
       "      <th>C</th>\n",
       "      <td>434</td>\n",
       "    </tr>\n",
       "    <tr>\n",
       "      <th>D</th>\n",
       "      <td>897</td>\n",
       "    </tr>\n",
       "    <tr>\n",
       "      <th>E</th>\n",
       "      <td>2747</td>\n",
       "    </tr>\n",
       "  </tbody>\n",
       "</table>\n",
       "</div>"
      ],
      "text/plain": [
       "     Incident Count\n",
       "npu                \n",
       "A               136\n",
       "B              2175\n",
       "C               434\n",
       "D               897\n",
       "E              2747"
      ]
     },
     "execution_count": 14,
     "metadata": {},
     "output_type": "execute_result"
    }
   ],
   "source": [
    "#Group the crime data by NPU\n",
    "\n",
    "crime_npu = crime[['offense_id','npu']].groupby('npu').nunique()\n",
    "crime_npu = crime_npu.rename(columns={'offense_id': 'Incident Count'})\n",
    "crime_npu.head()"
   ]
  },
  {
   "cell_type": "code",
   "execution_count": 15,
   "id": "d8f70369",
   "metadata": {
    "scrolled": true
   },
   "outputs": [
    {
     "data": {
      "image/png": "[encoded data removed]",
      "text/plain": [
       "<Figure size 1440x216 with 1 Axes>"
      ]
     },
     "metadata": {},
     "output_type": "display_data"
    }
   ],
   "source": [
    " # Set x axis and tick locations   \n",
    "x_axis = np.arange(len(crime_npu))\n",
    "tick_locations = [value+0.4 for value in x_axis]\n",
    "\n",
    "# Create a list indicating where to write x labels and set figure size to adjust for space\n",
    "plt.figure(figsize=(20,3))\n",
    "plt.bar(x_axis, crime_npu[\"Incident Count\"], color='r', alpha=0.5, align=\"edge\")\n",
    "plt.xticks(tick_locations, crime_npu.index, rotation=\"vertical\")\n",
    "\n",
    " # Set a Title and labels\n",
    "plt.title(\"number of Incidents by NPU\")\n",
    "plt.xlabel(\"NPU\")\n",
    "plt.ylabel(\"Count of Incidents\")\n",
    "plt.show()\n"
   ]
  },
  {
   "cell_type": "code",
   "execution_count": 16,
   "id": "49b963cb",
   "metadata": {
    "scrolled": true
   },
   "outputs": [
    {
     "data": {
      "text/plain": [
       "<Figure size 432x288 with 0 Axes>"
      ]
     },
     "metadata": {},
     "output_type": "display_data"
    }
   ],
   "source": [
    " # Save our graph and show the grap\n",
    "plt.tight_layout()\n",
    "plt.savefig(r\"C:\\Users\\hhhbh\\Documents\\DataBootcamp\\Projects\\Project1\\Project-1\\Resources\\Images\\Crime_per_NPU.png\")\n",
    "plt.show()"
   ]
  },
  {
   "cell_type": "markdown",
   "id": "95ff8ccf",
   "metadata": {},
   "source": [
    "## Plot Grocery Data by Neighborhood"
   ]
  },
  {
   "cell_type": "code",
   "execution_count": 17,
   "id": "a3c4121f",
   "metadata": {},
   "outputs": [],
   "source": [
    "grocery_npu = grocery_join.groupby('NAME').count()\n",
    "grocery_npu = pd.DataFrame(grocery_npu)\n",
    "grocery_npu = grocery_npu.rename(columns={'Name':'Grocery Store Count'})"
   ]
  },
  {
   "cell_type": "code",
   "execution_count": 18,
   "id": "4d6e9ea8",
   "metadata": {
    "scrolled": false
   },
   "outputs": [
    {
     "data": {
      "text/plain": [
       "Text(0, 0.5, 'Count of Grocery Stores')"
      ]
     },
     "execution_count": 18,
     "metadata": {},
     "output_type": "execute_result"
    }
   ],
   "source": [
    " # Set x axis and tick locations\n",
    "x_axis = np.arange(len(grocery_npu))\n",
    "tick_locations = [value+0.4 for value in x_axis]\n",
    "\n",
    "# Create a list indicating where to write x labels and set figure size to adjust for space\n",
    "plt.figure(figsize=(20,3))\n",
    "plt.bar(x_axis, grocery_npu[\"Grocery Store Count\"], color='r', alpha=0.5, align=\"edge\")\n",
    "plt.xticks(tick_locations, grocery_npu.index, rotation=\"vertical\")\n",
    "\n",
    " # Set a Title and labels\n",
    "plt.title(\"number of Grocery Stores by NPU\")\n",
    "plt.xlabel(\"NPU\")\n",
    "plt.ylabel(\"Count of Grocery Stores\")"
   ]
  },
  {
   "cell_type": "code",
   "execution_count": 19,
   "id": "ad4b24f7",
   "metadata": {},
   "outputs": [
    {
     "data": {
      "image/png": "[encoded data removed]",
      "text/plain": [
       "<Figure size 1440x216 with 1 Axes>"
      ]
     },
     "metadata": {},
     "output_type": "display_data"
    }
   ],
   "source": [
    " # Save our graph and show the graph\n",
    "plt.tight_layout()\n",
    "plt.savefig(r\"C:\\Users\\hhhbh\\Documents\\DataBootcamp\\Projects\\Project1\\Project-1\\Resources\\Images\\Grocery_per_NPU.png\")\n",
    "plt.show()"
   ]
  },
  {
   "cell_type": "markdown",
   "id": "567f1105",
   "metadata": {},
   "source": [
    "## Scatter plotting"
   ]
  },
  {
   "cell_type": "code",
   "execution_count": 20,
   "id": "cc0239ee",
   "metadata": {},
   "outputs": [
    {
     "data": {
      "text/html": [
       "<div>\n",
       "<style scoped>\n",
       "    .dataframe tbody tr th:only-of-type {\n",
       "        vertical-align: middle;\n",
       "    }\n",
       "\n",
       "    .dataframe tbody tr th {\n",
       "        vertical-align: top;\n",
       "    }\n",
       "\n",
       "    .dataframe thead th {\n",
       "        text-align: right;\n",
       "    }\n",
       "</style>\n",
       "<table border=\"1\" class=\"dataframe\">\n",
       "  <thead>\n",
       "    <tr style=\"text-align: right;\">\n",
       "      <th></th>\n",
       "      <th>Grocery Store Count</th>\n",
       "      <th>Incident Count</th>\n",
       "    </tr>\n",
       "    <tr>\n",
       "      <th>npu</th>\n",
       "      <th></th>\n",
       "      <th></th>\n",
       "    </tr>\n",
       "  </thead>\n",
       "  <tbody>\n",
       "    <tr>\n",
       "      <th>A</th>\n",
       "      <td>2</td>\n",
       "      <td>136</td>\n",
       "    </tr>\n",
       "    <tr>\n",
       "      <th>B</th>\n",
       "      <td>13</td>\n",
       "      <td>2175</td>\n",
       "    </tr>\n",
       "    <tr>\n",
       "      <th>C</th>\n",
       "      <td>3</td>\n",
       "      <td>434</td>\n",
       "    </tr>\n",
       "    <tr>\n",
       "      <th>D</th>\n",
       "      <td>4</td>\n",
       "      <td>897</td>\n",
       "    </tr>\n",
       "    <tr>\n",
       "      <th>E</th>\n",
       "      <td>10</td>\n",
       "      <td>2747</td>\n",
       "    </tr>\n",
       "    <tr>\n",
       "      <th>F</th>\n",
       "      <td>5</td>\n",
       "      <td>992</td>\n",
       "    </tr>\n",
       "    <tr>\n",
       "      <th>G</th>\n",
       "      <td>0</td>\n",
       "      <td>356</td>\n",
       "    </tr>\n",
       "    <tr>\n",
       "      <th>H</th>\n",
       "      <td>0</td>\n",
       "      <td>451</td>\n",
       "    </tr>\n",
       "    <tr>\n",
       "      <th>I</th>\n",
       "      <td>2</td>\n",
       "      <td>752</td>\n",
       "    </tr>\n",
       "    <tr>\n",
       "      <th>J</th>\n",
       "      <td>1</td>\n",
       "      <td>423</td>\n",
       "    </tr>\n",
       "    <tr>\n",
       "      <th>K</th>\n",
       "      <td>1</td>\n",
       "      <td>324</td>\n",
       "    </tr>\n",
       "    <tr>\n",
       "      <th>L</th>\n",
       "      <td>1</td>\n",
       "      <td>646</td>\n",
       "    </tr>\n",
       "    <tr>\n",
       "      <th>M</th>\n",
       "      <td>2</td>\n",
       "      <td>2917</td>\n",
       "    </tr>\n",
       "    <tr>\n",
       "      <th>N</th>\n",
       "      <td>7</td>\n",
       "      <td>938</td>\n",
       "    </tr>\n",
       "    <tr>\n",
       "      <th>O</th>\n",
       "      <td>1</td>\n",
       "      <td>523</td>\n",
       "    </tr>\n",
       "    <tr>\n",
       "      <th>P</th>\n",
       "      <td>0</td>\n",
       "      <td>481</td>\n",
       "    </tr>\n",
       "    <tr>\n",
       "      <th>Q</th>\n",
       "      <td>0</td>\n",
       "      <td>17</td>\n",
       "    </tr>\n",
       "    <tr>\n",
       "      <th>R</th>\n",
       "      <td>0</td>\n",
       "      <td>725</td>\n",
       "    </tr>\n",
       "    <tr>\n",
       "      <th>S</th>\n",
       "      <td>1</td>\n",
       "      <td>449</td>\n",
       "    </tr>\n",
       "    <tr>\n",
       "      <th>T</th>\n",
       "      <td>2</td>\n",
       "      <td>871</td>\n",
       "    </tr>\n",
       "    <tr>\n",
       "      <th>V</th>\n",
       "      <td>3</td>\n",
       "      <td>1023</td>\n",
       "    </tr>\n",
       "    <tr>\n",
       "      <th>W</th>\n",
       "      <td>6</td>\n",
       "      <td>782</td>\n",
       "    </tr>\n",
       "    <tr>\n",
       "      <th>X</th>\n",
       "      <td>0</td>\n",
       "      <td>580</td>\n",
       "    </tr>\n",
       "    <tr>\n",
       "      <th>Y</th>\n",
       "      <td>1</td>\n",
       "      <td>458</td>\n",
       "    </tr>\n",
       "    <tr>\n",
       "      <th>Z</th>\n",
       "      <td>0</td>\n",
       "      <td>656</td>\n",
       "    </tr>\n",
       "  </tbody>\n",
       "</table>\n",
       "</div>"
      ],
      "text/plain": [
       "     Grocery Store Count  Incident Count\n",
       "npu                                     \n",
       "A                      2             136\n",
       "B                     13            2175\n",
       "C                      3             434\n",
       "D                      4             897\n",
       "E                     10            2747\n",
       "F                      5             992\n",
       "G                      0             356\n",
       "H                      0             451\n",
       "I                      2             752\n",
       "J                      1             423\n",
       "K                      1             324\n",
       "L                      1             646\n",
       "M                      2            2917\n",
       "N                      7             938\n",
       "O                      1             523\n",
       "P                      0             481\n",
       "Q                      0              17\n",
       "R                      0             725\n",
       "S                      1             449\n",
       "T                      2             871\n",
       "V                      3            1023\n",
       "W                      6             782\n",
       "X                      0             580\n",
       "Y                      1             458\n",
       "Z                      0             656"
      ]
     },
     "execution_count": 20,
     "metadata": {},
     "output_type": "execute_result"
    }
   ],
   "source": [
    "merged_npu = grocery_npu.merge(crime_npu, how='right',left_index=True,right_index=True)\n",
    "merged_npu = pd.DataFrame(merged_npu)\n",
    "merged_npu"
   ]
  },
  {
   "cell_type": "code",
   "execution_count": 21,
   "id": "a50998ee",
   "metadata": {
    "scrolled": true
   },
   "outputs": [
    {
     "data": {
      "text/html": [
       "<div>\n",
       "<style scoped>\n",
       "    .dataframe tbody tr th:only-of-type {\n",
       "        vertical-align: middle;\n",
       "    }\n",
       "\n",
       "    .dataframe tbody tr th {\n",
       "        vertical-align: top;\n",
       "    }\n",
       "\n",
       "    .dataframe thead th {\n",
       "        text-align: right;\n",
       "    }\n",
       "</style>\n",
       "<table border=\"1\" class=\"dataframe\">\n",
       "  <thead>\n",
       "    <tr style=\"text-align: right;\">\n",
       "      <th></th>\n",
       "      <th>Grocery Store Count</th>\n",
       "      <th>Incident Count</th>\n",
       "    </tr>\n",
       "    <tr>\n",
       "      <th>npu</th>\n",
       "      <th></th>\n",
       "      <th></th>\n",
       "    </tr>\n",
       "  </thead>\n",
       "  <tbody>\n",
       "    <tr>\n",
       "      <th>A</th>\n",
       "      <td>2</td>\n",
       "      <td>136</td>\n",
       "    </tr>\n",
       "    <tr>\n",
       "      <th>B</th>\n",
       "      <td>13</td>\n",
       "      <td>2175</td>\n",
       "    </tr>\n",
       "    <tr>\n",
       "      <th>C</th>\n",
       "      <td>3</td>\n",
       "      <td>434</td>\n",
       "    </tr>\n",
       "    <tr>\n",
       "      <th>D</th>\n",
       "      <td>4</td>\n",
       "      <td>897</td>\n",
       "    </tr>\n",
       "    <tr>\n",
       "      <th>E</th>\n",
       "      <td>10</td>\n",
       "      <td>2747</td>\n",
       "    </tr>\n",
       "    <tr>\n",
       "      <th>F</th>\n",
       "      <td>5</td>\n",
       "      <td>992</td>\n",
       "    </tr>\n",
       "    <tr>\n",
       "      <th>G</th>\n",
       "      <td>0</td>\n",
       "      <td>356</td>\n",
       "    </tr>\n",
       "    <tr>\n",
       "      <th>I</th>\n",
       "      <td>2</td>\n",
       "      <td>752</td>\n",
       "    </tr>\n",
       "    <tr>\n",
       "      <th>J</th>\n",
       "      <td>1</td>\n",
       "      <td>423</td>\n",
       "    </tr>\n",
       "    <tr>\n",
       "      <th>K</th>\n",
       "      <td>1</td>\n",
       "      <td>324</td>\n",
       "    </tr>\n",
       "    <tr>\n",
       "      <th>L</th>\n",
       "      <td>1</td>\n",
       "      <td>646</td>\n",
       "    </tr>\n",
       "    <tr>\n",
       "      <th>M</th>\n",
       "      <td>2</td>\n",
       "      <td>2917</td>\n",
       "    </tr>\n",
       "    <tr>\n",
       "      <th>N</th>\n",
       "      <td>7</td>\n",
       "      <td>938</td>\n",
       "    </tr>\n",
       "    <tr>\n",
       "      <th>O</th>\n",
       "      <td>1</td>\n",
       "      <td>523</td>\n",
       "    </tr>\n",
       "    <tr>\n",
       "      <th>T</th>\n",
       "      <td>2</td>\n",
       "      <td>871</td>\n",
       "    </tr>\n",
       "    <tr>\n",
       "      <th>V</th>\n",
       "      <td>3</td>\n",
       "      <td>1023</td>\n",
       "    </tr>\n",
       "    <tr>\n",
       "      <th>W</th>\n",
       "      <td>6</td>\n",
       "      <td>782</td>\n",
       "    </tr>\n",
       "  </tbody>\n",
       "</table>\n",
       "</div>"
      ],
      "text/plain": [
       "     Grocery Store Count  Incident Count\n",
       "npu                                     \n",
       "A                      2             136\n",
       "B                     13            2175\n",
       "C                      3             434\n",
       "D                      4             897\n",
       "E                     10            2747\n",
       "F                      5             992\n",
       "G                      0             356\n",
       "I                      2             752\n",
       "J                      1             423\n",
       "K                      1             324\n",
       "L                      1             646\n",
       "M                      2            2917\n",
       "N                      7             938\n",
       "O                      1             523\n",
       "T                      2             871\n",
       "V                      3            1023\n",
       "W                      6             782"
      ]
     },
     "execution_count": 21,
     "metadata": {},
     "output_type": "execute_result"
    }
   ],
   "source": [
    "# Removed bad data NPUs (did not get grocery data for these based on the radius of the Yelp search for \"Atlanta\")\n",
    "merged_npu.drop(['Z','S','X','Y','R','P','Q','H'])"
   ]
  },
  {
   "cell_type": "code",
   "execution_count": 22,
   "id": "fdfe0d39",
   "metadata": {
    "scrolled": true
   },
   "outputs": [
    {
     "data": {
      "text/plain": [
       "Text(0, 0.5, 'Grocery Store Count')"
      ]
     },
     "execution_count": 22,
     "metadata": {},
     "output_type": "execute_result"
    }
   ],
   "source": [
    "#create scatter plot\n",
    "x = 'Incident Count'\n",
    "y = 'Grocery Store Count'\n",
    "\n",
    "plt.scatter(merged_npu[x], merged_npu[y])\n",
    "\n",
    "# format labels\n",
    "plt.title(f\"NPU {x} vs. {y}\")\n",
    "\n",
    "plt.xlabel(x)\n",
    "\n",
    "plt.ylabel(y)"
   ]
  },
  {
   "cell_type": "code",
   "execution_count": 23,
   "id": "29d01cf7",
   "metadata": {},
   "outputs": [
    {
     "data": {
      "image/png": "[encoded data removed]",
      "text/plain": [
       "<Figure size 432x288 with 1 Axes>"
      ]
     },
     "metadata": {},
     "output_type": "display_data"
    }
   ],
   "source": [
    " # Save our graph and show the graph\n",
    "#plt.tight_layout()\n",
    "plt.savefig(r\"C:\\Users\\hhhbh\\Documents\\DataBootcamp\\Projects\\Project1\\Project-1\\Resources\\Images\\NPU_Grocery_vs_Incident.png\")\n",
    "plt.show()"
   ]
  },
  {
   "cell_type": "code",
   "execution_count": 24,
   "id": "5e87bf01",
   "metadata": {
    "scrolled": true
   },
   "outputs": [
    {
     "name": "stdout",
     "output_type": "stream",
     "text": [
      "r-squared: 0.66\n"
     ]
    },
    {
     "data": {
      "text/plain": [
       "Text(0, 0.5, 'Grocery Store Count')"
      ]
     },
     "execution_count": 24,
     "metadata": {},
     "output_type": "execute_result"
    }
   ],
   "source": [
    "df = merged_npu\n",
    "x = 'Incident Count'\n",
    "y = 'Grocery Store Count'\n",
    "\n",
    "df_x = df[x]\n",
    "df_y = df[y]\n",
    "\n",
    "# get r-squared value and print it\n",
    "print(f\"r-squared: {round(st.pearsonr(df[x], df[y])[0],2)}\")\n",
    "\n",
    "# calculate function for line and plot\n",
    "(slope, intercept, rvalue, pvalue, stderr) = linregress(df[x], df[y])\n",
    "regress_values = df[x] * slope + intercept\n",
    "line_eq = \"y = \" + str(round(slope,2)) + \"x + \" + str(round(intercept,2))\n",
    "plt.plot(df[x],regress_values,\"r-\")\n",
    "\n",
    "# add scatter plot\n",
    "plt.scatter(df[x], df[y])\n",
    "\n",
    "# format labels\n",
    "plt.title(f'NPU {x} vs. {y} Linear Regression')\n",
    "\n",
    "plt.xlabel(x)\n",
    "\n",
    "plt.ylabel(y)"
   ]
  },
  {
   "cell_type": "code",
   "execution_count": 25,
   "id": "b58a897d",
   "metadata": {
    "scrolled": true
   },
   "outputs": [
    {
     "data": {
      "image/png": "[encoded data removed]",
      "text/plain": [
       "<Figure size 432x288 with 1 Axes>"
      ]
     },
     "metadata": {},
     "output_type": "display_data"
    }
   ],
   "source": [
    " # Save our graph and show the graph\n",
    "plt.savefig(r\"C:\\Users\\hhhbh\\Documents\\DataBootcamp\\Projects\\Project1\\Project-1\\Resources\\Images\\NPU_Grocery_vs_Incident_R.png\")\n",
    "plt.show()"
   ]
  },
  {
   "cell_type": "code",
   "execution_count": null,
   "id": "cb2b4c93",
   "metadata": {},
   "outputs": [],
   "source": []
  }
 ],
 "metadata": {
  "kernelspec": {
   "display_name": "ArcGISPro",
   "language": "Python",
   "name": "python3"
  },
  "language_info": {
   "file_extension": ".py",
   "name": "python",
   "version": "3"
  }
 },
 "nbformat": 4,
 "nbformat_minor": 5
}
