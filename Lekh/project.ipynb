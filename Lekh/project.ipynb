{
 "cells": [
  {
   "cell_type": "markdown",
   "metadata": {},
   "source": [
    "# VacationPy\n",
    "----\n",
    "\n",
    "#### Note\n",
    "* Keep an eye on your API usage. Use https://developers.google.com/maps/reporting/gmp-reporting as reference for how to monitor your usage and billing.\n",
    "\n",
    "* Instructions have been included for each segment. You do not have to follow them exactly, but they are included to help you think through the steps."
   ]
  },
  {
   "cell_type": "code",
   "execution_count": 4,
   "metadata": {},
   "outputs": [],
   "source": [
    "# Dependencies and Setup\n",
    "import matplotlib.pyplot as plt\n",
    "import pandas as pd\n",
    "import numpy as np\n",
    "import requests\n",
    "import json\n",
    "import os\n",
    "\n",
    "# Import API key\n",
    "from config import api_key"
   ]
  },
  {
   "cell_type": "markdown",
   "metadata": {},
   "source": []
  },
  {
   "cell_type": "code",
   "execution_count": 5,
   "metadata": {},
   "outputs": [],
   "source": [
    "url = \"https://api.yelp.com/v3/businesses/search?&location=Atlanta,GA&categories=\"\n",
    "#data ={\"location\" : \"Atlanta,GA\"}\n",
    "headers = {\"Authorization\": \"Bearer \" + api_key}\n",
    "#url"
   ]
  },
  {
   "cell_type": "markdown",
   "metadata": {},
   "source": []
  },
  {
   "cell_type": "code",
   "execution_count": null,
   "metadata": {},
   "outputs": [],
   "source": []
  },
  {
   "cell_type": "code",
   "execution_count": null,
   "metadata": {},
   "outputs": [],
   "source": []
  },
  {
   "cell_type": "markdown",
   "metadata": {},
   "source": []
  },
  {
   "cell_type": "code",
   "execution_count": 6,
   "metadata": {},
   "outputs": [
    {
     "name": "stdout",
     "output_type": "stream",
     "text": [
      "https://api.yelp.com/v3/businesses/search?&location=Atlanta,GA&categories=grocery\n",
      "[{'businesses': [{'id': 'KbyrRWuEeK6uEbtpAUgIdg', 'alias': 'littles-food-store-and-grill-atlanta', 'name': \"Little's Food Store and Grill\", 'image_url': 'https://s3-media4.fl.yelpcdn.com/bphoto/WLyI4YgVz1nc1xOnr-yIbA/o.jpg', 'is_closed': False, 'url': 'https://www.yelp.com/biz/littles-food-store-and-grill-atlanta?adjust_creative=snrJLEHqJkQMzzV_Rc2HBw&utm_campaign=yelp_api_v3&utm_medium=api_v3_business_search&utm_source=snrJLEHqJkQMzzV_Rc2HBw', 'review_count': 188, 'categories': [{'alias': 'grocery', 'title': 'Grocery'}, {'alias': 'beer_and_wine', 'title': 'Beer, Wine & Spirits'}, {'alias': 'burgers', 'title': 'Burgers'}], 'rating': 4.5, 'coordinates': {'latitude': 33.74923, 'longitude': -84.36784}, 'transactions': ['delivery'], 'price': '$', 'location': {'address1': '198 Carroll St', 'address2': '', 'address3': '', 'city': 'Atlanta', 'zip_code': '30312', 'country': 'US', 'state': 'GA', 'display_address': ['198 Carroll St', 'Atlanta, GA 30312']}, 'phone': '+14049637012', 'display_phone': '(404) 963-7012', 'distance': 7135.859656260761}, {'id': '08sxSN6fowRSsdf7soFCuQ', 'alias': 'trader-joes-atlanta', 'name': \"Trader Joe's\", 'image_url': 'https://s3-media4.fl.yelpcdn.com/bphoto/S25xCA7NMZdZvpnm7A4u_w/o.jpg', 'is_closed': False, 'url': 'https://www.yelp.com/biz/trader-joes-atlanta?adjust_creative=snrJLEHqJkQMzzV_Rc2HBw&utm_campaign=yelp_api_v3&utm_medium=api_v3_business_search&utm_source=snrJLEHqJkQMzzV_Rc2HBw', 'review_count': 306, 'categories': [{'alias': 'grocery', 'title': 'Grocery'}], 'rating': 4.0, 'coordinates': {'latitude': 33.7787545, 'longitude': -84.3670198}, 'transactions': [], 'price': '$$', 'location': {'address1': '931 Monroe Dr', 'address2': '', 'address3': '', 'city': 'Atlanta', 'zip_code': '30308', 'country': 'US', 'state': 'GA', 'display_address': ['931 Monroe Dr', 'Atlanta, GA 30308']}, 'phone': '+14048159210', 'display_phone': '(404) 815-9210', 'distance': 3879.9527001781}, {'id': 'A0lj5Ivkjt0jROHDxDbVQA', 'alias': 'trader-joes-atlanta-2', 'name': \"Trader Joe's\", 'image_url': 'https://s3-media2.fl.yelpcdn.com/bphoto/m-rZ7kEJtgURNMg1fLwYHA/o.jpg', 'is_closed': False, 'url': 'https://www.yelp.com/biz/trader-joes-atlanta-2?adjust_creative=snrJLEHqJkQMzzV_Rc2HBw&utm_campaign=yelp_api_v3&utm_medium=api_v3_business_search&utm_source=snrJLEHqJkQMzzV_Rc2HBw', 'review_count': 171, 'categories': [{'alias': 'grocery', 'title': 'Grocery'}], 'rating': 4.5, 'coordinates': {'latitude': 33.8409526, 'longitude': -84.3749849}, 'transactions': [], 'price': '$$', 'location': {'address1': '3183 Peachtree Rd', 'address2': '', 'address3': None, 'city': 'Atlanta', 'zip_code': '30305', 'country': 'US', 'state': 'GA', 'display_address': ['3183 Peachtree Rd', 'Atlanta, GA 30305']}, 'phone': '+14048420907', 'display_phone': '(404) 842-0907', 'distance': 3087.036814230124}, {'id': 'PeIAxpKixg2vKC-JxQ1wUQ', 'alias': 'sevananda-natural-foods-market-atlanta-2', 'name': 'Sevananda Natural Foods Market', 'image_url': 'https://s3-media1.fl.yelpcdn.com/bphoto/tWLvp87b1edVHM3RRh8w-g/o.jpg', 'is_closed': False, 'url': 'https://www.yelp.com/biz/sevananda-natural-foods-market-atlanta-2?adjust_creative=snrJLEHqJkQMzzV_Rc2HBw&utm_campaign=yelp_api_v3&utm_medium=api_v3_business_search&utm_source=snrJLEHqJkQMzzV_Rc2HBw', 'review_count': 240, 'categories': [{'alias': 'grocery', 'title': 'Grocery'}, {'alias': 'organic_stores', 'title': 'Organic Stores'}], 'rating': 4.0, 'coordinates': {'latitude': 33.76712333710428, 'longitude': -84.3486422672868}, 'transactions': [], 'price': '$$', 'location': {'address1': '467 Moreland Ave NE', 'address2': '', 'address3': '', 'city': 'Atlanta', 'zip_code': '30307', 'country': 'US', 'state': 'GA', 'display_address': ['467 Moreland Ave NE', 'Atlanta, GA 30307']}, 'phone': '+14046812831', 'display_phone': '(404) 681-2831', 'distance': 5621.0201789420025}, {'id': 'W45_Bbn_w-2pqgFV9kQe7Q', 'alias': 'candler-park-market-atlanta', 'name': 'Candler Park Market', 'image_url': 'https://s3-media2.fl.yelpcdn.com/bphoto/zOIKBXm4eGdXM6qOIZ49RA/o.jpg', 'is_closed': False, 'url': 'https://www.yelp.com/biz/candler-park-market-atlanta?adjust_creative=snrJLEHqJkQMzzV_Rc2HBw&utm_campaign=yelp_api_v3&utm_medium=api_v3_business_search&utm_source=snrJLEHqJkQMzzV_Rc2HBw', 'review_count': 130, 'categories': [{'alias': 'grocery', 'title': 'Grocery'}, {'alias': 'beer_and_wine', 'title': 'Beer, Wine & Spirits'}, {'alias': 'delis', 'title': 'Delis'}], 'rating': 4.5, 'coordinates': {'latitude': 33.76511, 'longitude': -84.33349}, 'transactions': ['delivery'], 'price': '$$', 'location': {'address1': '1642 McLendon Ave NE', 'address2': '', 'address3': '', 'city': 'Atlanta', 'zip_code': '30307', 'country': 'US', 'state': 'GA', 'display_address': ['1642 McLendon Ave NE', 'Atlanta, GA 30307']}, 'phone': '+14043739787', 'display_phone': '(404) 373-9787', 'distance': 6504.416262885228}, {'id': 'hLpJP1rngQUeWokxTL1BDw', 'alias': 'whole-foods-market-atlanta-9', 'name': 'Whole Foods Market', 'image_url': 'https://s3-media3.fl.yelpcdn.com/bphoto/AAx9TJLnlKBRXyKPI5asSA/o.jpg', 'is_closed': False, 'url': 'https://www.yelp.com/biz/whole-foods-market-atlanta-9?adjust_creative=snrJLEHqJkQMzzV_Rc2HBw&utm_campaign=yelp_api_v3&utm_medium=api_v3_business_search&utm_source=snrJLEHqJkQMzzV_Rc2HBw', 'review_count': 182, 'categories': [{'alias': 'grocery', 'title': 'Grocery'}, {'alias': 'healthmarkets', 'title': 'Health Markets'}, {'alias': 'organic_stores', 'title': 'Organic Stores'}], 'rating': 4.0, 'coordinates': {'latitude': 33.840841, 'longitude': -84.381148}, 'transactions': [], 'price': '$$$', 'location': {'address1': '77 W Paces Ferry Rd NW', 'address2': '', 'address3': '', 'city': 'Atlanta', 'zip_code': '30305', 'country': 'US', 'state': 'GA', 'display_address': ['77 W Paces Ferry Rd NW', 'Atlanta, GA 30305']}, 'phone': '+14043244100', 'display_phone': '(404) 324-4100', 'distance': 3149.657759498649}, {'id': '0NRcugIFwniVkYJw8Yt3PQ', 'alias': 'whole-foods-market-atlanta-atlanta-3', 'name': 'Whole Foods Market - Atlanta', 'image_url': 'https://s3-media3.fl.yelpcdn.com/bphoto/ih1rOCra-khQpg9unygI9A/o.jpg', 'is_closed': False, 'url': 'https://www.yelp.com/biz/whole-foods-market-atlanta-atlanta-3?adjust_creative=snrJLEHqJkQMzzV_Rc2HBw&utm_campaign=yelp_api_v3&utm_medium=api_v3_business_search&utm_source=snrJLEHqJkQMzzV_Rc2HBw', 'review_count': 299, 'categories': [{'alias': 'grocery', 'title': 'Grocery'}, {'alias': 'healthmarkets', 'title': 'Health Markets'}, {'alias': 'organic_stores', 'title': 'Organic Stores'}], 'rating': 3.5, 'coordinates': {'latitude': 33.774805, 'longitude': -84.365756}, 'transactions': [], 'price': '$$', 'location': {'address1': '650 Ponce De Leon Ave NE', 'address2': '', 'address3': '', 'city': 'Atlanta', 'zip_code': '30308', 'country': 'US', 'state': 'GA', 'display_address': ['650 Ponce De Leon Ave NE', 'Atlanta, GA 30308']}, 'phone': '+14048531681', 'display_phone': '(404) 853-1681', 'distance': 4332.270997421388}, {'id': 'L7E9vWuFu1FV48YtRBesZw', 'alias': 'whole-foods-market-atlanta-12', 'name': 'Whole Foods Market', 'image_url': 'https://s3-media3.fl.yelpcdn.com/bphoto/A8Sy6DuTTaHK9-YPkjc6Sg/o.jpg', 'is_closed': False, 'url': 'https://www.yelp.com/biz/whole-foods-market-atlanta-12?adjust_creative=snrJLEHqJkQMzzV_Rc2HBw&utm_campaign=yelp_api_v3&utm_medium=api_v3_business_search&utm_source=snrJLEHqJkQMzzV_Rc2HBw', 'review_count': 87, 'categories': [{'alias': 'grocery', 'title': 'Grocery'}, {'alias': 'organic_stores', 'title': 'Organic Stores'}, {'alias': 'healthmarkets', 'title': 'Health Markets'}], 'rating': 4.0, 'coordinates': {'latitude': 33.786399, 'longitude': -84.389}, 'transactions': [], 'location': {'address1': '22 14th St NW', 'address2': '', 'address3': None, 'city': 'Atlanta', 'zip_code': '30309', 'country': 'US', 'state': 'GA', 'display_address': ['22 14th St NW', 'Atlanta, GA 30309']}, 'phone': '+14705524201', 'display_phone': '(470) 552-4201', 'distance': 3302.6865808262764}, {'id': 'nhzYlUwpy0a-H6-_4GIXWg', 'alias': 'bennetts-market-and-deli-atlanta', 'name': \"Bennett's Market & Deli\", 'image_url': 'https://s3-media3.fl.yelpcdn.com/bphoto/Q2ky4Is5tkyTItTBFQN3Lw/o.jpg', 'is_closed': False, 'url': 'https://www.yelp.com/biz/bennetts-market-and-deli-atlanta?adjust_creative=snrJLEHqJkQMzzV_Rc2HBw&utm_campaign=yelp_api_v3&utm_medium=api_v3_business_search&utm_source=snrJLEHqJkQMzzV_Rc2HBw', 'review_count': 93, 'categories': [{'alias': 'grocery', 'title': 'Grocery'}, {'alias': 'delis', 'title': 'Delis'}, {'alias': 'sandwiches', 'title': 'Sandwiches'}], 'rating': 4.0, 'coordinates': {'latitude': 33.7389639, 'longitude': -84.3681524}, 'transactions': ['pickup', 'delivery'], 'price': '$', 'location': {'address1': '568 Blvd SE', 'address2': None, 'address3': '', 'city': 'Atlanta', 'zip_code': '30312', 'country': 'US', 'state': 'GA', 'display_address': ['568 Blvd SE', 'Atlanta, GA 30312']}, 'phone': '+14048498467', 'display_phone': '(404) 849-8467', 'distance': 8271.61670094699}, {'id': 'LfMMRiSRrawjIJJMfvqwRQ', 'alias': 'grant-park-market-atlanta', 'name': 'Grant Park Market', 'image_url': 'https://s3-media1.fl.yelpcdn.com/bphoto/iaDdOEfxrV1C7pVx3pxKpQ/o.jpg', 'is_closed': False, 'url': 'https://www.yelp.com/biz/grant-park-market-atlanta?adjust_creative=snrJLEHqJkQMzzV_Rc2HBw&utm_campaign=yelp_api_v3&utm_medium=api_v3_business_search&utm_source=snrJLEHqJkQMzzV_Rc2HBw', 'review_count': 84, 'categories': [{'alias': 'grocery', 'title': 'Grocery'}], 'rating': 4.0, 'coordinates': {'latitude': 33.7465954864959, 'longitude': -84.3708385456637}, 'transactions': ['pickup'], 'price': '$$', 'location': {'address1': '519 Memorial Dr', 'address2': '', 'address3': None, 'city': 'Atlanta', 'zip_code': '30312', 'country': 'US', 'state': 'GA', 'display_address': ['519 Memorial Dr', 'Atlanta, GA 30312']}, 'phone': '+14043308014', 'display_phone': '(404) 330-8014', 'distance': 7412.015113844383}, {'id': 'aYyD90HYtQNtJo3q-XEpng', 'alias': 'publix-atlanta-19', 'name': 'Publix', 'image_url': 'https://s3-media2.fl.yelpcdn.com/bphoto/baFgNqDF3dpOuE1harPCNA/o.jpg', 'is_closed': False, 'url': 'https://www.yelp.com/biz/publix-atlanta-19?adjust_creative=snrJLEHqJkQMzzV_Rc2HBw&utm_campaign=yelp_api_v3&utm_medium=api_v3_business_search&utm_source=snrJLEHqJkQMzzV_Rc2HBw', 'review_count': 128, 'categories': [{'alias': 'grocery', 'title': 'Grocery'}], 'rating': 3.5, 'coordinates': {'latitude': 33.780460595815, 'longitude': -84.388785428574}, 'transactions': ['delivery'], 'price': '$$', 'location': {'address1': '950 W Peachtree St NW', 'address2': '', 'address3': 'The Plaza Midtown', 'city': 'Atlanta', 'zip_code': '30309', 'country': 'US', 'state': 'GA', 'display_address': ['950 W Peachtree St NW', 'The Plaza Midtown', 'Atlanta, GA 30309']}, 'phone': '+14042533544', 'display_phone': '(404) 253-3544', 'distance': 3901.995317149881}, {'id': '5qKE2-Y_8ztJZfAMmIybGg', 'alias': 'savi-provisions-inman-park-atlanta', 'name': 'Savi Provisions: Inman Park', 'image_url': 'https://s3-media4.fl.yelpcdn.com/bphoto/aFY0HM8UirCYZpeH_sQvpQ/o.jpg', 'is_closed': False, 'url': 'https://www.yelp.com/biz/savi-provisions-inman-park-atlanta?adjust_creative=snrJLEHqJkQMzzV_Rc2HBw&utm_campaign=yelp_api_v3&utm_medium=api_v3_business_search&utm_source=snrJLEHqJkQMzzV_Rc2HBw', 'review_count': 96, 'categories': [{'alias': 'grocery', 'title': 'Grocery'}, {'alias': 'beer_and_wine', 'title': 'Beer, Wine & Spirits'}], 'rating': 3.5, 'coordinates': {'latitude': 33.762271, 'longitude': -84.357687}, 'transactions': ['pickup', 'delivery'], 'price': '$$', 'location': {'address1': '287 Elizabeth St NE', 'address2': '', 'address3': '', 'city': 'Atlanta', 'zip_code': '30307', 'country': 'US', 'state': 'GA', 'display_address': ['287 Elizabeth St NE', 'Atlanta, GA 30307']}, 'phone': '+14045233131', 'display_phone': '(404) 523-3131', 'distance': 5852.900604014482}, {'id': 'xSSIJxYT7O6a7WW8jslIfg', 'alias': 'savi-provisions-roswell-road-atlanta', 'name': 'Savi Provisions: Roswell Road', 'image_url': 'https://s3-media3.fl.yelpcdn.com/bphoto/jtz8Us-y9_2P_5wDlINQAA/o.jpg', 'is_closed': False, 'url': 'https://www.yelp.com/biz/savi-provisions-roswell-road-atlanta?adjust_creative=snrJLEHqJkQMzzV_Rc2HBw&utm_campaign=yelp_api_v3&utm_medium=api_v3_business_search&utm_source=snrJLEHqJkQMzzV_Rc2HBw', 'review_count': 38, 'categories': [{'alias': 'grocery', 'title': 'Grocery'}, {'alias': 'beer_and_wine', 'title': 'Beer, Wine & Spirits'}], 'rating': 4.0, 'coordinates': {'latitude': 33.86185, 'longitude': -84.38109}, 'transactions': [], 'price': '$$', 'location': {'address1': '3906 Roswell Rd', 'address2': 'Ste C', 'address3': None, 'city': 'Atlanta', 'zip_code': '30342', 'country': 'US', 'state': 'GA', 'display_address': ['3906 Roswell Rd', 'Ste C', 'Atlanta, GA 30342']}, 'phone': '+14045232300', 'display_phone': '(404) 523-2300', 'distance': 5434.616935496212}, {'id': 'o5FxtoMbMulCdvxR2KaXyQ', 'alias': 'the-fresh-market-atlanta-4', 'name': 'The Fresh Market', 'image_url': 'https://s3-media2.fl.yelpcdn.com/bphoto/RqhhgrfgYAoC979908WeJA/o.jpg', 'is_closed': False, 'url': 'https://www.yelp.com/biz/the-fresh-market-atlanta-4?adjust_creative=snrJLEHqJkQMzzV_Rc2HBw&utm_campaign=yelp_api_v3&utm_medium=api_v3_business_search&utm_source=snrJLEHqJkQMzzV_Rc2HBw', 'review_count': 86, 'categories': [{'alias': 'grocery', 'title': 'Grocery'}], 'rating': 3.5, 'coordinates': {'latitude': 33.8121883130727, 'longitude': -84.3913881423279}, 'transactions': [], 'price': '$$', 'location': {'address1': '2099 Peachtree Rd NW', 'address2': None, 'address3': '', 'city': 'Atlanta', 'zip_code': '30309', 'country': 'US', 'state': 'GA', 'display_address': ['2099 Peachtree Rd NW', 'Atlanta, GA 30309']}, 'phone': '+14043503211', 'display_phone': '(404) 350-3211', 'distance': 1644.8852698840374}, {'id': 'nkealkXO_mN9_OfovXwZBw', 'alias': 'publix-atlanta-35', 'name': 'Publix', 'image_url': 'https://s3-media3.fl.yelpcdn.com/bphoto/Vse7OMaGrZZXAdimizj_mA/o.jpg', 'is_closed': False, 'url': 'https://www.yelp.com/biz/publix-atlanta-35?adjust_creative=snrJLEHqJkQMzzV_Rc2HBw&utm_campaign=yelp_api_v3&utm_medium=api_v3_business_search&utm_source=snrJLEHqJkQMzzV_Rc2HBw', 'review_count': 79, 'categories': [{'alias': 'grocery', 'title': 'Grocery'}, {'alias': 'drugstores', 'title': 'Drugstores'}], 'rating': 3.5, 'coordinates': {'latitude': 33.8629321595124, 'longitude': -84.4783971281723}, 'transactions': [], 'price': '$$', 'location': {'address1': '2451 Cumberland Pkwy SE', 'address2': '', 'address3': '', 'city': 'Atlanta', 'zip_code': '30339', 'country': 'US', 'state': 'GA', 'display_address': ['2451 Cumberland Pkwy SE', 'Atlanta, GA 30339']}, 'phone': '+17704377000', 'display_phone': '(770) 437-7000', 'distance': 11144.543601761801}, {'id': 'MaIMxWff_Qn8b2PalLdkYw', 'alias': 'kroger-atlanta-63', 'name': 'Kroger', 'image_url': 'https://s3-media1.fl.yelpcdn.com/bphoto/hlb6XYfJ2Wba-EJLN3ZyDw/o.jpg', 'is_closed': False, 'url': 'https://www.yelp.com/biz/kroger-atlanta-63?adjust_creative=snrJLEHqJkQMzzV_Rc2HBw&utm_campaign=yelp_api_v3&utm_medium=api_v3_business_search&utm_source=snrJLEHqJkQMzzV_Rc2HBw', 'review_count': 93, 'categories': [{'alias': 'grocery', 'title': 'Grocery'}], 'rating': 3.5, 'coordinates': {'latitude': 33.8225260223259, 'longitude': -84.3660154259268}, 'transactions': [], 'price': '$$', 'location': {'address1': '2452 Morosgo Way', 'address2': '', 'address3': None, 'city': 'Atlanta', 'zip_code': '30324', 'country': 'US', 'state': 'GA', 'display_address': ['2452 Morosgo Way', 'Atlanta, GA 30324']}, 'phone': '+14049460438', 'display_phone': '(404) 946-0438', 'distance': 1251.7065036350327}, {'id': 'ug291s7trTxmBb6O6FBb-w', 'alias': 'al-amin-restaurant-atlanta', 'name': 'Al-Amin Restaurant', 'image_url': 'https://s3-media2.fl.yelpcdn.com/bphoto/swqUG5LUZ5j9OMCHZ0XsHg/o.jpg', 'is_closed': False, 'url': 'https://www.yelp.com/biz/al-amin-restaurant-atlanta?adjust_creative=snrJLEHqJkQMzzV_Rc2HBw&utm_campaign=yelp_api_v3&utm_medium=api_v3_business_search&utm_source=snrJLEHqJkQMzzV_Rc2HBw', 'review_count': 75, 'categories': [{'alias': 'bangladeshi', 'title': 'Bangladeshi'}, {'alias': 'grocery', 'title': 'Grocery'}], 'rating': 3.5, 'coordinates': {'latitude': 33.901426, 'longitude': -84.276426}, 'transactions': ['pickup', 'delivery'], 'price': '$', 'location': {'address1': '5466 Buford Hwy NE', 'address2': '', 'address3': '', 'city': 'Atlanta', 'zip_code': '30340', 'country': 'US', 'state': 'GA', 'display_address': ['5466 Buford Hwy NE', 'Atlanta, GA 30340']}, 'phone': '+14703754078', 'display_phone': '(470) 375-4078', 'distance': 13295.536238291947}, {'id': 'Ho9xCRoaQnhz5wyu849hYQ', 'alias': 'publix-atlanta-45', 'name': 'Publix', 'image_url': 'https://s3-media3.fl.yelpcdn.com/bphoto/0TmVMQmCN1toJpVNJRXLuw/o.jpg', 'is_closed': False, 'url': 'https://www.yelp.com/biz/publix-atlanta-45?adjust_creative=snrJLEHqJkQMzzV_Rc2HBw&utm_campaign=yelp_api_v3&utm_medium=api_v3_business_search&utm_source=snrJLEHqJkQMzzV_Rc2HBw', 'review_count': 52, 'categories': [{'alias': 'grocery', 'title': 'Grocery'}], 'rating': 4.0, 'coordinates': {'latitude': 33.81354283063447, 'longitude': -84.31129548894414}, 'transactions': ['delivery'], 'price': '$$', 'location': {'address1': '2969 N Druid Hills Rd NE', 'address2': '', 'address3': '', 'city': 'Atlanta', 'zip_code': '30329', 'country': 'US', 'state': 'GA', 'display_address': ['2969 N Druid Hills Rd NE', 'Atlanta, GA 30329']}, 'phone': '+14046386022', 'display_phone': '(404) 638-6022', 'distance': 5758.692911420744}, {'id': '6W0STWusWqUlIkfaYWlVQQ', 'alias': 'sprouts-farmers-market-atlanta-3', 'name': 'Sprouts Farmers Market', 'image_url': 'https://s3-media1.fl.yelpcdn.com/bphoto/f8yhFViT6W86XXUpYDNTrw/o.jpg', 'is_closed': False, 'url': 'https://www.yelp.com/biz/sprouts-farmers-market-atlanta-3?adjust_creative=snrJLEHqJkQMzzV_Rc2HBw&utm_campaign=yelp_api_v3&utm_medium=api_v3_business_search&utm_source=snrJLEHqJkQMzzV_Rc2HBw', 'review_count': 68, 'categories': [{'alias': 'grocery', 'title': 'Grocery'}, {'alias': 'healthmarkets', 'title': 'Health Markets'}, {'alias': 'organic_stores', 'title': 'Organic Stores'}], 'rating': 3.5, 'coordinates': {'latitude': 33.80681, 'longitude': -84.36631}, 'transactions': [], 'price': '$$', 'location': {'address1': '1845 Piedmont Ave NE', 'address2': 'Ste 500', 'address3': None, 'city': 'Atlanta', 'zip_code': '30324', 'country': 'US', 'state': 'GA', 'display_address': ['1845 Piedmont Ave NE', 'Ste 500', 'Atlanta, GA 30324']}, 'phone': '+14047510605', 'display_phone': '(404) 751-0605', 'distance': 981.7847658906604}, {'id': 'IOidr6TTOVmGprpnTjnAnA', 'alias': 'brito-supermarket-atlanta', 'name': 'Brito Supermarket', 'image_url': 'https://s3-media3.fl.yelpcdn.com/bphoto/DOD5TvkwsLJqW1siNGmRFg/o.jpg', 'is_closed': False, 'url': 'https://www.yelp.com/biz/brito-supermarket-atlanta?adjust_creative=snrJLEHqJkQMzzV_Rc2HBw&utm_campaign=yelp_api_v3&utm_medium=api_v3_business_search&utm_source=snrJLEHqJkQMzzV_Rc2HBw', 'review_count': 22, 'categories': [{'alias': 'grocery', 'title': 'Grocery'}], 'rating': 4.5, 'coordinates': {'latitude': 33.8367958068848, 'longitude': -84.3371734619141}, 'transactions': [], 'price': '$', 'location': {'address1': '3020 Buford Hwy NE', 'address2': '', 'address3': '', 'city': 'Atlanta', 'zip_code': '30329', 'country': 'US', 'state': 'GA', 'display_address': ['3020 Buford Hwy NE', 'Atlanta, GA 30329']}, 'phone': '+14046335005', 'display_phone': '(404) 633-5005', 'distance': 4265.840980331969}], 'total': 148, 'region': {'center': {'longitude': -84.37362670898438, 'latitude': 33.81321311652279}}}]\n"
     ]
    }
   ],
   "source": [
    "reducedCategories = [\"grocery\"]\n",
    "raleighBusinesses = []\n",
    "for category in reducedCategories:\n",
    "    #print(category)\n",
    "    print(url+category)\n",
    "    #print(requests.get(url+category,headers=headers).json())\n",
    "    responses = requests.get(url+category,headers=headers).json()\n",
    "    raleighBusinesses.append(responses)\n",
    "print(raleighBusinesses)\n"
   ]
  },
  {
   "cell_type": "markdown",
   "metadata": {},
   "source": []
  },
  {
   "cell_type": "code",
   "execution_count": 40,
   "metadata": {},
   "outputs": [
    {
     "name": "stdout",
     "output_type": "stream",
     "text": [
      "The name information received is: [\"Little's Food Store and Grill\", \"Trader Joe's\", \"Trader Joe's\", 'Sevananda Natural Foods Market', 'Candler Park Market', 'Whole Foods Market', 'Whole Foods Market - Atlanta', 'Whole Foods Market', \"Bennett's Market & Deli\", 'Grant Park Market', 'Publix', 'Savi Provisions: Inman Park', 'Savi Provisions: Roswell Road', 'The Fresh Market', 'Publix', 'Kroger', 'Al-Amin Restaurant', 'Publix', 'Sprouts Farmers Market', 'Brito Supermarket']\n",
      "The latitude information received is: [-84.36784, -84.3670198, -84.3749849, -84.3486422672868, -84.33349, -84.381148, -84.365756, -84.389, -84.3681524, -84.3708385456637, -84.388785428574, -84.357687, -84.38109, -84.3913881423279, -84.4783971281723, -84.3660154259268, -84.276426, -84.31129548894414, -84.36631, -84.3371734619141]\n",
      "The longitude information received is: [-84.36784, -84.3670198, -84.3749849, -84.3486422672868, -84.33349, -84.381148, -84.365756, -84.389, -84.3681524, -84.3708385456637, -84.388785428574, -84.357687, -84.38109, -84.3913881423279, -84.4783971281723, -84.3660154259268, -84.276426, -84.31129548894414, -84.36631, -84.3371734619141]\n"
     ]
    }
   ],
   "source": [
    "name = []\n",
    "lat = []\n",
    "long = []\n",
    "\n",
    "\n",
    "# Loop through the list of cities and perform a request for data on each\n",
    "category = \"grocery\"\n",
    "y = {0,1,2,3,4,5,6,7,8,9,10,11,12,13,14,15,16,17,18,19}\n",
    "for x in y:\n",
    "    #print(category)\n",
    "    #print(url+category)\n",
    "    #print(requests.get(url+category,headers=headers).json())\n",
    "    responses = requests.get(url+category,headers=headers).json()\n",
    "    \n",
    "    name.append(responses['businesses'][int(x)]['name'])\n",
    "    lat.append(responses['businesses'][int(x)]['coordinates']['longitude'])\n",
    "    long.append(responses['businesses'][int(x)]['coordinates']['longitude'])\n",
    "\n",
    "\n",
    "print(f\"The name information received is: {name}\")\n",
    "print(f\"The latitude information received is: {lat}\")\n",
    "print(f\"The longitude information received is: {long}\")"
   ]
  },
  {
   "cell_type": "code",
   "execution_count": 44,
   "metadata": {},
   "outputs": [
    {
     "data": {
      "text/html": [
       "<div>\n",
       "<style scoped>\n",
       "    .dataframe tbody tr th:only-of-type {\n",
       "        vertical-align: middle;\n",
       "    }\n",
       "\n",
       "    .dataframe tbody tr th {\n",
       "        vertical-align: top;\n",
       "    }\n",
       "\n",
       "    .dataframe thead th {\n",
       "        text-align: right;\n",
       "    }\n",
       "</style>\n",
       "<table border=\"1\" class=\"dataframe\">\n",
       "  <thead>\n",
       "    <tr style=\"text-align: right;\">\n",
       "      <th></th>\n",
       "      <th>Name</th>\n",
       "      <th>Latitude</th>\n",
       "      <th>Longitude</th>\n",
       "    </tr>\n",
       "  </thead>\n",
       "  <tbody>\n",
       "    <tr>\n",
       "      <th>0</th>\n",
       "      <td>Little's Food Store and Grill</td>\n",
       "      <td>-84.367840</td>\n",
       "      <td>-84.367840</td>\n",
       "    </tr>\n",
       "    <tr>\n",
       "      <th>1</th>\n",
       "      <td>Trader Joe's</td>\n",
       "      <td>-84.367020</td>\n",
       "      <td>-84.367020</td>\n",
       "    </tr>\n",
       "    <tr>\n",
       "      <th>2</th>\n",
       "      <td>Trader Joe's</td>\n",
       "      <td>-84.374985</td>\n",
       "      <td>-84.374985</td>\n",
       "    </tr>\n",
       "    <tr>\n",
       "      <th>3</th>\n",
       "      <td>Sevananda Natural Foods Market</td>\n",
       "      <td>-84.348642</td>\n",
       "      <td>-84.348642</td>\n",
       "    </tr>\n",
       "    <tr>\n",
       "      <th>4</th>\n",
       "      <td>Candler Park Market</td>\n",
       "      <td>-84.333490</td>\n",
       "      <td>-84.333490</td>\n",
       "    </tr>\n",
       "    <tr>\n",
       "      <th>5</th>\n",
       "      <td>Whole Foods Market</td>\n",
       "      <td>-84.381148</td>\n",
       "      <td>-84.381148</td>\n",
       "    </tr>\n",
       "    <tr>\n",
       "      <th>6</th>\n",
       "      <td>Whole Foods Market - Atlanta</td>\n",
       "      <td>-84.365756</td>\n",
       "      <td>-84.365756</td>\n",
       "    </tr>\n",
       "    <tr>\n",
       "      <th>7</th>\n",
       "      <td>Whole Foods Market</td>\n",
       "      <td>-84.389000</td>\n",
       "      <td>-84.389000</td>\n",
       "    </tr>\n",
       "    <tr>\n",
       "      <th>8</th>\n",
       "      <td>Bennett's Market &amp; Deli</td>\n",
       "      <td>-84.368152</td>\n",
       "      <td>-84.368152</td>\n",
       "    </tr>\n",
       "    <tr>\n",
       "      <th>9</th>\n",
       "      <td>Grant Park Market</td>\n",
       "      <td>-84.370839</td>\n",
       "      <td>-84.370839</td>\n",
       "    </tr>\n",
       "    <tr>\n",
       "      <th>10</th>\n",
       "      <td>Publix</td>\n",
       "      <td>-84.388785</td>\n",
       "      <td>-84.388785</td>\n",
       "    </tr>\n",
       "    <tr>\n",
       "      <th>11</th>\n",
       "      <td>Savi Provisions: Inman Park</td>\n",
       "      <td>-84.357687</td>\n",
       "      <td>-84.357687</td>\n",
       "    </tr>\n",
       "    <tr>\n",
       "      <th>12</th>\n",
       "      <td>Savi Provisions: Roswell Road</td>\n",
       "      <td>-84.381090</td>\n",
       "      <td>-84.381090</td>\n",
       "    </tr>\n",
       "    <tr>\n",
       "      <th>13</th>\n",
       "      <td>The Fresh Market</td>\n",
       "      <td>-84.391388</td>\n",
       "      <td>-84.391388</td>\n",
       "    </tr>\n",
       "    <tr>\n",
       "      <th>14</th>\n",
       "      <td>Publix</td>\n",
       "      <td>-84.478397</td>\n",
       "      <td>-84.478397</td>\n",
       "    </tr>\n",
       "    <tr>\n",
       "      <th>15</th>\n",
       "      <td>Kroger</td>\n",
       "      <td>-84.366015</td>\n",
       "      <td>-84.366015</td>\n",
       "    </tr>\n",
       "    <tr>\n",
       "      <th>16</th>\n",
       "      <td>Al-Amin Restaurant</td>\n",
       "      <td>-84.276426</td>\n",
       "      <td>-84.276426</td>\n",
       "    </tr>\n",
       "    <tr>\n",
       "      <th>17</th>\n",
       "      <td>Publix</td>\n",
       "      <td>-84.311295</td>\n",
       "      <td>-84.311295</td>\n",
       "    </tr>\n",
       "    <tr>\n",
       "      <th>18</th>\n",
       "      <td>Sprouts Farmers Market</td>\n",
       "      <td>-84.366310</td>\n",
       "      <td>-84.366310</td>\n",
       "    </tr>\n",
       "    <tr>\n",
       "      <th>19</th>\n",
       "      <td>Brito Supermarket</td>\n",
       "      <td>-84.337173</td>\n",
       "      <td>-84.337173</td>\n",
       "    </tr>\n",
       "  </tbody>\n",
       "</table>\n",
       "</div>"
      ],
      "text/plain": [
       "                              Name   Latitude  Longitude\n",
       "0    Little's Food Store and Grill -84.367840 -84.367840\n",
       "1                     Trader Joe's -84.367020 -84.367020\n",
       "2                     Trader Joe's -84.374985 -84.374985\n",
       "3   Sevananda Natural Foods Market -84.348642 -84.348642\n",
       "4              Candler Park Market -84.333490 -84.333490\n",
       "5               Whole Foods Market -84.381148 -84.381148\n",
       "6     Whole Foods Market - Atlanta -84.365756 -84.365756\n",
       "7               Whole Foods Market -84.389000 -84.389000\n",
       "8          Bennett's Market & Deli -84.368152 -84.368152\n",
       "9                Grant Park Market -84.370839 -84.370839\n",
       "10                          Publix -84.388785 -84.388785\n",
       "11     Savi Provisions: Inman Park -84.357687 -84.357687\n",
       "12   Savi Provisions: Roswell Road -84.381090 -84.381090\n",
       "13                The Fresh Market -84.391388 -84.391388\n",
       "14                          Publix -84.478397 -84.478397\n",
       "15                          Kroger -84.366015 -84.366015\n",
       "16              Al-Amin Restaurant -84.276426 -84.276426\n",
       "17                          Publix -84.311295 -84.311295\n",
       "18          Sprouts Farmers Market -84.366310 -84.366310\n",
       "19               Brito Supermarket -84.337173 -84.337173"
      ]
     },
     "execution_count": 44,
     "metadata": {},
     "output_type": "execute_result"
    }
   ],
   "source": [
    "Grocery_df = {\n",
    "    \"Name\": name,\n",
    "    \"Latitude\": lat,\n",
    "    \"Longitude\": long\n",
    "}\n",
    "grocery_data = pd.DataFrame(Grocery_df)\n",
    "grocery_data.head(25)"
   ]
  },
  {
   "cell_type": "code",
   "execution_count": null,
   "metadata": {},
   "outputs": [],
   "source": []
  },
  {
   "cell_type": "code",
   "execution_count": null,
   "metadata": {},
   "outputs": [],
   "source": []
  },
  {
   "cell_type": "code",
   "execution_count": null,
   "metadata": {},
   "outputs": [],
   "source": [
    "\n"
   ]
  },
  {
   "cell_type": "raw",
   "metadata": {},
   "source": []
  }
 ],
 "metadata": {
  "kernelspec": {
   "display_name": "Python 3 (ipykernel)",
   "language": "python",
   "name": "python3"
  },
  "language_info": {
   "codemirror_mode": {
    "name": "ipython",
    "version": 3
   },
   "file_extension": ".py",
   "mimetype": "text/x-python",
   "name": "python",
   "nbconvert_exporter": "python",
   "pygments_lexer": "ipython3",
   "version": "3.9.7"
  },
  "latex_envs": {
   "LaTeX_envs_menu_present": true,
   "autoclose": false,
   "autocomplete": true,
   "bibliofile": "biblio.bib",
   "cite_by": "apalike",
   "current_citInitial": 1,
   "eqLabelWithNumbers": true,
   "eqNumInitial": 1,
   "hotkeys": {
    "equation": "Ctrl-E",
    "itemize": "Ctrl-I"
   },
   "labels_anchors": false,
   "latex_user_defs": false,
   "report_style_numbering": false,
   "user_envs_cfg": false
  }
 },
 "nbformat": 4,
 "nbformat_minor": 4
}
